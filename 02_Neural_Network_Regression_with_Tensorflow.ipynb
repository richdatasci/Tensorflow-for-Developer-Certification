{
  "nbformat": 4,
  "nbformat_minor": 0,
  "metadata": {
    "colab": {
      "provenance": [],
      "collapsed_sections": []
    },
    "kernelspec": {
      "name": "python3",
      "display_name": "Python 3"
    },
    "language_info": {
      "name": "python"
    }
  },
  "cells": [
    {
      "cell_type": "markdown",
      "source": [
        "# Neural Network Regression with Tensorflow"
      ],
      "metadata": {
        "id": "5XuC-7N57FIF"
      }
    },
    {
      "cell_type": "markdown",
      "source": [
        "There are many definitions for a regression problem,  but in our case we are going to simplify it:  prediciting a numerical bvariable based on some other combination of variables."
      ],
      "metadata": {
        "id": "Gj9JBeQRBMF4"
      }
    },
    {
      "cell_type": "code",
      "execution_count": 1,
      "metadata": {
        "colab": {
          "base_uri": "https://localhost:8080/"
        },
        "id": "IHnMjvmY612T",
        "outputId": "2a82e104-623f-46df-be7f-d27efd12a2f8"
      },
      "outputs": [
        {
          "output_type": "stream",
          "name": "stdout",
          "text": [
            "2.9.2\n"
          ]
        }
      ],
      "source": [
        "# import tensorflow\n",
        "import tensorflow as tf\n",
        "print(tf.__version__)"
      ]
    },
    {
      "cell_type": "markdown",
      "source": [
        "## Create data to view and fit"
      ],
      "metadata": {
        "id": "CdvRF6iNCDDZ"
      }
    },
    {
      "cell_type": "code",
      "source": [
        "import numpy as np\n",
        "import matplotlib.pyplot as plt\n",
        "\n",
        "#create features\n",
        "X = np.array([-7.0, -4.0, -1.0, 2.0, 5.0, 8.0, 11.0, 14.0])\n",
        "\n",
        "#create labels\n",
        "y = np.array([3.0, 6.0, 9.0, 12.0, 15.0, 18.0, 21.0, 24.0])\n",
        "\n",
        "#visualise it\n",
        "plt.scatter(X, y)"
      ],
      "metadata": {
        "colab": {
          "base_uri": "https://localhost:8080/",
          "height": 286
        },
        "id": "s1t3jC7wCGGn",
        "outputId": "c23bdc28-bccd-488a-8657-4436775a43d7"
      },
      "execution_count": 2,
      "outputs": [
        {
          "output_type": "execute_result",
          "data": {
            "text/plain": [
              "<matplotlib.collections.PathCollection at 0x7f7ebc9b3790>"
            ]
          },
          "metadata": {},
          "execution_count": 2
        },
        {
          "output_type": "display_data",
          "data": {
            "text/plain": [
              "<Figure size 432x288 with 1 Axes>"
            ],
            "image/png": "[encoded data removed]"
          },
          "metadata": {
            "needs_background": "light"
          }
        }
      ]
    },
    {
      "cell_type": "markdown",
      "source": [
        "## Input and output shapes"
      ],
      "metadata": {
        "id": "nRLODDN3C3hB"
      }
    },
    {
      "cell_type": "code",
      "source": [
        "# create a demo tensor for our housing price prediction problem\n",
        "\n",
        "house_info = tf.constant([\"bedroom\", \"bathroom\", \"garage\"])\n",
        "house_price = tf.constant([250000])\n",
        "house_info, house_price"
      ],
      "metadata": {
        "colab": {
          "base_uri": "https://localhost:8080/"
        },
        "id": "jkEXLOGgChIN",
        "outputId": "b13a6674-1c23-4dcd-e228-e14354593aa9"
      },
      "execution_count": 3,
      "outputs": [
        {
          "output_type": "execute_result",
          "data": {
            "text/plain": [
              "(<tf.Tensor: shape=(3,), dtype=string, numpy=array([b'bedroom', b'bathroom', b'garage'], dtype=object)>,\n",
              " <tf.Tensor: shape=(1,), dtype=int32, numpy=array([250000], dtype=int32)>)"
            ]
          },
          "metadata": {},
          "execution_count": 3
        }
      ]
    },
    {
      "cell_type": "code",
      "source": [
        "input_shape = X.shape\n",
        "output_shape = y.shape\n",
        "\n",
        "input_shape, output_shape"
      ],
      "metadata": {
        "colab": {
          "base_uri": "https://localhost:8080/"
        },
        "id": "f_xn9nxxDY0W",
        "outputId": "395b245a-f8d7-40df-c0e8-2a5347b68f02"
      },
      "execution_count": 4,
      "outputs": [
        {
          "output_type": "execute_result",
          "data": {
            "text/plain": [
              "((8,), (8,))"
            ]
          },
          "metadata": {},
          "execution_count": 4
        }
      ]
    },
    {
      "cell_type": "code",
      "source": [
        "X[0], y[0]"
      ],
      "metadata": {
        "colab": {
          "base_uri": "https://localhost:8080/"
        },
        "id": "J-pzb7bBDjLO",
        "outputId": "4799822a-bf85-4f2d-a892-5a6ce66af053"
      },
      "execution_count": 5,
      "outputs": [
        {
          "output_type": "execute_result",
          "data": {
            "text/plain": [
              "(-7.0, 3.0)"
            ]
          },
          "metadata": {},
          "execution_count": 5
        }
      ]
    },
    {
      "cell_type": "code",
      "source": [
        "input_shape = X[0].shape\n",
        "output_shape = y[0].shape\n",
        "\n",
        "input_shape, output_shape"
      ],
      "metadata": {
        "colab": {
          "base_uri": "https://localhost:8080/"
        },
        "id": "PrPdXZDvD1fY",
        "outputId": "740a499d-5434-4ffc-849d-27a3342815d5"
      },
      "execution_count": 6,
      "outputs": [
        {
          "output_type": "execute_result",
          "data": {
            "text/plain": [
              "((), ())"
            ]
          },
          "metadata": {},
          "execution_count": 6
        }
      ]
    },
    {
      "cell_type": "code",
      "source": [
        "X[0].ndim"
      ],
      "metadata": {
        "colab": {
          "base_uri": "https://localhost:8080/"
        },
        "id": "yRtvhFhkD5eW",
        "outputId": "a23aab88-9df0-4f97-f891-fd97337327f2"
      },
      "execution_count": 7,
      "outputs": [
        {
          "output_type": "execute_result",
          "data": {
            "text/plain": [
              "0"
            ]
          },
          "metadata": {},
          "execution_count": 7
        }
      ]
    },
    {
      "cell_type": "code",
      "source": [
        "# turn our numpy arrasy into tensors\n",
        "\n",
        "X = tf.constant(X)\n",
        "y = tf.constant(y)"
      ],
      "metadata": {
        "id": "pqlS7unlEqNK"
      },
      "execution_count": 8,
      "outputs": []
    },
    {
      "cell_type": "code",
      "source": [
        "X, y"
      ],
      "metadata": {
        "colab": {
          "base_uri": "https://localhost:8080/"
        },
        "id": "J9tWWkriLwOM",
        "outputId": "13077be0-b8e8-41d7-8524-b92b67c2bd0e"
      },
      "execution_count": 9,
      "outputs": [
        {
          "output_type": "execute_result",
          "data": {
            "text/plain": [
              "(<tf.Tensor: shape=(8,), dtype=float64, numpy=array([-7., -4., -1.,  2.,  5.,  8., 11., 14.])>,\n",
              " <tf.Tensor: shape=(8,), dtype=float64, numpy=array([ 3.,  6.,  9., 12., 15., 18., 21., 24.])>)"
            ]
          },
          "metadata": {},
          "execution_count": 9
        }
      ]
    },
    {
      "cell_type": "code",
      "source": [
        "input_shape = X[0].shape\n",
        "output_shape = y[0].shape\n",
        "\n",
        "input_shape, output_shape"
      ],
      "metadata": {
        "colab": {
          "base_uri": "https://localhost:8080/"
        },
        "id": "ymdIzwRuLzwz",
        "outputId": "0957413c-7a39-4e37-ce90-77c6c58678f6"
      },
      "execution_count": 10,
      "outputs": [
        {
          "output_type": "execute_result",
          "data": {
            "text/plain": [
              "(TensorShape([]), TensorShape([]))"
            ]
          },
          "metadata": {},
          "execution_count": 10
        }
      ]
    },
    {
      "cell_type": "markdown",
      "source": [
        "## Steps in modelling with tensorflow\n",
        "\n",
        "- Creating a model - define the input and output layers as well as the hidden layers of a deep learning model\n",
        "- Compling a model - define the loss function, optimizer and evaluation metrics\n",
        "- Fitting a model - letting the model try to find patterns between X and y (features and labels)"
      ],
      "metadata": {
        "id": "IUs9CbpUMGeF"
      }
    },
    {
      "cell_type": "code",
      "source": [
        "# set a random seed\n",
        "\n",
        "tf.random.set_seed(42)\n",
        "\n",
        "# 1. Create a model using Sequential API\n",
        "model = tf.keras.Sequential()\n",
        "model.add(tf.keras.layers.Dense(1))\n",
        "\n",
        "\n",
        "# 2. Compile the model \n",
        "model.compile(loss = tf.keras.losses.mae, \n",
        "              optimizer = tf.keras.optimizers.SGD(),\n",
        "              metrics=[\"mae\"])\n",
        "\n",
        "# 3. Fit the model\n",
        "model.fit(tf.expand_dims(X, axis=-1), y, epochs=5)"
      ],
      "metadata": {
        "id": "5p72AxLtL8oh",
        "colab": {
          "base_uri": "https://localhost:8080/"
        },
        "outputId": "bf211ca2-0ee7-499a-8b76-8cd1d898a580"
      },
      "execution_count": 11,
      "outputs": [
        {
          "output_type": "stream",
          "name": "stdout",
          "text": [
            "Epoch 1/5\n",
            "1/1 [==============================] - 1s 610ms/step - loss: 11.5048 - mae: 11.5048\n",
            "Epoch 2/5\n",
            "1/1 [==============================] - 0s 10ms/step - loss: 11.3723 - mae: 11.3723\n",
            "Epoch 3/5\n",
            "1/1 [==============================] - 0s 10ms/step - loss: 11.2398 - mae: 11.2398\n",
            "Epoch 4/5\n",
            "1/1 [==============================] - 0s 7ms/step - loss: 11.1073 - mae: 11.1073\n",
            "Epoch 5/5\n",
            "1/1 [==============================] - 0s 8ms/step - loss: 10.9748 - mae: 10.9748\n"
          ]
        },
        {
          "output_type": "execute_result",
          "data": {
            "text/plain": [
              "<keras.callbacks.History at 0x7f7eb7f04510>"
            ]
          },
          "metadata": {},
          "execution_count": 11
        }
      ]
    },
    {
      "cell_type": "code",
      "source": [
        "# try and make a prediction with the model\n",
        "\n",
        "y_pred = model.predict([17.0])"
      ],
      "metadata": {
        "id": "gIB1wKtGfZ0M",
        "colab": {
          "base_uri": "https://localhost:8080/"
        },
        "outputId": "647de1d0-9664-4fba-aec1-5b9a4d9b82ee"
      },
      "execution_count": 12,
      "outputs": [
        {
          "output_type": "stream",
          "name": "stdout",
          "text": [
            "1/1 [==============================] - 0s 95ms/step\n"
          ]
        }
      ]
    },
    {
      "cell_type": "code",
      "source": [
        "y_pred + 11"
      ],
      "metadata": {
        "colab": {
          "base_uri": "https://localhost:8080/"
        },
        "id": "Q4ocSNzhffVZ",
        "outputId": "be2556a6-c2c3-456d-d44b-ad60d17921cc"
      },
      "execution_count": 13,
      "outputs": [
        {
          "output_type": "execute_result",
          "data": {
            "text/plain": [
              "array([[23.71602]], dtype=float32)"
            ]
          },
          "metadata": {},
          "execution_count": 13
        }
      ]
    },
    {
      "cell_type": "markdown",
      "source": [
        "## Improving the model\n",
        "\n",
        "We can improve the model by altering the steps we took to create a model. \n",
        "\n",
        "- Create:  maybe add more layers, increase the neurons and perhaps change the activation functions of each player\n",
        "- Compile: here we might change the optimization function,  or perhaps the learning rate of the optimizer \n",
        "- Fitting: here we might fit a model for more epochs or on more data. "
      ],
      "metadata": {
        "id": "STEQE78Sf10-"
      }
    },
    {
      "cell_type": "code",
      "source": [
        "# let's rebuild the model and first,  increase the epochs\n",
        "# set a random seed\n",
        "\n",
        "tf.random.set_seed(42)\n",
        "\n",
        "# 1. Create a model using Sequential API\n",
        "model = tf.keras.Sequential()\n",
        "model.add(tf.keras.layers.Dense(1))\n",
        "\n",
        "\n",
        "# 2. Compile the model \n",
        "model.compile(loss = tf.keras.losses.mae, \n",
        "              optimizer = tf.keras.optimizers.SGD(),\n",
        "              metrics=[\"mae\"])\n",
        "\n",
        "# 3. Fit the model\n",
        "model.fit(tf.expand_dims(X, axis=-1), y, epochs=100)"
      ],
      "metadata": {
        "colab": {
          "base_uri": "https://localhost:8080/"
        },
        "id": "5EH47x89fvPy",
        "outputId": "cb33e7f9-6dcb-474e-c2b5-3ed8b0fec113"
      },
      "execution_count": 14,
      "outputs": [
        {
          "output_type": "stream",
          "name": "stdout",
          "text": [
            "Epoch 1/100\n",
            "1/1 [==============================] - 0s 317ms/step - loss: 11.5048 - mae: 11.5048\n",
            "Epoch 2/100\n",
            "1/1 [==============================] - 0s 10ms/step - loss: 11.3723 - mae: 11.3723\n",
            "Epoch 3/100\n",
            "1/1 [==============================] - 0s 7ms/step - loss: 11.2398 - mae: 11.2398\n",
            "Epoch 4/100\n",
            "1/1 [==============================] - 0s 11ms/step - loss: 11.1073 - mae: 11.1073\n",
            "Epoch 5/100\n",
            "1/1 [==============================] - 0s 7ms/step - loss: 10.9748 - mae: 10.9748\n",
            "Epoch 6/100\n",
            "1/1 [==============================] - 0s 11ms/step - loss: 10.8423 - mae: 10.8423\n",
            "Epoch 7/100\n",
            "1/1 [==============================] - 0s 12ms/step - loss: 10.7098 - mae: 10.7098\n",
            "Epoch 8/100\n",
            "1/1 [==============================] - 0s 10ms/step - loss: 10.5773 - mae: 10.5773\n",
            "Epoch 9/100\n",
            "1/1 [==============================] - 0s 8ms/step - loss: 10.4448 - mae: 10.4448\n",
            "Epoch 10/100\n",
            "1/1 [==============================] - 0s 7ms/step - loss: 10.3123 - mae: 10.3123\n",
            "Epoch 11/100\n",
            "1/1 [==============================] - 0s 7ms/step - loss: 10.1798 - mae: 10.1798\n",
            "Epoch 12/100\n",
            "1/1 [==============================] - 0s 10ms/step - loss: 10.0473 - mae: 10.0473\n",
            "Epoch 13/100\n",
            "1/1 [==============================] - 0s 9ms/step - loss: 9.9148 - mae: 9.9148\n",
            "Epoch 14/100\n",
            "1/1 [==============================] - 0s 10ms/step - loss: 9.7823 - mae: 9.7823\n",
            "Epoch 15/100\n",
            "1/1 [==============================] - 0s 9ms/step - loss: 9.6498 - mae: 9.6498\n",
            "Epoch 16/100\n",
            "1/1 [==============================] - 0s 9ms/step - loss: 9.5173 - mae: 9.5173\n",
            "Epoch 17/100\n",
            "1/1 [==============================] - 0s 9ms/step - loss: 9.3848 - mae: 9.3848\n",
            "Epoch 18/100\n",
            "1/1 [==============================] - 0s 9ms/step - loss: 9.2523 - mae: 9.2523\n",
            "Epoch 19/100\n",
            "1/1 [==============================] - 0s 9ms/step - loss: 9.1198 - mae: 9.1198\n",
            "Epoch 20/100\n",
            "1/1 [==============================] - 0s 11ms/step - loss: 8.9873 - mae: 8.9873\n",
            "Epoch 21/100\n",
            "1/1 [==============================] - 0s 8ms/step - loss: 8.8548 - mae: 8.8548\n",
            "Epoch 22/100\n",
            "1/1 [==============================] - 0s 9ms/step - loss: 8.7223 - mae: 8.7223\n",
            "Epoch 23/100\n",
            "1/1 [==============================] - 0s 9ms/step - loss: 8.5898 - mae: 8.5898\n",
            "Epoch 24/100\n",
            "1/1 [==============================] - 0s 8ms/step - loss: 8.4573 - mae: 8.4573\n",
            "Epoch 25/100\n",
            "1/1 [==============================] - 0s 9ms/step - loss: 8.3248 - mae: 8.3248\n",
            "Epoch 26/100\n",
            "1/1 [==============================] - 0s 9ms/step - loss: 8.1923 - mae: 8.1923\n",
            "Epoch 27/100\n",
            "1/1 [==============================] - 0s 9ms/step - loss: 8.0598 - mae: 8.0598\n",
            "Epoch 28/100\n",
            "1/1 [==============================] - 0s 9ms/step - loss: 7.9273 - mae: 7.9273\n",
            "Epoch 29/100\n",
            "1/1 [==============================] - 0s 9ms/step - loss: 7.7948 - mae: 7.7948\n",
            "Epoch 30/100\n",
            "1/1 [==============================] - 0s 9ms/step - loss: 7.6623 - mae: 7.6623\n",
            "Epoch 31/100\n",
            "1/1 [==============================] - 0s 13ms/step - loss: 7.5298 - mae: 7.5298\n",
            "Epoch 32/100\n",
            "1/1 [==============================] - 0s 9ms/step - loss: 7.3973 - mae: 7.3973\n",
            "Epoch 33/100\n",
            "1/1 [==============================] - 0s 8ms/step - loss: 7.2648 - mae: 7.2648\n",
            "Epoch 34/100\n",
            "1/1 [==============================] - 0s 10ms/step - loss: 7.2525 - mae: 7.2525\n",
            "Epoch 35/100\n",
            "1/1 [==============================] - 0s 28ms/step - loss: 7.2469 - mae: 7.2469\n",
            "Epoch 36/100\n",
            "1/1 [==============================] - 0s 7ms/step - loss: 7.2413 - mae: 7.2413\n",
            "Epoch 37/100\n",
            "1/1 [==============================] - 0s 6ms/step - loss: 7.2356 - mae: 7.2356\n",
            "Epoch 38/100\n",
            "1/1 [==============================] - 0s 8ms/step - loss: 7.2300 - mae: 7.2300\n",
            "Epoch 39/100\n",
            "1/1 [==============================] - 0s 10ms/step - loss: 7.2244 - mae: 7.2244\n",
            "Epoch 40/100\n",
            "1/1 [==============================] - 0s 11ms/step - loss: 7.2188 - mae: 7.2188\n",
            "Epoch 41/100\n",
            "1/1 [==============================] - 0s 8ms/step - loss: 7.2131 - mae: 7.2131\n",
            "Epoch 42/100\n",
            "1/1 [==============================] - 0s 6ms/step - loss: 7.2075 - mae: 7.2075\n",
            "Epoch 43/100\n",
            "1/1 [==============================] - 0s 6ms/step - loss: 7.2019 - mae: 7.2019\n",
            "Epoch 44/100\n",
            "1/1 [==============================] - 0s 6ms/step - loss: 7.1963 - mae: 7.1963\n",
            "Epoch 45/100\n",
            "1/1 [==============================] - 0s 10ms/step - loss: 7.1906 - mae: 7.1906\n",
            "Epoch 46/100\n",
            "1/1 [==============================] - 0s 12ms/step - loss: 7.1850 - mae: 7.1850\n",
            "Epoch 47/100\n",
            "1/1 [==============================] - 0s 7ms/step - loss: 7.1794 - mae: 7.1794\n",
            "Epoch 48/100\n",
            "1/1 [==============================] - 0s 7ms/step - loss: 7.1738 - mae: 7.1738\n",
            "Epoch 49/100\n",
            "1/1 [==============================] - 0s 11ms/step - loss: 7.1681 - mae: 7.1681\n",
            "Epoch 50/100\n",
            "1/1 [==============================] - 0s 6ms/step - loss: 7.1625 - mae: 7.1625\n",
            "Epoch 51/100\n",
            "1/1 [==============================] - 0s 6ms/step - loss: 7.1569 - mae: 7.1569\n",
            "Epoch 52/100\n",
            "1/1 [==============================] - 0s 6ms/step - loss: 7.1512 - mae: 7.1512\n",
            "Epoch 53/100\n",
            "1/1 [==============================] - 0s 13ms/step - loss: 7.1456 - mae: 7.1456\n",
            "Epoch 54/100\n",
            "1/1 [==============================] - 0s 11ms/step - loss: 7.1400 - mae: 7.1400\n",
            "Epoch 55/100\n",
            "1/1 [==============================] - 0s 14ms/step - loss: 7.1344 - mae: 7.1344\n",
            "Epoch 56/100\n",
            "1/1 [==============================] - 0s 8ms/step - loss: 7.1287 - mae: 7.1287\n",
            "Epoch 57/100\n",
            "1/1 [==============================] - 0s 6ms/step - loss: 7.1231 - mae: 7.1231\n",
            "Epoch 58/100\n",
            "1/1 [==============================] - 0s 6ms/step - loss: 7.1175 - mae: 7.1175\n",
            "Epoch 59/100\n",
            "1/1 [==============================] - 0s 7ms/step - loss: 7.1119 - mae: 7.1119\n",
            "Epoch 60/100\n",
            "1/1 [==============================] - 0s 9ms/step - loss: 7.1063 - mae: 7.1063\n",
            "Epoch 61/100\n",
            "1/1 [==============================] - 0s 6ms/step - loss: 7.1006 - mae: 7.1006\n",
            "Epoch 62/100\n",
            "1/1 [==============================] - 0s 7ms/step - loss: 7.0950 - mae: 7.0950\n",
            "Epoch 63/100\n",
            "1/1 [==============================] - 0s 8ms/step - loss: 7.0894 - mae: 7.0894\n",
            "Epoch 64/100\n",
            "1/1 [==============================] - 0s 6ms/step - loss: 7.0838 - mae: 7.0838\n",
            "Epoch 65/100\n",
            "1/1 [==============================] - 0s 8ms/step - loss: 7.0781 - mae: 7.0781\n",
            "Epoch 66/100\n",
            "1/1 [==============================] - 0s 10ms/step - loss: 7.0725 - mae: 7.0725\n",
            "Epoch 67/100\n",
            "1/1 [==============================] - 0s 12ms/step - loss: 7.0669 - mae: 7.0669\n",
            "Epoch 68/100\n",
            "1/1 [==============================] - 0s 8ms/step - loss: 7.0613 - mae: 7.0613\n",
            "Epoch 69/100\n",
            "1/1 [==============================] - 0s 13ms/step - loss: 7.0556 - mae: 7.0556\n",
            "Epoch 70/100\n",
            "1/1 [==============================] - 0s 9ms/step - loss: 7.0500 - mae: 7.0500\n",
            "Epoch 71/100\n",
            "1/1 [==============================] - 0s 8ms/step - loss: 7.0444 - mae: 7.0444\n",
            "Epoch 72/100\n",
            "1/1 [==============================] - 0s 6ms/step - loss: 7.0388 - mae: 7.0388\n",
            "Epoch 73/100\n",
            "1/1 [==============================] - 0s 7ms/step - loss: 7.0331 - mae: 7.0331\n",
            "Epoch 74/100\n",
            "1/1 [==============================] - 0s 8ms/step - loss: 7.0275 - mae: 7.0275\n",
            "Epoch 75/100\n",
            "1/1 [==============================] - 0s 7ms/step - loss: 7.0219 - mae: 7.0219\n",
            "Epoch 76/100\n",
            "1/1 [==============================] - 0s 11ms/step - loss: 7.0163 - mae: 7.0163\n",
            "Epoch 77/100\n",
            "1/1 [==============================] - 0s 10ms/step - loss: 7.0106 - mae: 7.0106\n",
            "Epoch 78/100\n",
            "1/1 [==============================] - 0s 11ms/step - loss: 7.0050 - mae: 7.0050\n",
            "Epoch 79/100\n",
            "1/1 [==============================] - 0s 10ms/step - loss: 6.9994 - mae: 6.9994\n",
            "Epoch 80/100\n",
            "1/1 [==============================] - 0s 9ms/step - loss: 6.9938 - mae: 6.9938\n",
            "Epoch 81/100\n",
            "1/1 [==============================] - 0s 10ms/step - loss: 6.9881 - mae: 6.9881\n",
            "Epoch 82/100\n",
            "1/1 [==============================] - 0s 8ms/step - loss: 6.9825 - mae: 6.9825\n",
            "Epoch 83/100\n",
            "1/1 [==============================] - 0s 7ms/step - loss: 6.9769 - mae: 6.9769\n",
            "Epoch 84/100\n",
            "1/1 [==============================] - 0s 8ms/step - loss: 6.9713 - mae: 6.9713\n",
            "Epoch 85/100\n",
            "1/1 [==============================] - 0s 8ms/step - loss: 6.9656 - mae: 6.9656\n",
            "Epoch 86/100\n",
            "1/1 [==============================] - 0s 8ms/step - loss: 6.9600 - mae: 6.9600\n",
            "Epoch 87/100\n",
            "1/1 [==============================] - 0s 11ms/step - loss: 6.9544 - mae: 6.9544\n",
            "Epoch 88/100\n",
            "1/1 [==============================] - 0s 7ms/step - loss: 6.9488 - mae: 6.9488\n",
            "Epoch 89/100\n",
            "1/1 [==============================] - 0s 9ms/step - loss: 6.9431 - mae: 6.9431\n",
            "Epoch 90/100\n",
            "1/1 [==============================] - 0s 9ms/step - loss: 6.9375 - mae: 6.9375\n",
            "Epoch 91/100\n",
            "1/1 [==============================] - 0s 13ms/step - loss: 6.9319 - mae: 6.9319\n",
            "Epoch 92/100\n",
            "1/1 [==============================] - 0s 10ms/step - loss: 6.9263 - mae: 6.9263\n",
            "Epoch 93/100\n",
            "1/1 [==============================] - 0s 11ms/step - loss: 6.9206 - mae: 6.9206\n",
            "Epoch 94/100\n",
            "1/1 [==============================] - 0s 10ms/step - loss: 6.9150 - mae: 6.9150\n",
            "Epoch 95/100\n",
            "1/1 [==============================] - 0s 7ms/step - loss: 6.9094 - mae: 6.9094\n",
            "Epoch 96/100\n",
            "1/1 [==============================] - 0s 7ms/step - loss: 6.9038 - mae: 6.9038\n",
            "Epoch 97/100\n",
            "1/1 [==============================] - 0s 8ms/step - loss: 6.8981 - mae: 6.8981\n",
            "Epoch 98/100\n",
            "1/1 [==============================] - 0s 11ms/step - loss: 6.8925 - mae: 6.8925\n",
            "Epoch 99/100\n",
            "1/1 [==============================] - 0s 10ms/step - loss: 6.8869 - mae: 6.8869\n",
            "Epoch 100/100\n",
            "1/1 [==============================] - 0s 6ms/step - loss: 6.8813 - mae: 6.8813\n"
          ]
        },
        {
          "output_type": "execute_result",
          "data": {
            "text/plain": [
              "<keras.callbacks.History at 0x7f7eb6629410>"
            ]
          },
          "metadata": {},
          "execution_count": 14
        }
      ]
    },
    {
      "cell_type": "code",
      "source": [
        "y_pred = model.predict([17.0])\n",
        "y_pred"
      ],
      "metadata": {
        "colab": {
          "base_uri": "https://localhost:8080/"
        },
        "id": "2FvHnurkjOo2",
        "outputId": "5e4c04e3-d3bf-4776-898d-4690c31957fc"
      },
      "execution_count": 15,
      "outputs": [
        {
          "output_type": "stream",
          "name": "stdout",
          "text": [
            "1/1 [==============================] - 0s 248ms/step\n"
          ]
        },
        {
          "output_type": "execute_result",
          "data": {
            "text/plain": [
              "array([[30.158512]], dtype=float32)"
            ]
          },
          "metadata": {},
          "execution_count": 15
        }
      ]
    },
    {
      "cell_type": "code",
      "source": [
        "# let's rebuild the model and first\n",
        "# increase layer units & activation\n",
        "# set a random seed\n",
        "\n",
        "tf.random.set_seed(42)\n",
        "\n",
        "# 1. Create a model using Sequential API\n",
        "model = tf.keras.Sequential()\n",
        "model.add(tf.keras.layers.Dense(100, activation=\"relu\"))\n",
        "model.add(tf.keras.layers.Dense(1))\n",
        "\n",
        "\n",
        "# 2. Compile the model \n",
        "model.compile(loss = tf.keras.losses.mae, \n",
        "              optimizer = tf.keras.optimizers.SGD(),\n",
        "              metrics=[\"mae\"])\n",
        "\n",
        "# 3. Fit the model\n",
        "model.fit(tf.expand_dims(X, axis=-1), y, epochs=100)"
      ],
      "metadata": {
        "id": "oMBqb9p_jR5H",
        "colab": {
          "base_uri": "https://localhost:8080/"
        },
        "outputId": "53edc496-0681-43f0-d50e-da292ce01fa2"
      },
      "execution_count": 16,
      "outputs": [
        {
          "output_type": "stream",
          "name": "stdout",
          "text": [
            "Epoch 1/100\n",
            "1/1 [==============================] - 1s 691ms/step - loss: 12.3185 - mae: 12.3185\n",
            "Epoch 2/100\n",
            "1/1 [==============================] - 0s 9ms/step - loss: 11.7696 - mae: 11.7696\n",
            "Epoch 3/100\n",
            "1/1 [==============================] - 0s 7ms/step - loss: 11.2132 - mae: 11.2132\n",
            "Epoch 4/100\n",
            "1/1 [==============================] - 0s 9ms/step - loss: 10.6444 - mae: 10.6444\n",
            "Epoch 5/100\n",
            "1/1 [==============================] - 0s 7ms/step - loss: 10.0534 - mae: 10.0534\n",
            "Epoch 6/100\n",
            "1/1 [==============================] - 0s 6ms/step - loss: 9.4344 - mae: 9.4344\n",
            "Epoch 7/100\n",
            "1/1 [==============================] - 0s 10ms/step - loss: 8.7821 - mae: 8.7821\n",
            "Epoch 8/100\n",
            "1/1 [==============================] - 0s 12ms/step - loss: 8.0881 - mae: 8.0881\n",
            "Epoch 9/100\n",
            "1/1 [==============================] - 0s 10ms/step - loss: 7.3552 - mae: 7.3552\n",
            "Epoch 10/100\n",
            "1/1 [==============================] - 0s 11ms/step - loss: 6.5787 - mae: 6.5787\n",
            "Epoch 11/100\n",
            "1/1 [==============================] - 0s 17ms/step - loss: 5.7437 - mae: 5.7437\n",
            "Epoch 12/100\n",
            "1/1 [==============================] - 0s 11ms/step - loss: 4.8395 - mae: 4.8395\n",
            "Epoch 13/100\n",
            "1/1 [==============================] - 0s 15ms/step - loss: 4.1104 - mae: 4.1104\n",
            "Epoch 14/100\n",
            "1/1 [==============================] - 0s 10ms/step - loss: 4.0143 - mae: 4.0143\n",
            "Epoch 15/100\n",
            "1/1 [==============================] - 0s 11ms/step - loss: 3.9156 - mae: 3.9156\n",
            "Epoch 16/100\n",
            "1/1 [==============================] - 0s 9ms/step - loss: 3.9722 - mae: 3.9722\n",
            "Epoch 17/100\n",
            "1/1 [==============================] - 0s 15ms/step - loss: 3.9044 - mae: 3.9044\n",
            "Epoch 18/100\n",
            "1/1 [==============================] - 0s 7ms/step - loss: 3.9636 - mae: 3.9636\n",
            "Epoch 19/100\n",
            "1/1 [==============================] - 0s 7ms/step - loss: 3.9191 - mae: 3.9191\n",
            "Epoch 20/100\n",
            "1/1 [==============================] - 0s 7ms/step - loss: 3.9452 - mae: 3.9452\n",
            "Epoch 21/100\n",
            "1/1 [==============================] - 0s 9ms/step - loss: 3.9259 - mae: 3.9259\n",
            "Epoch 22/100\n",
            "1/1 [==============================] - 0s 9ms/step - loss: 3.9194 - mae: 3.9194\n",
            "Epoch 23/100\n",
            "1/1 [==============================] - 0s 7ms/step - loss: 3.9328 - mae: 3.9328\n",
            "Epoch 24/100\n",
            "1/1 [==============================] - 0s 8ms/step - loss: 3.8934 - mae: 3.8934\n",
            "Epoch 25/100\n",
            "1/1 [==============================] - 0s 9ms/step - loss: 3.9399 - mae: 3.9399\n",
            "Epoch 26/100\n",
            "1/1 [==============================] - 0s 7ms/step - loss: 3.8726 - mae: 3.8726\n",
            "Epoch 27/100\n",
            "1/1 [==============================] - 0s 8ms/step - loss: 3.9469 - mae: 3.9469\n",
            "Epoch 28/100\n",
            "1/1 [==============================] - 0s 10ms/step - loss: 3.8875 - mae: 3.8875\n",
            "Epoch 29/100\n",
            "1/1 [==============================] - 0s 7ms/step - loss: 3.9223 - mae: 3.9223\n",
            "Epoch 30/100\n",
            "1/1 [==============================] - 0s 7ms/step - loss: 3.8945 - mae: 3.8945\n",
            "Epoch 31/100\n",
            "1/1 [==============================] - 0s 8ms/step - loss: 3.8962 - mae: 3.8962\n",
            "Epoch 32/100\n",
            "1/1 [==============================] - 0s 10ms/step - loss: 3.9016 - mae: 3.9016\n",
            "Epoch 33/100\n",
            "1/1 [==============================] - 0s 7ms/step - loss: 3.8700 - mae: 3.8700\n",
            "Epoch 34/100\n",
            "1/1 [==============================] - 0s 7ms/step - loss: 3.9089 - mae: 3.9089\n",
            "Epoch 35/100\n",
            "1/1 [==============================] - 0s 6ms/step - loss: 3.8473 - mae: 3.8473\n",
            "Epoch 36/100\n",
            "1/1 [==============================] - 0s 21ms/step - loss: 3.9242 - mae: 3.9242\n",
            "Epoch 37/100\n",
            "1/1 [==============================] - 0s 10ms/step - loss: 3.8570 - mae: 3.8570\n",
            "Epoch 38/100\n",
            "1/1 [==============================] - 0s 8ms/step - loss: 3.8981 - mae: 3.8981\n",
            "Epoch 39/100\n",
            "1/1 [==============================] - 0s 8ms/step - loss: 3.8642 - mae: 3.8642\n",
            "Epoch 40/100\n",
            "1/1 [==============================] - 0s 10ms/step - loss: 3.8718 - mae: 3.8718\n",
            "Epoch 41/100\n",
            "1/1 [==============================] - 0s 8ms/step - loss: 3.8715 - mae: 3.8715\n",
            "Epoch 42/100\n",
            "1/1 [==============================] - 0s 8ms/step - loss: 3.8453 - mae: 3.8453\n",
            "Epoch 43/100\n",
            "1/1 [==============================] - 0s 8ms/step - loss: 3.8800 - mae: 3.8800\n",
            "Epoch 44/100\n",
            "1/1 [==============================] - 0s 8ms/step - loss: 3.8260 - mae: 3.8260\n",
            "Epoch 45/100\n",
            "1/1 [==============================] - 0s 8ms/step - loss: 3.8944 - mae: 3.8944\n",
            "Epoch 46/100\n",
            "1/1 [==============================] - 0s 8ms/step - loss: 3.8276 - mae: 3.8276\n",
            "Epoch 47/100\n",
            "1/1 [==============================] - 0s 7ms/step - loss: 3.8726 - mae: 3.8726\n",
            "Epoch 48/100\n",
            "1/1 [==============================] - 0s 8ms/step - loss: 3.8350 - mae: 3.8350\n",
            "Epoch 49/100\n",
            "1/1 [==============================] - 0s 8ms/step - loss: 3.8461 - mae: 3.8461\n",
            "Epoch 50/100\n",
            "1/1 [==============================] - 0s 8ms/step - loss: 3.8426 - mae: 3.8426\n",
            "Epoch 51/100\n",
            "1/1 [==============================] - 0s 7ms/step - loss: 3.8194 - mae: 3.8194\n",
            "Epoch 52/100\n",
            "1/1 [==============================] - 0s 10ms/step - loss: 3.8563 - mae: 3.8563\n",
            "Epoch 53/100\n",
            "1/1 [==============================] - 0s 7ms/step - loss: 3.7997 - mae: 3.7997\n",
            "Epoch 54/100\n",
            "1/1 [==============================] - 0s 9ms/step - loss: 3.8659 - mae: 3.8659\n",
            "Epoch 55/100\n",
            "1/1 [==============================] - 0s 7ms/step - loss: 3.7994 - mae: 3.7994\n",
            "Epoch 56/100\n",
            "1/1 [==============================] - 0s 8ms/step - loss: 3.8460 - mae: 3.8460\n",
            "Epoch 57/100\n",
            "1/1 [==============================] - 0s 8ms/step - loss: 3.8070 - mae: 3.8070\n",
            "Epoch 58/100\n",
            "1/1 [==============================] - 0s 8ms/step - loss: 3.8191 - mae: 3.8191\n",
            "Epoch 59/100\n",
            "1/1 [==============================] - 0s 9ms/step - loss: 3.8148 - mae: 3.8148\n",
            "Epoch 60/100\n",
            "1/1 [==============================] - 0s 7ms/step - loss: 3.7959 - mae: 3.7959\n",
            "Epoch 61/100\n",
            "1/1 [==============================] - 0s 8ms/step - loss: 3.8305 - mae: 3.8305\n",
            "Epoch 62/100\n",
            "1/1 [==============================] - 0s 8ms/step - loss: 3.7721 - mae: 3.7721\n",
            "Epoch 63/100\n",
            "1/1 [==============================] - 0s 9ms/step - loss: 3.8384 - mae: 3.8384\n",
            "Epoch 64/100\n",
            "1/1 [==============================] - 0s 9ms/step - loss: 3.7722 - mae: 3.7722\n",
            "Epoch 65/100\n",
            "1/1 [==============================] - 0s 9ms/step - loss: 3.8180 - mae: 3.8180\n",
            "Epoch 66/100\n",
            "1/1 [==============================] - 0s 8ms/step - loss: 3.7800 - mae: 3.7800\n",
            "Epoch 67/100\n",
            "1/1 [==============================] - 0s 8ms/step - loss: 3.7908 - mae: 3.7908\n",
            "Epoch 68/100\n",
            "1/1 [==============================] - 0s 7ms/step - loss: 3.7888 - mae: 3.7888\n",
            "Epoch 69/100\n",
            "1/1 [==============================] - 0s 7ms/step - loss: 3.7707 - mae: 3.7707\n",
            "Epoch 70/100\n",
            "1/1 [==============================] - 0s 9ms/step - loss: 3.8038 - mae: 3.8038\n",
            "Epoch 71/100\n",
            "1/1 [==============================] - 0s 7ms/step - loss: 3.7432 - mae: 3.7432\n",
            "Epoch 72/100\n",
            "1/1 [==============================] - 0s 7ms/step - loss: 3.8120 - mae: 3.8120\n",
            "Epoch 73/100\n",
            "1/1 [==============================] - 0s 7ms/step - loss: 3.7460 - mae: 3.7460\n",
            "Epoch 74/100\n",
            "1/1 [==============================] - 0s 7ms/step - loss: 3.7888 - mae: 3.7888\n",
            "Epoch 75/100\n",
            "1/1 [==============================] - 0s 7ms/step - loss: 3.7540 - mae: 3.7540\n",
            "Epoch 76/100\n",
            "1/1 [==============================] - 0s 8ms/step - loss: 3.7613 - mae: 3.7613\n",
            "Epoch 77/100\n",
            "1/1 [==============================] - 0s 8ms/step - loss: 3.7677 - mae: 3.7677\n",
            "Epoch 78/100\n",
            "1/1 [==============================] - 0s 13ms/step - loss: 3.7409 - mae: 3.7409\n",
            "Epoch 79/100\n",
            "1/1 [==============================] - 0s 10ms/step - loss: 3.7782 - mae: 3.7782\n",
            "Epoch 80/100\n",
            "1/1 [==============================] - 0s 6ms/step - loss: 3.7131 - mae: 3.7131\n",
            "Epoch 81/100\n",
            "1/1 [==============================] - 0s 7ms/step - loss: 3.7865 - mae: 3.7865\n",
            "Epoch 82/100\n",
            "1/1 [==============================] - 0s 7ms/step - loss: 3.7208 - mae: 3.7208\n",
            "Epoch 83/100\n",
            "1/1 [==============================] - 0s 7ms/step - loss: 3.7583 - mae: 3.7583\n",
            "Epoch 84/100\n",
            "1/1 [==============================] - 0s 10ms/step - loss: 3.7290 - mae: 3.7290\n",
            "Epoch 85/100\n",
            "1/1 [==============================] - 0s 8ms/step - loss: 3.7335 - mae: 3.7335\n",
            "Epoch 86/100\n",
            "1/1 [==============================] - 0s 8ms/step - loss: 3.7451 - mae: 3.7451\n",
            "Epoch 87/100\n",
            "1/1 [==============================] - 0s 9ms/step - loss: 3.7097 - mae: 3.7097\n",
            "Epoch 88/100\n",
            "1/1 [==============================] - 0s 11ms/step - loss: 3.7536 - mae: 3.7536\n",
            "Epoch 89/100\n",
            "1/1 [==============================] - 0s 7ms/step - loss: 3.6883 - mae: 3.6883\n",
            "Epoch 90/100\n",
            "1/1 [==============================] - 0s 8ms/step - loss: 3.7544 - mae: 3.7544\n",
            "Epoch 91/100\n",
            "1/1 [==============================] - 0s 7ms/step - loss: 3.6966 - mae: 3.6966\n",
            "Epoch 92/100\n",
            "1/1 [==============================] - 0s 8ms/step - loss: 3.7264 - mae: 3.7264\n",
            "Epoch 93/100\n",
            "1/1 [==============================] - 0s 8ms/step - loss: 3.7051 - mae: 3.7051\n",
            "Epoch 94/100\n",
            "1/1 [==============================] - 0s 8ms/step - loss: 3.7057 - mae: 3.7057\n",
            "Epoch 95/100\n",
            "1/1 [==============================] - 0s 19ms/step - loss: 3.7214 - mae: 3.7214\n",
            "Epoch 96/100\n",
            "1/1 [==============================] - 0s 8ms/step - loss: 3.6772 - mae: 3.6772\n",
            "Epoch 97/100\n",
            "1/1 [==============================] - 0s 9ms/step - loss: 3.7300 - mae: 3.7300\n",
            "Epoch 98/100\n",
            "1/1 [==============================] - 0s 10ms/step - loss: 3.6649 - mae: 3.6649\n",
            "Epoch 99/100\n",
            "1/1 [==============================] - 0s 9ms/step - loss: 3.7216 - mae: 3.7216\n",
            "Epoch 100/100\n",
            "1/1 [==============================] - 0s 11ms/step - loss: 3.6734 - mae: 3.6734\n"
          ]
        },
        {
          "output_type": "execute_result",
          "data": {
            "text/plain": [
              "<keras.callbacks.History at 0x7f7eb7534d10>"
            ]
          },
          "metadata": {},
          "execution_count": 16
        }
      ]
    },
    {
      "cell_type": "code",
      "source": [
        "y_pred = model.predict([17.0])\n",
        "y_pred"
      ],
      "metadata": {
        "colab": {
          "base_uri": "https://localhost:8080/"
        },
        "id": "lAHaEcLxlWVk",
        "outputId": "b63868f7-4d99-430b-bfc1-13bf3e522c1f"
      },
      "execution_count": 17,
      "outputs": [
        {
          "output_type": "stream",
          "name": "stdout",
          "text": [
            "1/1 [==============================] - 0s 256ms/step\n"
          ]
        },
        {
          "output_type": "execute_result",
          "data": {
            "text/plain": [
              "array([[31.382648]], dtype=float32)"
            ]
          },
          "metadata": {},
          "execution_count": 17
        }
      ]
    },
    {
      "cell_type": "code",
      "source": [
        "# it looks like the model is overfitting in this instance! \n",
        "# let's rebuild the model\n",
        "# lets reduce the neurons and turn off activation\n",
        "# change optimizer to Adam\n",
        "# set a random seed\n",
        "\n",
        "tf.random.set_seed(42)\n",
        "\n",
        "# 1. Create a model using Sequential API\n",
        "model = tf.keras.Sequential()\n",
        "model.add(tf.keras.layers.Dense(50, activation=None))\n",
        "model.add(tf.keras.layers.Dense(1))\n",
        "\n",
        "\n",
        "# 2. Compile the model \n",
        "model.compile(loss = tf.keras.losses.mae, \n",
        "              optimizer = tf.keras.optimizers.Adam(lr=0.01),\n",
        "              metrics=[\"mae\"])\n",
        "\n",
        "# 3. Fit the model\n",
        "model.fit(tf.expand_dims(X, axis=-1), y, epochs=100)"
      ],
      "metadata": {
        "colab": {
          "base_uri": "https://localhost:8080/"
        },
        "id": "4eP1vM05njqE",
        "outputId": "8dc3b3ce-db12-474c-8f18-c71ab9f01a4a"
      },
      "execution_count": 18,
      "outputs": [
        {
          "output_type": "stream",
          "name": "stderr",
          "text": [
            "/usr/local/lib/python3.7/dist-packages/keras/optimizers/optimizer_v2/adam.py:110: UserWarning: The `lr` argument is deprecated, use `learning_rate` instead.\n",
            "  super(Adam, self).__init__(name, **kwargs)\n"
          ]
        },
        {
          "output_type": "stream",
          "name": "stdout",
          "text": [
            "Epoch 1/100\n",
            "1/1 [==============================] - 1s 629ms/step - loss: 13.1820 - mae: 13.1820\n",
            "Epoch 2/100\n",
            "1/1 [==============================] - 0s 12ms/step - loss: 12.5071 - mae: 12.5071\n",
            "Epoch 3/100\n",
            "1/1 [==============================] - 0s 9ms/step - loss: 11.8279 - mae: 11.8279\n",
            "Epoch 4/100\n",
            "1/1 [==============================] - 0s 10ms/step - loss: 11.1425 - mae: 11.1425\n",
            "Epoch 5/100\n",
            "1/1 [==============================] - 0s 10ms/step - loss: 10.4485 - mae: 10.4485\n",
            "Epoch 6/100\n",
            "1/1 [==============================] - 0s 10ms/step - loss: 9.7427 - mae: 9.7427\n",
            "Epoch 7/100\n",
            "1/1 [==============================] - 0s 11ms/step - loss: 9.0218 - mae: 9.0218\n",
            "Epoch 8/100\n",
            "1/1 [==============================] - 0s 13ms/step - loss: 8.2826 - mae: 8.2826\n",
            "Epoch 9/100\n",
            "1/1 [==============================] - 0s 8ms/step - loss: 7.5221 - mae: 7.5221\n",
            "Epoch 10/100\n",
            "1/1 [==============================] - 0s 8ms/step - loss: 6.7841 - mae: 6.7841\n",
            "Epoch 11/100\n",
            "1/1 [==============================] - 0s 11ms/step - loss: 6.7505 - mae: 6.7505\n",
            "Epoch 12/100\n",
            "1/1 [==============================] - 0s 11ms/step - loss: 7.0302 - mae: 7.0302\n",
            "Epoch 13/100\n",
            "1/1 [==============================] - 0s 11ms/step - loss: 7.1931 - mae: 7.1931\n",
            "Epoch 14/100\n",
            "1/1 [==============================] - 0s 7ms/step - loss: 7.2735 - mae: 7.2735\n",
            "Epoch 15/100\n",
            "1/1 [==============================] - 0s 10ms/step - loss: 7.2165 - mae: 7.2165\n",
            "Epoch 16/100\n",
            "1/1 [==============================] - 0s 6ms/step - loss: 7.0282 - mae: 7.0282\n",
            "Epoch 17/100\n",
            "1/1 [==============================] - 0s 7ms/step - loss: 6.8275 - mae: 6.8275\n",
            "Epoch 18/100\n",
            "1/1 [==============================] - 0s 9ms/step - loss: 6.5956 - mae: 6.5956\n",
            "Epoch 19/100\n",
            "1/1 [==============================] - 0s 10ms/step - loss: 6.3389 - mae: 6.3389\n",
            "Epoch 20/100\n",
            "1/1 [==============================] - 0s 14ms/step - loss: 6.0742 - mae: 6.0742\n",
            "Epoch 21/100\n",
            "1/1 [==============================] - 0s 17ms/step - loss: 6.0195 - mae: 6.0195\n",
            "Epoch 22/100\n",
            "1/1 [==============================] - 0s 22ms/step - loss: 5.9610 - mae: 5.9610\n",
            "Epoch 23/100\n",
            "1/1 [==============================] - 0s 16ms/step - loss: 6.0150 - mae: 6.0150\n",
            "Epoch 24/100\n",
            "1/1 [==============================] - 0s 10ms/step - loss: 6.0147 - mae: 6.0147\n",
            "Epoch 25/100\n",
            "1/1 [==============================] - 0s 9ms/step - loss: 5.9085 - mae: 5.9085\n",
            "Epoch 26/100\n",
            "1/1 [==============================] - 0s 9ms/step - loss: 5.7090 - mae: 5.7090\n",
            "Epoch 27/100\n",
            "1/1 [==============================] - 0s 12ms/step - loss: 5.5382 - mae: 5.5382\n",
            "Epoch 28/100\n",
            "1/1 [==============================] - 0s 14ms/step - loss: 5.4295 - mae: 5.4295\n",
            "Epoch 29/100\n",
            "1/1 [==============================] - 0s 8ms/step - loss: 5.3177 - mae: 5.3177\n",
            "Epoch 30/100\n",
            "1/1 [==============================] - 0s 7ms/step - loss: 5.3173 - mae: 5.3173\n",
            "Epoch 31/100\n",
            "1/1 [==============================] - 0s 6ms/step - loss: 5.2878 - mae: 5.2878\n",
            "Epoch 32/100\n",
            "1/1 [==============================] - 0s 14ms/step - loss: 5.2103 - mae: 5.2103\n",
            "Epoch 33/100\n",
            "1/1 [==============================] - 0s 8ms/step - loss: 5.0890 - mae: 5.0890\n",
            "Epoch 34/100\n",
            "1/1 [==============================] - 0s 7ms/step - loss: 4.9280 - mae: 4.9280\n",
            "Epoch 35/100\n",
            "1/1 [==============================] - 0s 6ms/step - loss: 4.7312 - mae: 4.7312\n",
            "Epoch 36/100\n",
            "1/1 [==============================] - 0s 12ms/step - loss: 4.6041 - mae: 4.6041\n",
            "Epoch 37/100\n",
            "1/1 [==============================] - 0s 7ms/step - loss: 4.5056 - mae: 4.5056\n",
            "Epoch 38/100\n",
            "1/1 [==============================] - 0s 8ms/step - loss: 4.4017 - mae: 4.4017\n",
            "Epoch 39/100\n",
            "1/1 [==============================] - 0s 6ms/step - loss: 4.2958 - mae: 4.2958\n",
            "Epoch 40/100\n",
            "1/1 [==============================] - 0s 7ms/step - loss: 4.1313 - mae: 4.1313\n",
            "Epoch 41/100\n",
            "1/1 [==============================] - 0s 8ms/step - loss: 3.9818 - mae: 3.9818\n",
            "Epoch 42/100\n",
            "1/1 [==============================] - 0s 6ms/step - loss: 3.8253 - mae: 3.8253\n",
            "Epoch 43/100\n",
            "1/1 [==============================] - 0s 6ms/step - loss: 3.6671 - mae: 3.6671\n",
            "Epoch 44/100\n",
            "1/1 [==============================] - 0s 8ms/step - loss: 3.5365 - mae: 3.5365\n",
            "Epoch 45/100\n",
            "1/1 [==============================] - 0s 6ms/step - loss: 3.3534 - mae: 3.3534\n",
            "Epoch 46/100\n",
            "1/1 [==============================] - 0s 6ms/step - loss: 3.1903 - mae: 3.1903\n",
            "Epoch 47/100\n",
            "1/1 [==============================] - 0s 7ms/step - loss: 3.0254 - mae: 3.0254\n",
            "Epoch 48/100\n",
            "1/1 [==============================] - 0s 6ms/step - loss: 2.8499 - mae: 2.8499\n",
            "Epoch 49/100\n",
            "1/1 [==============================] - 0s 7ms/step - loss: 2.6844 - mae: 2.6844\n",
            "Epoch 50/100\n",
            "1/1 [==============================] - 0s 6ms/step - loss: 2.4541 - mae: 2.4541\n",
            "Epoch 51/100\n",
            "1/1 [==============================] - 0s 10ms/step - loss: 2.2346 - mae: 2.2346\n",
            "Epoch 52/100\n",
            "1/1 [==============================] - 0s 10ms/step - loss: 2.0468 - mae: 2.0468\n",
            "Epoch 53/100\n",
            "1/1 [==============================] - 0s 6ms/step - loss: 1.8348 - mae: 1.8348\n",
            "Epoch 54/100\n",
            "1/1 [==============================] - 0s 8ms/step - loss: 1.5549 - mae: 1.5549\n",
            "Epoch 55/100\n",
            "1/1 [==============================] - 0s 10ms/step - loss: 1.3570 - mae: 1.3570\n",
            "Epoch 56/100\n",
            "1/1 [==============================] - 0s 13ms/step - loss: 1.1130 - mae: 1.1130\n",
            "Epoch 57/100\n",
            "1/1 [==============================] - 0s 9ms/step - loss: 0.8263 - mae: 0.8263\n",
            "Epoch 58/100\n",
            "1/1 [==============================] - 0s 11ms/step - loss: 0.6080 - mae: 0.6080\n",
            "Epoch 59/100\n",
            "1/1 [==============================] - 0s 7ms/step - loss: 0.2654 - mae: 0.2654\n",
            "Epoch 60/100\n",
            "1/1 [==============================] - 0s 8ms/step - loss: 0.1994 - mae: 0.1994\n",
            "Epoch 61/100\n",
            "1/1 [==============================] - 0s 13ms/step - loss: 0.3319 - mae: 0.3319\n",
            "Epoch 62/100\n",
            "1/1 [==============================] - 0s 7ms/step - loss: 0.5022 - mae: 0.5022\n",
            "Epoch 63/100\n",
            "1/1 [==============================] - 0s 7ms/step - loss: 0.6316 - mae: 0.6316\n",
            "Epoch 64/100\n",
            "1/1 [==============================] - 0s 11ms/step - loss: 0.7575 - mae: 0.7575\n",
            "Epoch 65/100\n",
            "1/1 [==============================] - 0s 13ms/step - loss: 0.6993 - mae: 0.6993\n",
            "Epoch 66/100\n",
            "1/1 [==============================] - 0s 7ms/step - loss: 0.8384 - mae: 0.8384\n",
            "Epoch 67/100\n",
            "1/1 [==============================] - 0s 7ms/step - loss: 0.8231 - mae: 0.8231\n",
            "Epoch 68/100\n",
            "1/1 [==============================] - 0s 8ms/step - loss: 0.6088 - mae: 0.6088\n",
            "Epoch 69/100\n",
            "1/1 [==============================] - 0s 11ms/step - loss: 0.6624 - mae: 0.6624\n",
            "Epoch 70/100\n",
            "1/1 [==============================] - 0s 8ms/step - loss: 0.6882 - mae: 0.6882\n",
            "Epoch 71/100\n",
            "1/1 [==============================] - 0s 7ms/step - loss: 0.4096 - mae: 0.4096\n",
            "Epoch 72/100\n",
            "1/1 [==============================] - 0s 7ms/step - loss: 0.2376 - mae: 0.2376\n",
            "Epoch 73/100\n",
            "1/1 [==============================] - 0s 6ms/step - loss: 0.4573 - mae: 0.4573\n",
            "Epoch 74/100\n",
            "1/1 [==============================] - 0s 11ms/step - loss: 0.3699 - mae: 0.3699\n",
            "Epoch 75/100\n",
            "1/1 [==============================] - 0s 7ms/step - loss: 0.3439 - mae: 0.3439\n",
            "Epoch 76/100\n",
            "1/1 [==============================] - 0s 6ms/step - loss: 0.5023 - mae: 0.5023\n",
            "Epoch 77/100\n",
            "1/1 [==============================] - 0s 6ms/step - loss: 0.4859 - mae: 0.4859\n",
            "Epoch 78/100\n",
            "1/1 [==============================] - 0s 6ms/step - loss: 0.3219 - mae: 0.3219\n",
            "Epoch 79/100\n",
            "1/1 [==============================] - 0s 11ms/step - loss: 0.3975 - mae: 0.3975\n",
            "Epoch 80/100\n",
            "1/1 [==============================] - 0s 6ms/step - loss: 0.3645 - mae: 0.3645\n",
            "Epoch 81/100\n",
            "1/1 [==============================] - 0s 6ms/step - loss: 0.1428 - mae: 0.1428\n",
            "Epoch 82/100\n",
            "1/1 [==============================] - 0s 6ms/step - loss: 0.0749 - mae: 0.0749\n",
            "Epoch 83/100\n",
            "1/1 [==============================] - 0s 6ms/step - loss: 0.1437 - mae: 0.1437\n",
            "Epoch 84/100\n",
            "1/1 [==============================] - 0s 14ms/step - loss: 0.1804 - mae: 0.1804\n",
            "Epoch 85/100\n",
            "1/1 [==============================] - 0s 6ms/step - loss: 0.3013 - mae: 0.3013\n",
            "Epoch 86/100\n",
            "1/1 [==============================] - 0s 6ms/step - loss: 0.2711 - mae: 0.2711\n",
            "Epoch 87/100\n",
            "1/1 [==============================] - 0s 6ms/step - loss: 0.2547 - mae: 0.2547\n",
            "Epoch 88/100\n",
            "1/1 [==============================] - 0s 6ms/step - loss: 0.2350 - mae: 0.2350\n",
            "Epoch 89/100\n",
            "1/1 [==============================] - 0s 11ms/step - loss: 0.0871 - mae: 0.0871\n",
            "Epoch 90/100\n",
            "1/1 [==============================] - 0s 6ms/step - loss: 0.0687 - mae: 0.0687\n",
            "Epoch 91/100\n",
            "1/1 [==============================] - 0s 6ms/step - loss: 0.2191 - mae: 0.2191\n",
            "Epoch 92/100\n",
            "1/1 [==============================] - 0s 6ms/step - loss: 0.2195 - mae: 0.2195\n",
            "Epoch 93/100\n",
            "1/1 [==============================] - 0s 6ms/step - loss: 0.2530 - mae: 0.2530\n",
            "Epoch 94/100\n",
            "1/1 [==============================] - 0s 11ms/step - loss: 0.2993 - mae: 0.2993\n",
            "Epoch 95/100\n",
            "1/1 [==============================] - 0s 7ms/step - loss: 0.1965 - mae: 0.1965\n",
            "Epoch 96/100\n",
            "1/1 [==============================] - 0s 7ms/step - loss: 0.2204 - mae: 0.2204\n",
            "Epoch 97/100\n",
            "1/1 [==============================] - 0s 9ms/step - loss: 0.1981 - mae: 0.1981\n",
            "Epoch 98/100\n",
            "1/1 [==============================] - 0s 11ms/step - loss: 0.1086 - mae: 0.1086\n",
            "Epoch 99/100\n",
            "1/1 [==============================] - 0s 7ms/step - loss: 0.1370 - mae: 0.1370\n",
            "Epoch 100/100\n",
            "1/1 [==============================] - 0s 7ms/step - loss: 0.1814 - mae: 0.1814\n"
          ]
        },
        {
          "output_type": "execute_result",
          "data": {
            "text/plain": [
              "<keras.callbacks.History at 0x7f7eb7d2ae10>"
            ]
          },
          "metadata": {},
          "execution_count": 18
        }
      ]
    },
    {
      "cell_type": "code",
      "source": [
        "y_pred = model.predict([17.0])\n",
        "y_pred"
      ],
      "metadata": {
        "colab": {
          "base_uri": "https://localhost:8080/"
        },
        "id": "mf9UdpOEoO0R",
        "outputId": "f0bb9895-9ba0-43f1-8d9a-d462bbb77c3a"
      },
      "execution_count": 19,
      "outputs": [
        {
          "output_type": "stream",
          "name": "stdout",
          "text": [
            "1/1 [==============================] - 0s 212ms/step\n"
          ]
        },
        {
          "output_type": "execute_result",
          "data": {
            "text/plain": [
              "array([[27.216784]], dtype=float32)"
            ]
          },
          "metadata": {},
          "execution_count": 19
        }
      ]
    },
    {
      "cell_type": "markdown",
      "source": [
        "## Evaluating a model\n",
        "\n",
        "We managed to improve our model with a few minor adjustments.  Now it's time to evaluate the model.\n",
        "\n",
        "In practice, a typical workflow we will go trhough when building a neural network is:\n",
        "\n",
        "**Build a model -> fit it -> evaluate it -> tweak it -> fit it -> evaluate it -> tweak it -> fit it -> evaluate it -> tweak it etc.**\n",
        "\n",
        "When it comes to evaluation there are 3 words you should memorise. Visualise, Visualise, Visualise. \n",
        "\n",
        "It's a good idea to visalise:\n",
        "- data:  what data are we working with?\n",
        "- model:  what does our model look like?\n",
        "- training:  how does a model perform while it learns?\n",
        "- predictions:  how do the predictions of a model line up against the ground truth (original labels)\n",
        "\n"
      ],
      "metadata": {
        "id": "gT-pHVyUq69F"
      }
    },
    {
      "cell_type": "code",
      "source": [
        "# make a bigger dataset\n",
        "X = tf.range(-100, 100, 4)\n",
        "X"
      ],
      "metadata": {
        "colab": {
          "base_uri": "https://localhost:8080/"
        },
        "id": "QnAquXleq9q0",
        "outputId": "1b4175a6-2ba0-4490-c2b8-92d472562a71"
      },
      "execution_count": 20,
      "outputs": [
        {
          "output_type": "execute_result",
          "data": {
            "text/plain": [
              "<tf.Tensor: shape=(50,), dtype=int32, numpy=\n",
              "array([-100,  -96,  -92,  -88,  -84,  -80,  -76,  -72,  -68,  -64,  -60,\n",
              "        -56,  -52,  -48,  -44,  -40,  -36,  -32,  -28,  -24,  -20,  -16,\n",
              "        -12,   -8,   -4,    0,    4,    8,   12,   16,   20,   24,   28,\n",
              "         32,   36,   40,   44,   48,   52,   56,   60,   64,   68,   72,\n",
              "         76,   80,   84,   88,   92,   96], dtype=int32)>"
            ]
          },
          "metadata": {},
          "execution_count": 20
        }
      ]
    },
    {
      "cell_type": "code",
      "source": [
        "# make labels for the dataset\n",
        "y = X + 10\n",
        "y"
      ],
      "metadata": {
        "colab": {
          "base_uri": "https://localhost:8080/"
        },
        "id": "vL8sRPrQsmWX",
        "outputId": "0080c510-a976-4ad0-a546-2ff1b56f29a3"
      },
      "execution_count": 21,
      "outputs": [
        {
          "output_type": "execute_result",
          "data": {
            "text/plain": [
              "<tf.Tensor: shape=(50,), dtype=int32, numpy=\n",
              "array([-90, -86, -82, -78, -74, -70, -66, -62, -58, -54, -50, -46, -42,\n",
              "       -38, -34, -30, -26, -22, -18, -14, -10,  -6,  -2,   2,   6,  10,\n",
              "        14,  18,  22,  26,  30,  34,  38,  42,  46,  50,  54,  58,  62,\n",
              "        66,  70,  74,  78,  82,  86,  90,  94,  98, 102, 106], dtype=int32)>"
            ]
          },
          "metadata": {},
          "execution_count": 21
        }
      ]
    },
    {
      "cell_type": "code",
      "source": [
        "# visualise the data\n",
        "import matplotlib.pyplot as plt\n",
        "\n",
        "plt.scatter(X,y)"
      ],
      "metadata": {
        "colab": {
          "base_uri": "https://localhost:8080/",
          "height": 282
        },
        "id": "kK7UXXVXst-F",
        "outputId": "f68b2d91-bd90-47b5-c5ba-db9adcbae653"
      },
      "execution_count": 22,
      "outputs": [
        {
          "output_type": "execute_result",
          "data": {
            "text/plain": [
              "<matplotlib.collections.PathCollection at 0x7f7eb7bdd5d0>"
            ]
          },
          "metadata": {},
          "execution_count": 22
        },
        {
          "output_type": "display_data",
          "data": {
            "text/plain": [
              "<Figure size 432x288 with 1 Axes>"
            ],
            "image/png": "[encoded data removed]"
          },
          "metadata": {
            "needs_background": "light"
          }
        }
      ]
    },
    {
      "cell_type": "markdown",
      "source": [
        "## The 3 sets.. \n",
        "\n",
        "- training data: the  model learns from this data, typically 70-80% of the total data available\n",
        "- validation data: the model gets tuned on this data, typically 10-15%\n",
        "- test data: the model gets evaluated on this data to test it had learned, typically 10-15%\n"
      ],
      "metadata": {
        "id": "24sWNka7tBvR"
      }
    },
    {
      "cell_type": "code",
      "source": [
        "# check the length of samples\n",
        "len(X)"
      ],
      "metadata": {
        "colab": {
          "base_uri": "https://localhost:8080/"
        },
        "id": "7N79iClQtD8z",
        "outputId": "2217959a-b713-4738-d9a6-2b8a383d6abc"
      },
      "execution_count": 23,
      "outputs": [
        {
          "output_type": "execute_result",
          "data": {
            "text/plain": [
              "50"
            ]
          },
          "metadata": {},
          "execution_count": 23
        }
      ]
    },
    {
      "cell_type": "code",
      "source": [
        "# skip the validation for now due to small dataset\n",
        "# split the data into train and tests\n",
        "\n",
        "X_train = X[:40] # first 40 training\n",
        "y_train = y[:40]\n",
        "X_test = X[40:] # last 10 \n",
        "y_test = y[40:]\n",
        "\n",
        "len(X_train), len(X_test), len(y_train), len(y_test)"
      ],
      "metadata": {
        "colab": {
          "base_uri": "https://localhost:8080/"
        },
        "id": "vpzYSuhcuOG2",
        "outputId": "7d56292c-feb9-452a-d3e6-82742cede300"
      },
      "execution_count": 24,
      "outputs": [
        {
          "output_type": "execute_result",
          "data": {
            "text/plain": [
              "(40, 10, 40, 10)"
            ]
          },
          "metadata": {},
          "execution_count": 24
        }
      ]
    },
    {
      "cell_type": "markdown",
      "source": [
        "## Visualising the data\n",
        "\n",
        "Now we have the data in the train & test sets,  lets visualise it again! "
      ],
      "metadata": {
        "id": "lS0pKIQGvGDv"
      }
    },
    {
      "cell_type": "code",
      "source": [
        "plt.figure(figsize=(10,7))\n",
        "# plot the training data in blue\n",
        "plt.scatter(X_train, y_train, c=\"b\", label=\"Training Data\")\n",
        "# plot the testing data in green\n",
        "plt.scatter(X_test, y_test, c=\"g\", label=\"Test Data\")\n",
        "# show legend\n",
        "plt.legend();"
      ],
      "metadata": {
        "colab": {
          "base_uri": "https://localhost:8080/",
          "height": 428
        },
        "id": "SmZCNyptuq9M",
        "outputId": "199a7dd4-1999-4325-df51-7103f92af07e"
      },
      "execution_count": 25,
      "outputs": [
        {
          "output_type": "display_data",
          "data": {
            "text/plain": [
              "<Figure size 720x504 with 1 Axes>"
            ],
            "image/png": "[encoded data removed]"
          },
          "metadata": {
            "needs_background": "light"
          }
        }
      ]
    },
    {
      "cell_type": "code",
      "source": [
        "# lets build the neural network for our data\n",
        "# it is built automatically using the input_shape\n",
        "\n",
        "# set a random seed\n",
        "\n",
        "tf.random.set_seed(42)\n",
        "\n",
        "# 1. Create a model using Sequential API\n",
        "model = tf.keras.Sequential(name=\"one_of_many\")\n",
        "model.add(tf.keras.layers.Dense(50, input_shape = [1], name=\"input_layer\"))\n",
        "model.add(tf.keras.layers.Dense(50, input_shape = [1], name=\"input_layer2\"))\n",
        "model.add(tf.keras.layers.Dense(1, name=\"output_layer\"))\n",
        "\n",
        "\n",
        "# 2. Compile the model \n",
        "model.compile(loss = tf.keras.losses.mae, \n",
        "              optimizer = tf.keras.optimizers.Adam(lr=0.01),\n",
        "              metrics=[\"mae\"])\n",
        "\n"
      ],
      "metadata": {
        "id": "5Youz5yYvg-D"
      },
      "execution_count": 26,
      "outputs": []
    },
    {
      "cell_type": "markdown",
      "source": [
        "## Visualise the model"
      ],
      "metadata": {
        "id": "bDjTBKK7w0i9"
      }
    },
    {
      "cell_type": "code",
      "source": [
        "model.summary()"
      ],
      "metadata": {
        "colab": {
          "base_uri": "https://localhost:8080/"
        },
        "id": "8bEnmSAmw950",
        "outputId": "ee8e8240-3fca-4fef-befb-b9fe0157fbee"
      },
      "execution_count": 27,
      "outputs": [
        {
          "output_type": "stream",
          "name": "stdout",
          "text": [
            "Model: \"one_of_many\"\n",
            "_________________________________________________________________\n",
            " Layer (type)                Output Shape              Param #   \n",
            "=================================================================\n",
            " input_layer (Dense)         (None, 50)                100       \n",
            "                                                                 \n",
            " input_layer2 (Dense)        (None, 50)                2550      \n",
            "                                                                 \n",
            " output_layer (Dense)        (None, 1)                 51        \n",
            "                                                                 \n",
            "=================================================================\n",
            "Total params: 2,701\n",
            "Trainable params: 2,701\n",
            "Non-trainable params: 0\n",
            "_________________________________________________________________\n"
          ]
        }
      ]
    },
    {
      "cell_type": "markdown",
      "source": [
        "- Total params: the total number of parameters in the model (how many different patterns the model can learn)\n",
        "- Trainable parameters: the parameters the model can update as it trains \n",
        "- Non-trainable params:  these params aren't updated during training (this is typical when you bring in already learned patterns or params from other models during transfer learning.)\n"
      ],
      "metadata": {
        "id": "mKXFi9p-yALl"
      }
    },
    {
      "cell_type": "code",
      "source": [
        "# 3. Fit the model\n",
        "model.fit(tf.expand_dims(X, axis=-1), y, epochs=100, verbose = 0)"
      ],
      "metadata": {
        "colab": {
          "base_uri": "https://localhost:8080/"
        },
        "id": "2bdNc7Twxr8d",
        "outputId": "df8a0c5b-411c-484f-b28a-e4c564eb64db"
      },
      "execution_count": 28,
      "outputs": [
        {
          "output_type": "execute_result",
          "data": {
            "text/plain": [
              "<keras.callbacks.History at 0x7f7eb7da2990>"
            ]
          },
          "metadata": {},
          "execution_count": 28
        }
      ]
    },
    {
      "cell_type": "code",
      "source": [
        "from tensorflow.keras.utils import plot_model\n",
        "\n",
        "plot_model(model=model, show_shapes=True)"
      ],
      "metadata": {
        "colab": {
          "base_uri": "https://localhost:8080/",
          "height": 422
        },
        "id": "a5cUWaow0MOf",
        "outputId": "af883f29-0528-47c1-8e68-1bd0d0910007"
      },
      "execution_count": 29,
      "outputs": [
        {
          "output_type": "execute_result",
          "data": {
            "image/png": "[encoded data removed]",
            "text/plain": [
              "<IPython.core.display.Image object>"
            ]
          },
          "metadata": {},
          "execution_count": 29
        }
      ]
    },
    {
      "cell_type": "markdown",
      "source": [
        "## Visualising the model predictions\n",
        "\n",
        "To visualise the predictions, it's a good idea to plot them against the ground truth labels. \n",
        "\n",
        "Often you'#ll see this in the form of 'y_test' or 'y_true' verses 'y_pred'"
      ],
      "metadata": {
        "id": "RZyHPBf-2aMn"
      }
    },
    {
      "cell_type": "code",
      "source": [
        "# make some predictions\n",
        "\n",
        "y_pred = model.predict(X_test)\n",
        "y_pred"
      ],
      "metadata": {
        "colab": {
          "base_uri": "https://localhost:8080/"
        },
        "id": "3vy8woCc1cgk",
        "outputId": "07711845-63af-43e9-962f-b42626b66df5"
      },
      "execution_count": 30,
      "outputs": [
        {
          "output_type": "stream",
          "name": "stderr",
          "text": [
            "WARNING:tensorflow:5 out of the last 5 calls to <function Model.make_predict_function.<locals>.predict_function at 0x7f7eb7afaf80> triggered tf.function retracing. Tracing is expensive and the excessive number of tracings could be due to (1) creating @tf.function repeatedly in a loop, (2) passing tensors with different shapes, (3) passing Python objects instead of tensors. For (1), please define your @tf.function outside of the loop. For (2), @tf.function has reduce_retracing=True option that can avoid unnecessary retracing. For (3), please refer to https://www.tensorflow.org/guide/function#controlling_retracing and https://www.tensorflow.org/api_docs/python/tf/function for  more details.\n"
          ]
        },
        {
          "output_type": "stream",
          "name": "stdout",
          "text": [
            "1/1 [==============================] - 0s 64ms/step\n"
          ]
        },
        {
          "output_type": "execute_result",
          "data": {
            "text/plain": [
              "array([[ 70.5258  ],\n",
              "       [ 74.567055],\n",
              "       [ 78.6083  ],\n",
              "       [ 82.64954 ],\n",
              "       [ 86.690796],\n",
              "       [ 90.73204 ],\n",
              "       [ 94.773285],\n",
              "       [ 98.81454 ],\n",
              "       [102.855774],\n",
              "       [106.89704 ]], dtype=float32)"
            ]
          },
          "metadata": {},
          "execution_count": 30
        }
      ]
    },
    {
      "cell_type": "code",
      "source": [
        "y_test"
      ],
      "metadata": {
        "colab": {
          "base_uri": "https://localhost:8080/"
        },
        "id": "CksuI-6G3Aqd",
        "outputId": "cfbbb57c-16ba-45c2-e8ec-233a0b3b69d1"
      },
      "execution_count": 31,
      "outputs": [
        {
          "output_type": "execute_result",
          "data": {
            "text/plain": [
              "<tf.Tensor: shape=(10,), dtype=int32, numpy=array([ 70,  74,  78,  82,  86,  90,  94,  98, 102, 106], dtype=int32)>"
            ]
          },
          "metadata": {},
          "execution_count": 31
        }
      ]
    },
    {
      "cell_type": "code",
      "source": [
        "# create a plotting function for later use\n",
        "def plot_results(training_data=X_train, \n",
        "                 training_labels=y_train,\n",
        "                 test_data=X_test,\n",
        "                 test_labels=y_test,\n",
        "                 predictions=y_pred):\n",
        "  \"\"\"\n",
        "  Plots training data, tests data and compares predictions to ground truth\n",
        "  \"\"\"\n",
        "  plt.figure(figsize=(10,7))\n",
        "  plt.scatter(training_data, training_labels, c=\"b\", label=\"Training Data\")\n",
        "  plt.scatter(test_data, test_labels, c=\"g\", label=\"Testing Data\")\n",
        "  plt.scatter(test_data, predictions, c=\"r\", label=\"Predictions\")\n",
        "  plt.legend();\n",
        "  "
      ],
      "metadata": {
        "id": "0NNhmDyi3C1r"
      },
      "execution_count": 32,
      "outputs": []
    },
    {
      "cell_type": "code",
      "source": [
        "plot_results()"
      ],
      "metadata": {
        "colab": {
          "base_uri": "https://localhost:8080/",
          "height": 428
        },
        "id": "jTP10v7e4GrM",
        "outputId": "27af12ce-a297-4021-f36a-0c276c1ac20a"
      },
      "execution_count": 33,
      "outputs": [
        {
          "output_type": "display_data",
          "data": {
            "text/plain": [
              "<Figure size 720x504 with 1 Axes>"
            ],
            "image/png": "[encoded data removed]"
          },
          "metadata": {
            "needs_background": "light"
          }
        }
      ]
    },
    {
      "cell_type": "code",
      "source": [
        "plot_results(training_data=X_train, \n",
        "                 training_labels=y_train,\n",
        "                 test_data=X_test,\n",
        "                 test_labels=y_test,\n",
        "                 predictions=y_pred)"
      ],
      "metadata": {
        "colab": {
          "base_uri": "https://localhost:8080/",
          "height": 428
        },
        "id": "xb5cbFZH4JEd",
        "outputId": "ba43da64-b560-4e3a-90c1-180fa7490e2e"
      },
      "execution_count": 34,
      "outputs": [
        {
          "output_type": "display_data",
          "data": {
            "text/plain": [
              "<Figure size 720x504 with 1 Axes>"
            ],
            "image/png": "[encoded data removed]"
          },
          "metadata": {
            "needs_background": "light"
          }
        }
      ]
    },
    {
      "cell_type": "markdown",
      "source": [
        "## Evaluating our models predictions\n",
        "\n",
        "Depending on the problem you're working on , there will be different evaluation metrics to evaluate your models performance.\n",
        "\n",
        "Since we are working on a regression,  two of the main metrics:\n",
        "- MAE: mean absolute error \"on average how wrong is each of my models predictions.\"\n",
        "- MSE: mean squared error \"square the average errors\""
      ],
      "metadata": {
        "id": "e4KBEoYj4gnx"
      }
    },
    {
      "cell_type": "code",
      "source": [
        "model.evaluate(X_test, y_test)"
      ],
      "metadata": {
        "colab": {
          "base_uri": "https://localhost:8080/"
        },
        "id": "zkuIR18V4i3O",
        "outputId": "136da934-4573-406c-fd16-c2bff21faf88"
      },
      "execution_count": 35,
      "outputs": [
        {
          "output_type": "stream",
          "name": "stdout",
          "text": [
            "1/1 [==============================] - 0s 166ms/step - loss: 0.7114 - mae: 0.7114\n"
          ]
        },
        {
          "output_type": "execute_result",
          "data": {
            "text/plain": [
              "[0.7114158868789673, 0.7114158868789673]"
            ]
          },
          "metadata": {},
          "execution_count": 35
        }
      ]
    },
    {
      "cell_type": "code",
      "source": [
        "# calculate the mean absolute error (mathematically)\n",
        "result_mae = tf.metrics.mean_absolute_error(y_test, y_pred)\n",
        "result_mae"
      ],
      "metadata": {
        "colab": {
          "base_uri": "https://localhost:8080/"
        },
        "id": "fRvemFRz6MTW",
        "outputId": "a3c42d5c-4d93-42c9-a493-cb75d789d158"
      },
      "execution_count": 36,
      "outputs": [
        {
          "output_type": "execute_result",
          "data": {
            "text/plain": [
              "<tf.Tensor: shape=(10,), dtype=float32, numpy=\n",
              "array([17.579357, 14.459767, 12.15668 , 10.670092, 10.      , 10.146408,\n",
              "       11.109314, 12.888722, 15.484619, 18.897041], dtype=float32)>"
            ]
          },
          "metadata": {},
          "execution_count": 36
        }
      ]
    },
    {
      "cell_type": "code",
      "source": [
        "# calculate the mean absolute error by making tensors same shape\n",
        "mae = tf.metrics.mean_absolute_error(y_true=y_test,\n",
        "                                     y_pred=tf.squeeze(y_pred))\n",
        "mae"
      ],
      "metadata": {
        "colab": {
          "base_uri": "https://localhost:8080/"
        },
        "id": "6KJVaW709pQm",
        "outputId": "6e098a2b-51db-4928-b9d2-95a789a7902b"
      },
      "execution_count": 37,
      "outputs": [
        {
          "output_type": "execute_result",
          "data": {
            "text/plain": [
              "<tf.Tensor: shape=(), dtype=float32, numpy=0.7114174>"
            ]
          },
          "metadata": {},
          "execution_count": 37
        }
      ]
    },
    {
      "cell_type": "code",
      "source": [
        "# calculate the mean square error by making tensors same shape\n",
        "mse = tf.metrics.mean_squared_error(y_true=y_test,\n",
        "                                     y_pred=tf.squeeze(y_pred))\n",
        "mse"
      ],
      "metadata": {
        "colab": {
          "base_uri": "https://localhost:8080/"
        },
        "id": "7ejhY4Bz__lO",
        "outputId": "9684de4c-7a37-4d45-dec3-b98f5dc81e88"
      },
      "execution_count": 38,
      "outputs": [
        {
          "output_type": "execute_result",
          "data": {
            "text/plain": [
              "<tf.Tensor: shape=(), dtype=float32, numpy=0.5201509>"
            ]
          },
          "metadata": {},
          "execution_count": 38
        }
      ]
    },
    {
      "cell_type": "code",
      "source": [
        "# functionise for the metrics\n",
        "def mae(y_true, y_pred):\n",
        "  return tf.metrics.mean_absolute_error(y_true=y_true,\n",
        "                                        y_pred=tf.squeeze(y_pred))\n",
        "def mse(y_true, y_pred):\n",
        "  return tf.metrics.mean_squared_error(y_true=y_true,\n",
        "                                       y_pred=tf.squeeze(y_pred))"
      ],
      "metadata": {
        "id": "NSJoRTcxAJ2U"
      },
      "execution_count": 39,
      "outputs": []
    },
    {
      "cell_type": "markdown",
      "source": [
        "## Run experiments to improve our model\n",
        "\n",
        "1. Get more data: more opps to learn patterns\n",
        "2. Make the model larger (adding complexity) this might come in the form of more layers or more units\n",
        "3. Train for longer - give model more of a chance to find patterns in data\n",
        "\n",
        "Modelling experiments:\n",
        "1. model_1 = same as the original\n",
        "2. model_2 = two layers trained for 100 \n",
        "3. model_3 = two layers for 500 epochs"
      ],
      "metadata": {
        "id": "PGbxcTX6CybR"
      }
    },
    {
      "cell_type": "code",
      "source": [
        "X_train, y_train"
      ],
      "metadata": {
        "id": "oo3xpZqiDFMl",
        "colab": {
          "base_uri": "https://localhost:8080/"
        },
        "outputId": "165e2710-e1b7-41f5-e2f0-2cd2a64735ff"
      },
      "execution_count": 40,
      "outputs": [
        {
          "output_type": "execute_result",
          "data": {
            "text/plain": [
              "(<tf.Tensor: shape=(40,), dtype=int32, numpy=\n",
              " array([-100,  -96,  -92,  -88,  -84,  -80,  -76,  -72,  -68,  -64,  -60,\n",
              "         -56,  -52,  -48,  -44,  -40,  -36,  -32,  -28,  -24,  -20,  -16,\n",
              "         -12,   -8,   -4,    0,    4,    8,   12,   16,   20,   24,   28,\n",
              "          32,   36,   40,   44,   48,   52,   56], dtype=int32)>,\n",
              " <tf.Tensor: shape=(40,), dtype=int32, numpy=\n",
              " array([-90, -86, -82, -78, -74, -70, -66, -62, -58, -54, -50, -46, -42,\n",
              "        -38, -34, -30, -26, -22, -18, -14, -10,  -6,  -2,   2,   6,  10,\n",
              "         14,  18,  22,  26,  30,  34,  38,  42,  46,  50,  54,  58,  62,\n",
              "         66], dtype=int32)>)"
            ]
          },
          "metadata": {},
          "execution_count": 40
        }
      ]
    },
    {
      "cell_type": "code",
      "source": [
        "# set random seed\n",
        "\n",
        "tf.random.set_seed(42)\n",
        "\n",
        "# 1. Create the model\n",
        "model_1 = tf.keras.Sequential()\n",
        "model_1.add(tf.keras.layers.Dense(1))\n",
        "\n",
        "# 2. Compile the model \n",
        "model_1.compile(loss=tf.keras.losses.mae,\n",
        "                optimizer=tf.keras.optimizers.SGD(),\n",
        "                metrics=[\"mae\"])\n",
        "\n",
        "# 3. Fit the model\n",
        "model_1.fit(tf.expand_dims(X, axis=-1), y, epochs=100)"
      ],
      "metadata": {
        "colab": {
          "base_uri": "https://localhost:8080/"
        },
        "id": "GaLlra5ZC7vm",
        "outputId": "0d083c45-3f22-4e18-fb30-04ab38fd2b6a"
      },
      "execution_count": 41,
      "outputs": [
        {
          "output_type": "stream",
          "name": "stdout",
          "text": [
            "Epoch 1/100\n",
            "2/2 [==============================] - 0s 6ms/step - loss: 19.0311 - mae: 19.0311\n",
            "Epoch 2/100\n",
            "2/2 [==============================] - 0s 9ms/step - loss: 10.8111 - mae: 10.8111\n",
            "Epoch 3/100\n",
            "2/2 [==============================] - 0s 6ms/step - loss: 14.5005 - mae: 14.5005\n",
            "Epoch 4/100\n",
            "2/2 [==============================] - 0s 9ms/step - loss: 10.0958 - mae: 10.0958\n",
            "Epoch 5/100\n",
            "2/2 [==============================] - 0s 10ms/step - loss: 15.5388 - mae: 15.5388\n",
            "Epoch 6/100\n",
            "2/2 [==============================] - 0s 7ms/step - loss: 11.8626 - mae: 11.8626\n",
            "Epoch 7/100\n",
            "2/2 [==============================] - 0s 5ms/step - loss: 9.1727 - mae: 9.1727\n",
            "Epoch 8/100\n",
            "2/2 [==============================] - 0s 4ms/step - loss: 13.6143 - mae: 13.6143\n",
            "Epoch 9/100\n",
            "2/2 [==============================] - 0s 10ms/step - loss: 13.8577 - mae: 13.8577\n",
            "Epoch 10/100\n",
            "2/2 [==============================] - 0s 5ms/step - loss: 9.9966 - mae: 9.9966\n",
            "Epoch 11/100\n",
            "2/2 [==============================] - 0s 9ms/step - loss: 9.9685 - mae: 9.9685\n",
            "Epoch 12/100\n",
            "2/2 [==============================] - 0s 5ms/step - loss: 9.9097 - mae: 9.9097\n",
            "Epoch 13/100\n",
            "2/2 [==============================] - 0s 5ms/step - loss: 9.7478 - mae: 9.7478\n",
            "Epoch 14/100\n",
            "2/2 [==============================] - 0s 5ms/step - loss: 10.5485 - mae: 10.5485\n",
            "Epoch 15/100\n",
            "2/2 [==============================] - 0s 5ms/step - loss: 13.7915 - mae: 13.7915\n",
            "Epoch 16/100\n",
            "2/2 [==============================] - 0s 6ms/step - loss: 12.5861 - mae: 12.5861\n",
            "Epoch 17/100\n",
            "2/2 [==============================] - 0s 5ms/step - loss: 10.2180 - mae: 10.2180\n",
            "Epoch 18/100\n",
            "2/2 [==============================] - 0s 8ms/step - loss: 10.1329 - mae: 10.1329\n",
            "Epoch 19/100\n",
            "2/2 [==============================] - 0s 5ms/step - loss: 9.9154 - mae: 9.9154\n",
            "Epoch 20/100\n",
            "2/2 [==============================] - 0s 4ms/step - loss: 12.7204 - mae: 12.7204\n",
            "Epoch 21/100\n",
            "2/2 [==============================] - 0s 5ms/step - loss: 12.9522 - mae: 12.9522\n",
            "Epoch 22/100\n",
            "2/2 [==============================] - 0s 12ms/step - loss: 9.5668 - mae: 9.5668\n",
            "Epoch 23/100\n",
            "2/2 [==============================] - 0s 5ms/step - loss: 9.3870 - mae: 9.3870\n",
            "Epoch 24/100\n",
            "2/2 [==============================] - 0s 5ms/step - loss: 9.7060 - mae: 9.7060\n",
            "Epoch 25/100\n",
            "2/2 [==============================] - 0s 5ms/step - loss: 9.6024 - mae: 9.6024\n",
            "Epoch 26/100\n",
            "2/2 [==============================] - 0s 5ms/step - loss: 9.4918 - mae: 9.4918\n",
            "Epoch 27/100\n",
            "2/2 [==============================] - 0s 4ms/step - loss: 9.7140 - mae: 9.7140\n",
            "Epoch 28/100\n",
            "2/2 [==============================] - 0s 5ms/step - loss: 9.5882 - mae: 9.5882\n",
            "Epoch 29/100\n",
            "2/2 [==============================] - 0s 10ms/step - loss: 9.4746 - mae: 9.4746\n",
            "Epoch 30/100\n",
            "2/2 [==============================] - 0s 5ms/step - loss: 10.0289 - mae: 10.0289\n",
            "Epoch 31/100\n",
            "2/2 [==============================] - 0s 5ms/step - loss: 13.3862 - mae: 13.3862\n",
            "Epoch 32/100\n",
            "2/2 [==============================] - 0s 5ms/step - loss: 9.6345 - mae: 9.6345\n",
            "Epoch 33/100\n",
            "2/2 [==============================] - 0s 4ms/step - loss: 9.5676 - mae: 9.5676\n",
            "Epoch 34/100\n",
            "2/2 [==============================] - 0s 5ms/step - loss: 9.8932 - mae: 9.8932\n",
            "Epoch 35/100\n",
            "2/2 [==============================] - 0s 5ms/step - loss: 10.1582 - mae: 10.1582\n",
            "Epoch 36/100\n",
            "2/2 [==============================] - 0s 12ms/step - loss: 9.5081 - mae: 9.5081\n",
            "Epoch 37/100\n",
            "2/2 [==============================] - 0s 5ms/step - loss: 9.4231 - mae: 9.4231\n",
            "Epoch 38/100\n",
            "2/2 [==============================] - 0s 7ms/step - loss: 9.6222 - mae: 9.6222\n",
            "Epoch 39/100\n",
            "2/2 [==============================] - 0s 12ms/step - loss: 10.3634 - mae: 10.3634\n",
            "Epoch 40/100\n",
            "2/2 [==============================] - 0s 5ms/step - loss: 11.5608 - mae: 11.5608\n",
            "Epoch 41/100\n",
            "2/2 [==============================] - 0s 10ms/step - loss: 9.7365 - mae: 9.7365\n",
            "Epoch 42/100\n",
            "2/2 [==============================] - 0s 7ms/step - loss: 9.3273 - mae: 9.3273\n",
            "Epoch 43/100\n",
            "2/2 [==============================] - 0s 6ms/step - loss: 9.1406 - mae: 9.1406\n",
            "Epoch 44/100\n",
            "2/2 [==============================] - 0s 5ms/step - loss: 9.5279 - mae: 9.5279\n",
            "Epoch 45/100\n",
            "2/2 [==============================] - 0s 5ms/step - loss: 9.6614 - mae: 9.6614\n",
            "Epoch 46/100\n",
            "2/2 [==============================] - 0s 5ms/step - loss: 9.1543 - mae: 9.1543\n",
            "Epoch 47/100\n",
            "2/2 [==============================] - 0s 5ms/step - loss: 9.0604 - mae: 9.0604\n",
            "Epoch 48/100\n",
            "2/2 [==============================] - 0s 5ms/step - loss: 8.7624 - mae: 8.7624\n",
            "Epoch 49/100\n",
            "2/2 [==============================] - 0s 8ms/step - loss: 10.8369 - mae: 10.8369\n",
            "Epoch 50/100\n",
            "2/2 [==============================] - 0s 5ms/step - loss: 8.8573 - mae: 8.8573\n",
            "Epoch 51/100\n",
            "2/2 [==============================] - 0s 8ms/step - loss: 10.3175 - mae: 10.3175\n",
            "Epoch 52/100\n",
            "2/2 [==============================] - 0s 5ms/step - loss: 14.8285 - mae: 14.8285\n",
            "Epoch 53/100\n",
            "2/2 [==============================] - 0s 6ms/step - loss: 8.7053 - mae: 8.7053\n",
            "Epoch 54/100\n",
            "2/2 [==============================] - 0s 5ms/step - loss: 9.4249 - mae: 9.4249\n",
            "Epoch 55/100\n",
            "2/2 [==============================] - 0s 6ms/step - loss: 9.8385 - mae: 9.8385\n",
            "Epoch 56/100\n",
            "2/2 [==============================] - 0s 7ms/step - loss: 12.1663 - mae: 12.1663\n",
            "Epoch 57/100\n",
            "2/2 [==============================] - 0s 5ms/step - loss: 16.1752 - mae: 16.1752\n",
            "Epoch 58/100\n",
            "2/2 [==============================] - 0s 4ms/step - loss: 15.0076 - mae: 15.0076\n",
            "Epoch 59/100\n",
            "2/2 [==============================] - 0s 6ms/step - loss: 15.3698 - mae: 15.3698\n",
            "Epoch 60/100\n",
            "2/2 [==============================] - 0s 5ms/step - loss: 12.5261 - mae: 12.5261\n",
            "Epoch 61/100\n",
            "2/2 [==============================] - 0s 6ms/step - loss: 13.0420 - mae: 13.0420\n",
            "Epoch 62/100\n",
            "2/2 [==============================] - 0s 5ms/step - loss: 10.2323 - mae: 10.2323\n",
            "Epoch 63/100\n",
            "2/2 [==============================] - 0s 7ms/step - loss: 12.0069 - mae: 12.0069\n",
            "Epoch 64/100\n",
            "2/2 [==============================] - 0s 7ms/step - loss: 9.5151 - mae: 9.5151\n",
            "Epoch 65/100\n",
            "2/2 [==============================] - 0s 5ms/step - loss: 8.9926 - mae: 8.9926\n",
            "Epoch 66/100\n",
            "2/2 [==============================] - 0s 4ms/step - loss: 8.9825 - mae: 8.9825\n",
            "Epoch 67/100\n",
            "2/2 [==============================] - 0s 6ms/step - loss: 9.1020 - mae: 9.1020\n",
            "Epoch 68/100\n",
            "2/2 [==============================] - 0s 9ms/step - loss: 9.2138 - mae: 9.2138\n",
            "Epoch 69/100\n",
            "2/2 [==============================] - 0s 8ms/step - loss: 9.2091 - mae: 9.2091\n",
            "Epoch 70/100\n",
            "2/2 [==============================] - 0s 5ms/step - loss: 9.4690 - mae: 9.4690\n",
            "Epoch 71/100\n",
            "2/2 [==============================] - 0s 4ms/step - loss: 8.9142 - mae: 8.9142\n",
            "Epoch 72/100\n",
            "2/2 [==============================] - 0s 5ms/step - loss: 9.9897 - mae: 9.9897\n",
            "Epoch 73/100\n",
            "2/2 [==============================] - 0s 7ms/step - loss: 11.9300 - mae: 11.9300\n",
            "Epoch 74/100\n",
            "2/2 [==============================] - 0s 8ms/step - loss: 8.5859 - mae: 8.5859\n",
            "Epoch 75/100\n",
            "2/2 [==============================] - 0s 4ms/step - loss: 8.7776 - mae: 8.7776\n",
            "Epoch 76/100\n",
            "2/2 [==============================] - 0s 6ms/step - loss: 8.8232 - mae: 8.8232\n",
            "Epoch 77/100\n",
            "2/2 [==============================] - 0s 5ms/step - loss: 8.1895 - mae: 8.1895\n",
            "Epoch 78/100\n",
            "2/2 [==============================] - 0s 5ms/step - loss: 11.2235 - mae: 11.2235\n",
            "Epoch 79/100\n",
            "2/2 [==============================] - 0s 5ms/step - loss: 9.5682 - mae: 9.5682\n",
            "Epoch 80/100\n",
            "2/2 [==============================] - 0s 5ms/step - loss: 13.1783 - mae: 13.1783\n",
            "Epoch 81/100\n",
            "2/2 [==============================] - 0s 6ms/step - loss: 14.3245 - mae: 14.3245\n",
            "Epoch 82/100\n",
            "2/2 [==============================] - 0s 4ms/step - loss: 16.2560 - mae: 16.2560\n",
            "Epoch 83/100\n",
            "2/2 [==============================] - 0s 5ms/step - loss: 9.5568 - mae: 9.5568\n",
            "Epoch 84/100\n",
            "2/2 [==============================] - 0s 4ms/step - loss: 8.6519 - mae: 8.6519\n",
            "Epoch 85/100\n",
            "2/2 [==============================] - 0s 5ms/step - loss: 8.7552 - mae: 8.7552\n",
            "Epoch 86/100\n",
            "2/2 [==============================] - 0s 4ms/step - loss: 9.0234 - mae: 9.0234\n",
            "Epoch 87/100\n",
            "2/2 [==============================] - 0s 12ms/step - loss: 9.1794 - mae: 9.1794\n",
            "Epoch 88/100\n",
            "2/2 [==============================] - 0s 5ms/step - loss: 8.7276 - mae: 8.7276\n",
            "Epoch 89/100\n",
            "2/2 [==============================] - 0s 5ms/step - loss: 8.8707 - mae: 8.8707\n",
            "Epoch 90/100\n",
            "2/2 [==============================] - 0s 5ms/step - loss: 8.6802 - mae: 8.6802\n",
            "Epoch 91/100\n",
            "2/2 [==============================] - 0s 9ms/step - loss: 8.7301 - mae: 8.7301\n",
            "Epoch 92/100\n",
            "2/2 [==============================] - 0s 5ms/step - loss: 8.5968 - mae: 8.5968\n",
            "Epoch 93/100\n",
            "2/2 [==============================] - 0s 7ms/step - loss: 9.1886 - mae: 9.1886\n",
            "Epoch 94/100\n",
            "2/2 [==============================] - 0s 4ms/step - loss: 9.9125 - mae: 9.9125\n",
            "Epoch 95/100\n",
            "2/2 [==============================] - 0s 6ms/step - loss: 12.8242 - mae: 12.8242\n",
            "Epoch 96/100\n",
            "2/2 [==============================] - 0s 8ms/step - loss: 9.1602 - mae: 9.1602\n",
            "Epoch 97/100\n",
            "2/2 [==============================] - 0s 5ms/step - loss: 10.5435 - mae: 10.5435\n",
            "Epoch 98/100\n",
            "2/2 [==============================] - 0s 5ms/step - loss: 14.7497 - mae: 14.7497\n",
            "Epoch 99/100\n",
            "2/2 [==============================] - 0s 4ms/step - loss: 10.8591 - mae: 10.8591\n",
            "Epoch 100/100\n",
            "2/2 [==============================] - 0s 5ms/step - loss: 14.9030 - mae: 14.9030\n"
          ]
        },
        {
          "output_type": "execute_result",
          "data": {
            "text/plain": [
              "<keras.callbacks.History at 0x7f7eb79ce410>"
            ]
          },
          "metadata": {},
          "execution_count": 41
        }
      ]
    },
    {
      "cell_type": "code",
      "source": [
        "y_preds_1 = model_1.predict(X_test)\n",
        "plot_results(predictions=y_preds_1)"
      ],
      "metadata": {
        "colab": {
          "base_uri": "https://localhost:8080/",
          "height": 483
        },
        "id": "Fh9E5MfAHQsg",
        "outputId": "999db1ac-fee4-4f6a-b4b7-101a23e9e849"
      },
      "execution_count": 42,
      "outputs": [
        {
          "output_type": "stream",
          "name": "stderr",
          "text": [
            "WARNING:tensorflow:6 out of the last 6 calls to <function Model.make_predict_function.<locals>.predict_function at 0x7f7eb78dd5f0> triggered tf.function retracing. Tracing is expensive and the excessive number of tracings could be due to (1) creating @tf.function repeatedly in a loop, (2) passing tensors with different shapes, (3) passing Python objects instead of tensors. For (1), please define your @tf.function outside of the loop. For (2), @tf.function has reduce_retracing=True option that can avoid unnecessary retracing. For (3), please refer to https://www.tensorflow.org/guide/function#controlling_retracing and https://www.tensorflow.org/api_docs/python/tf/function for  more details.\n"
          ]
        },
        {
          "output_type": "stream",
          "name": "stdout",
          "text": [
            "1/1 [==============================] - 0s 152ms/step\n"
          ]
        },
        {
          "output_type": "display_data",
          "data": {
            "text/plain": [
              "<Figure size 720x504 with 1 Axes>"
            ],
            "image/png": "[encoded data removed]"
          },
          "metadata": {
            "needs_background": "light"
          }
        }
      ]
    },
    {
      "cell_type": "code",
      "source": [
        "# Calculate model_1 evaluation metrics\n",
        "mae_1 = mae(y_test, y_preds_1)\n",
        "mse_1 = mse(y_test, y_preds_1)\n",
        "\n",
        "mae_1, mse_1"
      ],
      "metadata": {
        "colab": {
          "base_uri": "https://localhost:8080/"
        },
        "id": "zBYLoKSsHctS",
        "outputId": "8fff2c44-19bc-4b09-c10d-bc628de84d05"
      },
      "execution_count": 43,
      "outputs": [
        {
          "output_type": "execute_result",
          "data": {
            "text/plain": [
              "(<tf.Tensor: shape=(), dtype=float32, numpy=17.27238>,\n",
              " <tf.Tensor: shape=(), dtype=float32, numpy=300.0371>)"
            ]
          },
          "metadata": {},
          "execution_count": 43
        }
      ]
    },
    {
      "cell_type": "code",
      "source": [
        "# set random seed\n",
        "\n",
        "tf.random.set_seed(42)\n",
        "\n",
        "# 1. Create the model\n",
        "model_2 = tf.keras.Sequential()\n",
        "model_2.add(tf.keras.layers.Dense(100))\n",
        "model_2.add(tf.keras.layers.Dense(1))\n",
        "\n",
        "# 2. Compile the model \n",
        "model_2.compile(loss=tf.keras.losses.mae,\n",
        "                optimizer=tf.keras.optimizers.SGD(),\n",
        "                metrics=[\"mae\"])\n",
        "\n",
        "# 3. Fit the model\n",
        "model_2.fit(tf.expand_dims(X, axis=-1), y, epochs=100)"
      ],
      "metadata": {
        "colab": {
          "base_uri": "https://localhost:8080/"
        },
        "id": "TSA_-4WBHsjN",
        "outputId": "c9ef41fd-8e37-499f-f72d-9031ab1f3b4d"
      },
      "execution_count": 44,
      "outputs": [
        {
          "output_type": "stream",
          "name": "stdout",
          "text": [
            "Epoch 1/100\n",
            "2/2 [==============================] - 0s 7ms/step - loss: 49.3045 - mae: 49.3045\n",
            "Epoch 2/100\n",
            "2/2 [==============================] - 0s 7ms/step - loss: 29.7944 - mae: 29.7944\n",
            "Epoch 3/100\n",
            "2/2 [==============================] - 0s 7ms/step - loss: 47.3696 - mae: 47.3696\n",
            "Epoch 4/100\n",
            "2/2 [==============================] - 0s 9ms/step - loss: 9.1203 - mae: 9.1203\n",
            "Epoch 5/100\n",
            "2/2 [==============================] - 0s 6ms/step - loss: 11.9354 - mae: 11.9354\n",
            "Epoch 6/100\n",
            "2/2 [==============================] - 0s 5ms/step - loss: 30.0167 - mae: 30.0167\n",
            "Epoch 7/100\n",
            "2/2 [==============================] - 0s 5ms/step - loss: 26.6603 - mae: 26.6603\n",
            "Epoch 8/100\n",
            "2/2 [==============================] - 0s 6ms/step - loss: 10.7395 - mae: 10.7395\n",
            "Epoch 9/100\n",
            "2/2 [==============================] - 0s 6ms/step - loss: 9.9917 - mae: 9.9917\n",
            "Epoch 10/100\n",
            "2/2 [==============================] - 0s 6ms/step - loss: 10.1285 - mae: 10.1285\n",
            "Epoch 11/100\n",
            "2/2 [==============================] - 0s 5ms/step - loss: 23.3975 - mae: 23.3975\n",
            "Epoch 12/100\n",
            "2/2 [==============================] - 0s 6ms/step - loss: 15.0144 - mae: 15.0144\n",
            "Epoch 13/100\n",
            "2/2 [==============================] - 0s 6ms/step - loss: 23.6293 - mae: 23.6293\n",
            "Epoch 14/100\n",
            "2/2 [==============================] - 0s 6ms/step - loss: 25.5310 - mae: 25.5310\n",
            "Epoch 15/100\n",
            "2/2 [==============================] - 0s 4ms/step - loss: 19.7506 - mae: 19.7506\n",
            "Epoch 16/100\n",
            "2/2 [==============================] - 0s 8ms/step - loss: 23.3476 - mae: 23.3476\n",
            "Epoch 17/100\n",
            "2/2 [==============================] - 0s 5ms/step - loss: 11.4527 - mae: 11.4527\n",
            "Epoch 18/100\n",
            "2/2 [==============================] - 0s 5ms/step - loss: 29.3125 - mae: 29.3125\n",
            "Epoch 19/100\n",
            "2/2 [==============================] - 0s 5ms/step - loss: 18.3726 - mae: 18.3726\n",
            "Epoch 20/100\n",
            "2/2 [==============================] - 0s 5ms/step - loss: 18.7778 - mae: 18.7778\n",
            "Epoch 21/100\n",
            "2/2 [==============================] - 0s 7ms/step - loss: 19.4600 - mae: 19.4600\n",
            "Epoch 22/100\n",
            "2/2 [==============================] - 0s 8ms/step - loss: 20.6251 - mae: 20.6251\n",
            "Epoch 23/100\n",
            "2/2 [==============================] - 0s 17ms/step - loss: 19.8582 - mae: 19.8582\n",
            "Epoch 24/100\n",
            "2/2 [==============================] - 0s 8ms/step - loss: 18.6853 - mae: 18.6853\n",
            "Epoch 25/100\n",
            "2/2 [==============================] - 0s 12ms/step - loss: 21.9070 - mae: 21.9070\n",
            "Epoch 26/100\n",
            "2/2 [==============================] - 0s 5ms/step - loss: 10.7436 - mae: 10.7436\n",
            "Epoch 27/100\n",
            "2/2 [==============================] - 0s 6ms/step - loss: 30.4016 - mae: 30.4016\n",
            "Epoch 28/100\n",
            "2/2 [==============================] - 0s 6ms/step - loss: 16.4504 - mae: 16.4504\n",
            "Epoch 29/100\n",
            "2/2 [==============================] - 0s 6ms/step - loss: 33.1763 - mae: 33.1763\n",
            "Epoch 30/100\n",
            "2/2 [==============================] - 0s 6ms/step - loss: 19.3656 - mae: 19.3656\n",
            "Epoch 31/100\n",
            "2/2 [==============================] - 0s 6ms/step - loss: 12.4431 - mae: 12.4431\n",
            "Epoch 32/100\n",
            "2/2 [==============================] - 0s 5ms/step - loss: 20.7208 - mae: 20.7208\n",
            "Epoch 33/100\n",
            "2/2 [==============================] - 0s 5ms/step - loss: 20.6560 - mae: 20.6560\n",
            "Epoch 34/100\n",
            "2/2 [==============================] - 0s 6ms/step - loss: 21.1988 - mae: 21.1988\n",
            "Epoch 35/100\n",
            "2/2 [==============================] - 0s 7ms/step - loss: 21.3757 - mae: 21.3757\n",
            "Epoch 36/100\n",
            "2/2 [==============================] - 0s 5ms/step - loss: 19.8794 - mae: 19.8794\n",
            "Epoch 37/100\n",
            "2/2 [==============================] - 0s 5ms/step - loss: 26.7857 - mae: 26.7857\n",
            "Epoch 38/100\n",
            "2/2 [==============================] - 0s 7ms/step - loss: 27.3913 - mae: 27.3913\n",
            "Epoch 39/100\n",
            "2/2 [==============================] - 0s 6ms/step - loss: 20.6252 - mae: 20.6252\n",
            "Epoch 40/100\n",
            "2/2 [==============================] - 0s 10ms/step - loss: 22.0027 - mae: 22.0027\n",
            "Epoch 41/100\n",
            "2/2 [==============================] - 0s 5ms/step - loss: 40.1881 - mae: 40.1881\n",
            "Epoch 42/100\n",
            "2/2 [==============================] - 0s 5ms/step - loss: 17.1915 - mae: 17.1915\n",
            "Epoch 43/100\n",
            "2/2 [==============================] - 0s 5ms/step - loss: 22.8695 - mae: 22.8695\n",
            "Epoch 44/100\n",
            "2/2 [==============================] - 0s 7ms/step - loss: 9.7086 - mae: 9.7086\n",
            "Epoch 45/100\n",
            "2/2 [==============================] - 0s 10ms/step - loss: 23.1302 - mae: 23.1302\n",
            "Epoch 46/100\n",
            "2/2 [==============================] - 0s 5ms/step - loss: 9.2189 - mae: 9.2189\n",
            "Epoch 47/100\n",
            "2/2 [==============================] - 0s 5ms/step - loss: 20.2054 - mae: 20.2054\n",
            "Epoch 48/100\n",
            "2/2 [==============================] - 0s 7ms/step - loss: 9.4969 - mae: 9.4969\n",
            "Epoch 49/100\n",
            "2/2 [==============================] - 0s 6ms/step - loss: 23.4232 - mae: 23.4232\n",
            "Epoch 50/100\n",
            "2/2 [==============================] - 0s 9ms/step - loss: 34.6000 - mae: 34.6000\n",
            "Epoch 51/100\n",
            "2/2 [==============================] - 0s 5ms/step - loss: 14.6371 - mae: 14.6371\n",
            "Epoch 52/100\n",
            "2/2 [==============================] - 0s 5ms/step - loss: 34.4108 - mae: 34.4108\n",
            "Epoch 53/100\n",
            "2/2 [==============================] - 0s 6ms/step - loss: 9.7648 - mae: 9.7648\n",
            "Epoch 54/100\n",
            "2/2 [==============================] - 0s 5ms/step - loss: 9.5028 - mae: 9.5028\n",
            "Epoch 55/100\n",
            "2/2 [==============================] - 0s 7ms/step - loss: 10.8587 - mae: 10.8587\n",
            "Epoch 56/100\n",
            "2/2 [==============================] - 0s 5ms/step - loss: 27.1809 - mae: 27.1809\n",
            "Epoch 57/100\n",
            "2/2 [==============================] - 0s 6ms/step - loss: 24.2096 - mae: 24.2096\n",
            "Epoch 58/100\n",
            "2/2 [==============================] - 0s 7ms/step - loss: 14.6286 - mae: 14.6286\n",
            "Epoch 59/100\n",
            "2/2 [==============================] - 0s 9ms/step - loss: 25.8481 - mae: 25.8481\n",
            "Epoch 60/100\n",
            "2/2 [==============================] - 0s 6ms/step - loss: 27.7757 - mae: 27.7757\n",
            "Epoch 61/100\n",
            "2/2 [==============================] - 0s 5ms/step - loss: 9.6876 - mae: 9.6876\n",
            "Epoch 62/100\n",
            "2/2 [==============================] - 0s 10ms/step - loss: 15.1960 - mae: 15.1960\n",
            "Epoch 63/100\n",
            "2/2 [==============================] - 0s 5ms/step - loss: 23.2622 - mae: 23.2622\n",
            "Epoch 64/100\n",
            "2/2 [==============================] - 0s 7ms/step - loss: 17.9314 - mae: 17.9314\n",
            "Epoch 65/100\n",
            "2/2 [==============================] - 0s 7ms/step - loss: 29.0656 - mae: 29.0656\n",
            "Epoch 66/100\n",
            "2/2 [==============================] - 0s 7ms/step - loss: 18.7023 - mae: 18.7023\n",
            "Epoch 67/100\n",
            "2/2 [==============================] - 0s 8ms/step - loss: 19.0608 - mae: 19.0608\n",
            "Epoch 68/100\n",
            "2/2 [==============================] - 0s 15ms/step - loss: 16.4080 - mae: 16.4080\n",
            "Epoch 69/100\n",
            "2/2 [==============================] - 0s 8ms/step - loss: 26.8772 - mae: 26.8772\n",
            "Epoch 70/100\n",
            "2/2 [==============================] - 0s 5ms/step - loss: 22.0508 - mae: 22.0508\n",
            "Epoch 71/100\n",
            "2/2 [==============================] - 0s 8ms/step - loss: 19.5387 - mae: 19.5387\n",
            "Epoch 72/100\n",
            "2/2 [==============================] - 0s 8ms/step - loss: 17.7052 - mae: 17.7052\n",
            "Epoch 73/100\n",
            "2/2 [==============================] - 0s 5ms/step - loss: 9.3247 - mae: 9.3247\n",
            "Epoch 74/100\n",
            "2/2 [==============================] - 0s 5ms/step - loss: 25.0284 - mae: 25.0284\n",
            "Epoch 75/100\n",
            "2/2 [==============================] - 0s 5ms/step - loss: 14.8714 - mae: 14.8714\n",
            "Epoch 76/100\n",
            "2/2 [==============================] - 0s 6ms/step - loss: 21.6093 - mae: 21.6093\n",
            "Epoch 77/100\n",
            "2/2 [==============================] - 0s 5ms/step - loss: 17.1551 - mae: 17.1551\n",
            "Epoch 78/100\n",
            "2/2 [==============================] - 0s 6ms/step - loss: 23.0008 - mae: 23.0008\n",
            "Epoch 79/100\n",
            "2/2 [==============================] - 0s 5ms/step - loss: 9.2053 - mae: 9.2053\n",
            "Epoch 80/100\n",
            "2/2 [==============================] - 0s 7ms/step - loss: 18.5102 - mae: 18.5102\n",
            "Epoch 81/100\n",
            "2/2 [==============================] - 0s 6ms/step - loss: 23.1274 - mae: 23.1274\n",
            "Epoch 82/100\n",
            "2/2 [==============================] - 0s 7ms/step - loss: 26.7273 - mae: 26.7273\n",
            "Epoch 83/100\n",
            "2/2 [==============================] - 0s 7ms/step - loss: 20.4929 - mae: 20.4929\n",
            "Epoch 84/100\n",
            "2/2 [==============================] - 0s 7ms/step - loss: 22.4329 - mae: 22.4329\n",
            "Epoch 85/100\n",
            "2/2 [==============================] - 0s 12ms/step - loss: 17.0154 - mae: 17.0154\n",
            "Epoch 86/100\n",
            "2/2 [==============================] - 0s 5ms/step - loss: 17.6635 - mae: 17.6635\n",
            "Epoch 87/100\n",
            "2/2 [==============================] - 0s 5ms/step - loss: 10.3932 - mae: 10.3932\n",
            "Epoch 88/100\n",
            "2/2 [==============================] - 0s 8ms/step - loss: 28.5658 - mae: 28.5658\n",
            "Epoch 89/100\n",
            "2/2 [==============================] - 0s 12ms/step - loss: 7.9967 - mae: 7.9967\n",
            "Epoch 90/100\n",
            "2/2 [==============================] - 0s 6ms/step - loss: 18.3571 - mae: 18.3571\n",
            "Epoch 91/100\n",
            "2/2 [==============================] - 0s 6ms/step - loss: 18.4098 - mae: 18.4098\n",
            "Epoch 92/100\n",
            "2/2 [==============================] - 0s 7ms/step - loss: 20.0926 - mae: 20.0926\n",
            "Epoch 93/100\n",
            "2/2 [==============================] - 0s 7ms/step - loss: 21.9748 - mae: 21.9748\n",
            "Epoch 94/100\n",
            "2/2 [==============================] - 0s 5ms/step - loss: 24.4311 - mae: 24.4311\n",
            "Epoch 95/100\n",
            "2/2 [==============================] - 0s 5ms/step - loss: 29.7424 - mae: 29.7424\n",
            "Epoch 96/100\n",
            "2/2 [==============================] - 0s 6ms/step - loss: 20.6311 - mae: 20.6311\n",
            "Epoch 97/100\n",
            "2/2 [==============================] - 0s 6ms/step - loss: 21.3242 - mae: 21.3242\n",
            "Epoch 98/100\n",
            "2/2 [==============================] - 0s 6ms/step - loss: 12.9625 - mae: 12.9625\n",
            "Epoch 99/100\n",
            "2/2 [==============================] - 0s 7ms/step - loss: 16.3129 - mae: 16.3129\n",
            "Epoch 100/100\n",
            "2/2 [==============================] - 0s 5ms/step - loss: 20.7818 - mae: 20.7818\n"
          ]
        },
        {
          "output_type": "execute_result",
          "data": {
            "text/plain": [
              "<keras.callbacks.History at 0x7f7eb787e390>"
            ]
          },
          "metadata": {},
          "execution_count": 44
        }
      ]
    },
    {
      "cell_type": "code",
      "source": [
        "y_preds_2 = model_2.predict(X_test)\n",
        "plot_results(predictions=y_preds_2)"
      ],
      "metadata": {
        "colab": {
          "base_uri": "https://localhost:8080/",
          "height": 445
        },
        "id": "msUbGP0kI1pq",
        "outputId": "5d21d6c5-5452-462b-d73e-68e40c4bcc0d"
      },
      "execution_count": 45,
      "outputs": [
        {
          "output_type": "stream",
          "name": "stdout",
          "text": [
            "1/1 [==============================] - 0s 161ms/step\n"
          ]
        },
        {
          "output_type": "display_data",
          "data": {
            "text/plain": [
              "<Figure size 720x504 with 1 Axes>"
            ],
            "image/png": "[encoded data removed]"
          },
          "metadata": {
            "needs_background": "light"
          }
        }
      ]
    },
    {
      "cell_type": "code",
      "source": [
        "mae_2 = mae(y_test, y_preds_2)\n",
        "mse_2 = mse(y_test, y_preds_2)\n",
        "\n",
        "mae_2, mse_2"
      ],
      "metadata": {
        "colab": {
          "base_uri": "https://localhost:8080/"
        },
        "id": "Aj_HnUjuJBk0",
        "outputId": "85e1790b-1684-4b6d-8eb6-ed1e63ea1bd0"
      },
      "execution_count": 46,
      "outputs": [
        {
          "output_type": "execute_result",
          "data": {
            "text/plain": [
              "(<tf.Tensor: shape=(), dtype=float32, numpy=33.19091>,\n",
              " <tf.Tensor: shape=(), dtype=float32, numpy=1114.8477>)"
            ]
          },
          "metadata": {},
          "execution_count": 46
        }
      ]
    },
    {
      "cell_type": "code",
      "source": [
        "# set random seed\n",
        "\n",
        "tf.random.set_seed(42)\n",
        "\n",
        "# 1. Create the model\n",
        "model_3 = tf.keras.Sequential()\n",
        "model_3.add(tf.keras.layers.Dense(100))\n",
        "model_3.add(tf.keras.layers.Dense(100))\n",
        "model_3.add(tf.keras.layers.Dense(1))\n",
        "\n",
        "# 2. Compile the model \n",
        "model_3.compile(loss=tf.keras.losses.mae,\n",
        "                optimizer=tf.keras.optimizers.Adam(lr=0.01),\n",
        "                metrics=[\"mae\"])\n",
        "\n",
        "# 3. Fit the model\n",
        "model_3.fit(tf.expand_dims(X, axis=-1), y, epochs=500)"
      ],
      "metadata": {
        "colab": {
          "base_uri": "https://localhost:8080/"
        },
        "id": "VOl84t2-K4XX",
        "outputId": "deb21d54-9946-47b9-fbff-9db18038b459"
      },
      "execution_count": 47,
      "outputs": [
        {
          "output_type": "stream",
          "name": "stdout",
          "text": [
            "Epoch 1/500\n",
            "2/2 [==============================] - 0s 9ms/step - loss: 46.4888 - mae: 46.4888\n",
            "Epoch 2/500\n",
            "2/2 [==============================] - 0s 10ms/step - loss: 15.3434 - mae: 15.3434\n",
            "Epoch 3/500\n",
            "2/2 [==============================] - 0s 10ms/step - loss: 28.6591 - mae: 28.6591\n",
            "Epoch 4/500\n",
            "2/2 [==============================] - 0s 8ms/step - loss: 18.3257 - mae: 18.3257\n",
            "Epoch 5/500\n",
            "2/2 [==============================] - 0s 7ms/step - loss: 13.9304 - mae: 13.9304\n",
            "Epoch 6/500\n",
            "2/2 [==============================] - 0s 11ms/step - loss: 12.5135 - mae: 12.5135\n",
            "Epoch 7/500\n",
            "2/2 [==============================] - 0s 7ms/step - loss: 9.7662 - mae: 9.7662\n",
            "Epoch 8/500\n",
            "2/2 [==============================] - 0s 6ms/step - loss: 11.5801 - mae: 11.5801\n",
            "Epoch 9/500\n",
            "2/2 [==============================] - 0s 7ms/step - loss: 7.7169 - mae: 7.7169\n",
            "Epoch 10/500\n",
            "2/2 [==============================] - 0s 7ms/step - loss: 9.1008 - mae: 9.1008\n",
            "Epoch 11/500\n",
            "2/2 [==============================] - 0s 10ms/step - loss: 7.5707 - mae: 7.5707\n",
            "Epoch 12/500\n",
            "2/2 [==============================] - 0s 6ms/step - loss: 7.0313 - mae: 7.0313\n",
            "Epoch 13/500\n",
            "2/2 [==============================] - 0s 7ms/step - loss: 6.9672 - mae: 6.9672\n",
            "Epoch 14/500\n",
            "2/2 [==============================] - 0s 8ms/step - loss: 6.5069 - mae: 6.5069\n",
            "Epoch 15/500\n",
            "2/2 [==============================] - 0s 6ms/step - loss: 6.0843 - mae: 6.0843\n",
            "Epoch 16/500\n",
            "2/2 [==============================] - 0s 7ms/step - loss: 5.4169 - mae: 5.4169\n",
            "Epoch 17/500\n",
            "2/2 [==============================] - 0s 8ms/step - loss: 5.6010 - mae: 5.6010\n",
            "Epoch 18/500\n",
            "2/2 [==============================] - 0s 6ms/step - loss: 4.2436 - mae: 4.2436\n",
            "Epoch 19/500\n",
            "2/2 [==============================] - 0s 6ms/step - loss: 3.9064 - mae: 3.9064\n",
            "Epoch 20/500\n",
            "2/2 [==============================] - 0s 7ms/step - loss: 4.6718 - mae: 4.6718\n",
            "Epoch 21/500\n",
            "2/2 [==============================] - 0s 9ms/step - loss: 1.8072 - mae: 1.8072\n",
            "Epoch 22/500\n",
            "2/2 [==============================] - 0s 8ms/step - loss: 2.0734 - mae: 2.0734\n",
            "Epoch 23/500\n",
            "2/2 [==============================] - 0s 7ms/step - loss: 2.0571 - mae: 2.0571\n",
            "Epoch 24/500\n",
            "2/2 [==============================] - 0s 6ms/step - loss: 2.7914 - mae: 2.7914\n",
            "Epoch 25/500\n",
            "2/2 [==============================] - 0s 8ms/step - loss: 6.5992 - mae: 6.5992\n",
            "Epoch 26/500\n",
            "2/2 [==============================] - 0s 6ms/step - loss: 4.5761 - mae: 4.5761\n",
            "Epoch 27/500\n",
            "2/2 [==============================] - 0s 6ms/step - loss: 7.7631 - mae: 7.7631\n",
            "Epoch 28/500\n",
            "2/2 [==============================] - 0s 6ms/step - loss: 7.2018 - mae: 7.2018\n",
            "Epoch 29/500\n",
            "2/2 [==============================] - 0s 9ms/step - loss: 4.3309 - mae: 4.3309\n",
            "Epoch 30/500\n",
            "2/2 [==============================] - 0s 7ms/step - loss: 5.7987 - mae: 5.7987\n",
            "Epoch 31/500\n",
            "2/2 [==============================] - 0s 7ms/step - loss: 1.4678 - mae: 1.4678\n",
            "Epoch 32/500\n",
            "2/2 [==============================] - 0s 8ms/step - loss: 1.7785 - mae: 1.7785\n",
            "Epoch 33/500\n",
            "2/2 [==============================] - 0s 7ms/step - loss: 3.1568 - mae: 3.1568\n",
            "Epoch 34/500\n",
            "2/2 [==============================] - 0s 7ms/step - loss: 2.5314 - mae: 2.5314\n",
            "Epoch 35/500\n",
            "2/2 [==============================] - 0s 7ms/step - loss: 1.9187 - mae: 1.9187\n",
            "Epoch 36/500\n",
            "2/2 [==============================] - 0s 7ms/step - loss: 3.9550 - mae: 3.9550\n",
            "Epoch 37/500\n",
            "2/2 [==============================] - 0s 7ms/step - loss: 1.0129 - mae: 1.0129\n",
            "Epoch 38/500\n",
            "2/2 [==============================] - 0s 7ms/step - loss: 0.6913 - mae: 0.6913\n",
            "Epoch 39/500\n",
            "2/2 [==============================] - 0s 7ms/step - loss: 1.4327 - mae: 1.4327\n",
            "Epoch 40/500\n",
            "2/2 [==============================] - 0s 8ms/step - loss: 2.5268 - mae: 2.5268\n",
            "Epoch 41/500\n",
            "2/2 [==============================] - 0s 8ms/step - loss: 4.1235 - mae: 4.1235\n",
            "Epoch 42/500\n",
            "2/2 [==============================] - 0s 7ms/step - loss: 3.5820 - mae: 3.5820\n",
            "Epoch 43/500\n",
            "2/2 [==============================] - 0s 8ms/step - loss: 4.2325 - mae: 4.2325\n",
            "Epoch 44/500\n",
            "2/2 [==============================] - 0s 9ms/step - loss: 3.3042 - mae: 3.3042\n",
            "Epoch 45/500\n",
            "2/2 [==============================] - 0s 9ms/step - loss: 5.0332 - mae: 5.0332\n",
            "Epoch 46/500\n",
            "2/2 [==============================] - 0s 9ms/step - loss: 5.6881 - mae: 5.6881\n",
            "Epoch 47/500\n",
            "2/2 [==============================] - 0s 7ms/step - loss: 2.1944 - mae: 2.1944\n",
            "Epoch 48/500\n",
            "2/2 [==============================] - 0s 7ms/step - loss: 8.8302 - mae: 8.8302\n",
            "Epoch 49/500\n",
            "2/2 [==============================] - 0s 5ms/step - loss: 3.5460 - mae: 3.5460\n",
            "Epoch 50/500\n",
            "2/2 [==============================] - 0s 6ms/step - loss: 7.1275 - mae: 7.1275\n",
            "Epoch 51/500\n",
            "2/2 [==============================] - 0s 11ms/step - loss: 11.1506 - mae: 11.1506\n",
            "Epoch 52/500\n",
            "2/2 [==============================] - 0s 6ms/step - loss: 7.9685 - mae: 7.9685\n",
            "Epoch 53/500\n",
            "2/2 [==============================] - 0s 12ms/step - loss: 2.5091 - mae: 2.5091\n",
            "Epoch 54/500\n",
            "2/2 [==============================] - 0s 7ms/step - loss: 6.2186 - mae: 6.2186\n",
            "Epoch 55/500\n",
            "2/2 [==============================] - 0s 7ms/step - loss: 2.2890 - mae: 2.2890\n",
            "Epoch 56/500\n",
            "2/2 [==============================] - 0s 8ms/step - loss: 5.1931 - mae: 5.1931\n",
            "Epoch 57/500\n",
            "2/2 [==============================] - 0s 8ms/step - loss: 2.5690 - mae: 2.5690\n",
            "Epoch 58/500\n",
            "2/2 [==============================] - 0s 8ms/step - loss: 2.2727 - mae: 2.2727\n",
            "Epoch 59/500\n",
            "2/2 [==============================] - 0s 8ms/step - loss: 1.1816 - mae: 1.1816\n",
            "Epoch 60/500\n",
            "2/2 [==============================] - 0s 6ms/step - loss: 0.2295 - mae: 0.2295\n",
            "Epoch 61/500\n",
            "2/2 [==============================] - 0s 7ms/step - loss: 1.4772 - mae: 1.4772\n",
            "Epoch 62/500\n",
            "2/2 [==============================] - 0s 9ms/step - loss: 1.4691 - mae: 1.4691\n",
            "Epoch 63/500\n",
            "2/2 [==============================] - 0s 9ms/step - loss: 0.2097 - mae: 0.2097\n",
            "Epoch 64/500\n",
            "2/2 [==============================] - 0s 12ms/step - loss: 0.8778 - mae: 0.8778\n",
            "Epoch 65/500\n",
            "2/2 [==============================] - 0s 10ms/step - loss: 2.5739 - mae: 2.5739\n",
            "Epoch 66/500\n",
            "2/2 [==============================] - 0s 11ms/step - loss: 1.5591 - mae: 1.5591\n",
            "Epoch 67/500\n",
            "2/2 [==============================] - 0s 7ms/step - loss: 3.4664 - mae: 3.4664\n",
            "Epoch 68/500\n",
            "2/2 [==============================] - 0s 15ms/step - loss: 1.6170 - mae: 1.6170\n",
            "Epoch 69/500\n",
            "2/2 [==============================] - 0s 7ms/step - loss: 3.6031 - mae: 3.6031\n",
            "Epoch 70/500\n",
            "2/2 [==============================] - 0s 11ms/step - loss: 0.5261 - mae: 0.5261\n",
            "Epoch 71/500\n",
            "2/2 [==============================] - 0s 10ms/step - loss: 0.9825 - mae: 0.9825\n",
            "Epoch 72/500\n",
            "2/2 [==============================] - 0s 13ms/step - loss: 1.3618 - mae: 1.3618\n",
            "Epoch 73/500\n",
            "2/2 [==============================] - 0s 6ms/step - loss: 3.9006 - mae: 3.9006\n",
            "Epoch 74/500\n",
            "2/2 [==============================] - 0s 14ms/step - loss: 3.7247 - mae: 3.7247\n",
            "Epoch 75/500\n",
            "2/2 [==============================] - 0s 7ms/step - loss: 1.9023 - mae: 1.9023\n",
            "Epoch 76/500\n",
            "2/2 [==============================] - 0s 15ms/step - loss: 1.6708 - mae: 1.6708\n",
            "Epoch 77/500\n",
            "2/2 [==============================] - 0s 6ms/step - loss: 0.7336 - mae: 0.7336\n",
            "Epoch 78/500\n",
            "2/2 [==============================] - 0s 15ms/step - loss: 0.5846 - mae: 0.5846\n",
            "Epoch 79/500\n",
            "2/2 [==============================] - 0s 6ms/step - loss: 0.9002 - mae: 0.9002\n",
            "Epoch 80/500\n",
            "2/2 [==============================] - 0s 7ms/step - loss: 1.0969 - mae: 1.0969\n",
            "Epoch 81/500\n",
            "2/2 [==============================] - 0s 15ms/step - loss: 0.7421 - mae: 0.7421\n",
            "Epoch 82/500\n",
            "2/2 [==============================] - 0s 7ms/step - loss: 1.1608 - mae: 1.1608\n",
            "Epoch 83/500\n",
            "2/2 [==============================] - 0s 7ms/step - loss: 1.1475 - mae: 1.1475\n",
            "Epoch 84/500\n",
            "2/2 [==============================] - 0s 14ms/step - loss: 3.2078 - mae: 3.2078\n",
            "Epoch 85/500\n",
            "2/2 [==============================] - 0s 7ms/step - loss: 2.1052 - mae: 2.1052\n",
            "Epoch 86/500\n",
            "2/2 [==============================] - 0s 7ms/step - loss: 4.3215 - mae: 4.3215\n",
            "Epoch 87/500\n",
            "2/2 [==============================] - 0s 11ms/step - loss: 4.2749 - mae: 4.2749\n",
            "Epoch 88/500\n",
            "2/2 [==============================] - 0s 7ms/step - loss: 1.9585 - mae: 1.9585\n",
            "Epoch 89/500\n",
            "2/2 [==============================] - 0s 8ms/step - loss: 2.1163 - mae: 2.1163\n",
            "Epoch 90/500\n",
            "2/2 [==============================] - 0s 7ms/step - loss: 3.0107 - mae: 3.0107\n",
            "Epoch 91/500\n",
            "2/2 [==============================] - 0s 6ms/step - loss: 2.5854 - mae: 2.5854\n",
            "Epoch 92/500\n",
            "2/2 [==============================] - 0s 9ms/step - loss: 3.3370 - mae: 3.3370\n",
            "Epoch 93/500\n",
            "2/2 [==============================] - 0s 9ms/step - loss: 3.6666 - mae: 3.6666\n",
            "Epoch 94/500\n",
            "2/2 [==============================] - 0s 5ms/step - loss: 1.1437 - mae: 1.1437\n",
            "Epoch 95/500\n",
            "2/2 [==============================] - 0s 6ms/step - loss: 1.2309 - mae: 1.2309\n",
            "Epoch 96/500\n",
            "2/2 [==============================] - 0s 5ms/step - loss: 1.5721 - mae: 1.5721\n",
            "Epoch 97/500\n",
            "2/2 [==============================] - 0s 6ms/step - loss: 2.1366 - mae: 2.1366\n",
            "Epoch 98/500\n",
            "2/2 [==============================] - 0s 5ms/step - loss: 1.4137 - mae: 1.4137\n",
            "Epoch 99/500\n",
            "2/2 [==============================] - 0s 5ms/step - loss: 2.5105 - mae: 2.5105\n",
            "Epoch 100/500\n",
            "2/2 [==============================] - 0s 6ms/step - loss: 0.4619 - mae: 0.4619\n",
            "Epoch 101/500\n",
            "2/2 [==============================] - 0s 13ms/step - loss: 0.3397 - mae: 0.3397\n",
            "Epoch 102/500\n",
            "2/2 [==============================] - 0s 5ms/step - loss: 0.4430 - mae: 0.4430\n",
            "Epoch 103/500\n",
            "2/2 [==============================] - 0s 5ms/step - loss: 0.4098 - mae: 0.4098\n",
            "Epoch 104/500\n",
            "2/2 [==============================] - 0s 11ms/step - loss: 0.6347 - mae: 0.6347\n",
            "Epoch 105/500\n",
            "2/2 [==============================] - 0s 6ms/step - loss: 0.5671 - mae: 0.5671\n",
            "Epoch 106/500\n",
            "2/2 [==============================] - 0s 5ms/step - loss: 0.9677 - mae: 0.9677\n",
            "Epoch 107/500\n",
            "2/2 [==============================] - 0s 6ms/step - loss: 1.2464 - mae: 1.2464\n",
            "Epoch 108/500\n",
            "2/2 [==============================] - 0s 6ms/step - loss: 1.8272 - mae: 1.8272\n",
            "Epoch 109/500\n",
            "2/2 [==============================] - 0s 6ms/step - loss: 1.3065 - mae: 1.3065\n",
            "Epoch 110/500\n",
            "2/2 [==============================] - 0s 6ms/step - loss: 2.7032 - mae: 2.7032\n",
            "Epoch 111/500\n",
            "2/2 [==============================] - 0s 7ms/step - loss: 0.6638 - mae: 0.6638\n",
            "Epoch 112/500\n",
            "2/2 [==============================] - 0s 7ms/step - loss: 0.1518 - mae: 0.1518\n",
            "Epoch 113/500\n",
            "2/2 [==============================] - 0s 5ms/step - loss: 0.9831 - mae: 0.9831\n",
            "Epoch 114/500\n",
            "2/2 [==============================] - 0s 5ms/step - loss: 1.8376 - mae: 1.8376\n",
            "Epoch 115/500\n",
            "2/2 [==============================] - 0s 5ms/step - loss: 1.2899 - mae: 1.2899\n",
            "Epoch 116/500\n",
            "2/2 [==============================] - 0s 6ms/step - loss: 2.5537 - mae: 2.5537\n",
            "Epoch 117/500\n",
            "2/2 [==============================] - 0s 10ms/step - loss: 1.1502 - mae: 1.1502\n",
            "Epoch 118/500\n",
            "2/2 [==============================] - 0s 7ms/step - loss: 1.0894 - mae: 1.0894\n",
            "Epoch 119/500\n",
            "2/2 [==============================] - 0s 9ms/step - loss: 2.6058 - mae: 2.6058\n",
            "Epoch 120/500\n",
            "2/2 [==============================] - 0s 11ms/step - loss: 1.1224 - mae: 1.1224\n",
            "Epoch 121/500\n",
            "2/2 [==============================] - 0s 6ms/step - loss: 1.0571 - mae: 1.0571\n",
            "Epoch 122/500\n",
            "2/2 [==============================] - 0s 7ms/step - loss: 1.0822 - mae: 1.0822\n",
            "Epoch 123/500\n",
            "2/2 [==============================] - 0s 6ms/step - loss: 0.7431 - mae: 0.7431\n",
            "Epoch 124/500\n",
            "2/2 [==============================] - 0s 6ms/step - loss: 0.8054 - mae: 0.8054\n",
            "Epoch 125/500\n",
            "2/2 [==============================] - 0s 6ms/step - loss: 0.8808 - mae: 0.8808\n",
            "Epoch 126/500\n",
            "2/2 [==============================] - 0s 8ms/step - loss: 1.4526 - mae: 1.4526\n",
            "Epoch 127/500\n",
            "2/2 [==============================] - 0s 7ms/step - loss: 3.1145 - mae: 3.1145\n",
            "Epoch 128/500\n",
            "2/2 [==============================] - 0s 6ms/step - loss: 2.4155 - mae: 2.4155\n",
            "Epoch 129/500\n",
            "2/2 [==============================] - 0s 6ms/step - loss: 2.9703 - mae: 2.9703\n",
            "Epoch 130/500\n",
            "2/2 [==============================] - 0s 16ms/step - loss: 3.1161 - mae: 3.1161\n",
            "Epoch 131/500\n",
            "2/2 [==============================] - 0s 6ms/step - loss: 2.2705 - mae: 2.2705\n",
            "Epoch 132/500\n",
            "2/2 [==============================] - 0s 6ms/step - loss: 1.9948 - mae: 1.9948\n",
            "Epoch 133/500\n",
            "2/2 [==============================] - 0s 7ms/step - loss: 3.1700 - mae: 3.1700\n",
            "Epoch 134/500\n",
            "2/2 [==============================] - 0s 6ms/step - loss: 2.7470 - mae: 2.7470\n",
            "Epoch 135/500\n",
            "2/2 [==============================] - 0s 7ms/step - loss: 2.9613 - mae: 2.9613\n",
            "Epoch 136/500\n",
            "2/2 [==============================] - 0s 7ms/step - loss: 3.2894 - mae: 3.2894\n",
            "Epoch 137/500\n",
            "2/2 [==============================] - 0s 7ms/step - loss: 1.2073 - mae: 1.2073\n",
            "Epoch 138/500\n",
            "2/2 [==============================] - 0s 8ms/step - loss: 1.1676 - mae: 1.1676\n",
            "Epoch 139/500\n",
            "2/2 [==============================] - 0s 6ms/step - loss: 1.6509 - mae: 1.6509\n",
            "Epoch 140/500\n",
            "2/2 [==============================] - 0s 11ms/step - loss: 1.5254 - mae: 1.5254\n",
            "Epoch 141/500\n",
            "2/2 [==============================] - 0s 8ms/step - loss: 1.1252 - mae: 1.1252\n",
            "Epoch 142/500\n",
            "2/2 [==============================] - 0s 6ms/step - loss: 1.9073 - mae: 1.9073\n",
            "Epoch 143/500\n",
            "2/2 [==============================] - 0s 7ms/step - loss: 1.7222 - mae: 1.7222\n",
            "Epoch 144/500\n",
            "2/2 [==============================] - 0s 6ms/step - loss: 1.0966 - mae: 1.0966\n",
            "Epoch 145/500\n",
            "2/2 [==============================] - 0s 6ms/step - loss: 0.8219 - mae: 0.8219\n",
            "Epoch 146/500\n",
            "2/2 [==============================] - 0s 6ms/step - loss: 0.8322 - mae: 0.8322\n",
            "Epoch 147/500\n",
            "2/2 [==============================] - 0s 7ms/step - loss: 1.3285 - mae: 1.3285\n",
            "Epoch 148/500\n",
            "2/2 [==============================] - 0s 6ms/step - loss: 2.3787 - mae: 2.3787\n",
            "Epoch 149/500\n",
            "2/2 [==============================] - 0s 6ms/step - loss: 1.3335 - mae: 1.3335\n",
            "Epoch 150/500\n",
            "2/2 [==============================] - 0s 13ms/step - loss: 0.9624 - mae: 0.9624\n",
            "Epoch 151/500\n",
            "2/2 [==============================] - 0s 6ms/step - loss: 2.5832 - mae: 2.5832\n",
            "Epoch 152/500\n",
            "2/2 [==============================] - 0s 7ms/step - loss: 1.5874 - mae: 1.5874\n",
            "Epoch 153/500\n",
            "2/2 [==============================] - 0s 6ms/step - loss: 1.2428 - mae: 1.2428\n",
            "Epoch 154/500\n",
            "2/2 [==============================] - 0s 6ms/step - loss: 1.4107 - mae: 1.4107\n",
            "Epoch 155/500\n",
            "2/2 [==============================] - 0s 7ms/step - loss: 1.0599 - mae: 1.0599\n",
            "Epoch 156/500\n",
            "2/2 [==============================] - 0s 6ms/step - loss: 2.3038 - mae: 2.3038\n",
            "Epoch 157/500\n",
            "2/2 [==============================] - 0s 7ms/step - loss: 0.8952 - mae: 0.8952\n",
            "Epoch 158/500\n",
            "2/2 [==============================] - 0s 13ms/step - loss: 0.1680 - mae: 0.1680\n",
            "Epoch 159/500\n",
            "2/2 [==============================] - 0s 6ms/step - loss: 0.6844 - mae: 0.6844\n",
            "Epoch 160/500\n",
            "2/2 [==============================] - 0s 9ms/step - loss: 1.4717 - mae: 1.4717\n",
            "Epoch 161/500\n",
            "2/2 [==============================] - 0s 7ms/step - loss: 0.7593 - mae: 0.7593\n",
            "Epoch 162/500\n",
            "2/2 [==============================] - 0s 6ms/step - loss: 1.1303 - mae: 1.1303\n",
            "Epoch 163/500\n",
            "2/2 [==============================] - 0s 6ms/step - loss: 2.3035 - mae: 2.3035\n",
            "Epoch 164/500\n",
            "2/2 [==============================] - 0s 7ms/step - loss: 1.3563 - mae: 1.3563\n",
            "Epoch 165/500\n",
            "2/2 [==============================] - 0s 6ms/step - loss: 2.0946 - mae: 2.0946\n",
            "Epoch 166/500\n",
            "2/2 [==============================] - 0s 7ms/step - loss: 0.8087 - mae: 0.8087\n",
            "Epoch 167/500\n",
            "2/2 [==============================] - 0s 13ms/step - loss: 0.5766 - mae: 0.5766\n",
            "Epoch 168/500\n",
            "2/2 [==============================] - 0s 6ms/step - loss: 0.8645 - mae: 0.8645\n",
            "Epoch 169/500\n",
            "2/2 [==============================] - 0s 7ms/step - loss: 1.0781 - mae: 1.0781\n",
            "Epoch 170/500\n",
            "2/2 [==============================] - 0s 14ms/step - loss: 0.7331 - mae: 0.7331\n",
            "Epoch 171/500\n",
            "2/2 [==============================] - 0s 6ms/step - loss: 1.9942 - mae: 1.9942\n",
            "Epoch 172/500\n",
            "2/2 [==============================] - 0s 7ms/step - loss: 1.2656 - mae: 1.2656\n",
            "Epoch 173/500\n",
            "2/2 [==============================] - 0s 11ms/step - loss: 2.3273 - mae: 2.3273\n",
            "Epoch 174/500\n",
            "2/2 [==============================] - 0s 6ms/step - loss: 0.9374 - mae: 0.9374\n",
            "Epoch 175/500\n",
            "2/2 [==============================] - 0s 7ms/step - loss: 1.6179 - mae: 1.6179\n",
            "Epoch 176/500\n",
            "2/2 [==============================] - 0s 6ms/step - loss: 2.3063 - mae: 2.3063\n",
            "Epoch 177/500\n",
            "2/2 [==============================] - 0s 12ms/step - loss: 1.7302 - mae: 1.7302\n",
            "Epoch 178/500\n",
            "2/2 [==============================] - 0s 6ms/step - loss: 2.1579 - mae: 2.1579\n",
            "Epoch 179/500\n",
            "2/2 [==============================] - 0s 7ms/step - loss: 1.2247 - mae: 1.2247\n",
            "Epoch 180/500\n",
            "2/2 [==============================] - 0s 6ms/step - loss: 3.1757 - mae: 3.1757\n",
            "Epoch 181/500\n",
            "2/2 [==============================] - 0s 7ms/step - loss: 1.3986 - mae: 1.3986\n",
            "Epoch 182/500\n",
            "2/2 [==============================] - 0s 12ms/step - loss: 4.6054 - mae: 4.6054\n",
            "Epoch 183/500\n",
            "2/2 [==============================] - 0s 8ms/step - loss: 2.4423 - mae: 2.4423\n",
            "Epoch 184/500\n",
            "2/2 [==============================] - 0s 11ms/step - loss: 3.6602 - mae: 3.6602\n",
            "Epoch 185/500\n",
            "2/2 [==============================] - 0s 7ms/step - loss: 4.7299 - mae: 4.7299\n",
            "Epoch 186/500\n",
            "2/2 [==============================] - 0s 12ms/step - loss: 1.6555 - mae: 1.6555\n",
            "Epoch 187/500\n",
            "2/2 [==============================] - 0s 6ms/step - loss: 6.0968 - mae: 6.0968\n",
            "Epoch 188/500\n",
            "2/2 [==============================] - 0s 8ms/step - loss: 4.7424 - mae: 4.7424\n",
            "Epoch 189/500\n",
            "2/2 [==============================] - 0s 6ms/step - loss: 1.1569 - mae: 1.1569\n",
            "Epoch 190/500\n",
            "2/2 [==============================] - 0s 14ms/step - loss: 1.3939 - mae: 1.3939\n",
            "Epoch 191/500\n",
            "2/2 [==============================] - 0s 6ms/step - loss: 2.3342 - mae: 2.3342\n",
            "Epoch 192/500\n",
            "2/2 [==============================] - 0s 6ms/step - loss: 1.5589 - mae: 1.5589\n",
            "Epoch 193/500\n",
            "2/2 [==============================] - 0s 6ms/step - loss: 1.2240 - mae: 1.2240\n",
            "Epoch 194/500\n",
            "2/2 [==============================] - 0s 7ms/step - loss: 1.3886 - mae: 1.3886\n",
            "Epoch 195/500\n",
            "2/2 [==============================] - 0s 13ms/step - loss: 2.7226 - mae: 2.7226\n",
            "Epoch 196/500\n",
            "2/2 [==============================] - 0s 9ms/step - loss: 1.6393 - mae: 1.6393\n",
            "Epoch 197/500\n",
            "2/2 [==============================] - 0s 6ms/step - loss: 0.9118 - mae: 0.9118\n",
            "Epoch 198/500\n",
            "2/2 [==============================] - 0s 6ms/step - loss: 1.8197 - mae: 1.8197\n",
            "Epoch 199/500\n",
            "2/2 [==============================] - 0s 6ms/step - loss: 1.1184 - mae: 1.1184\n",
            "Epoch 200/500\n",
            "2/2 [==============================] - 0s 7ms/step - loss: 3.2998 - mae: 3.2998\n",
            "Epoch 201/500\n",
            "2/2 [==============================] - 0s 6ms/step - loss: 1.5211 - mae: 1.5211\n",
            "Epoch 202/500\n",
            "2/2 [==============================] - 0s 6ms/step - loss: 2.7434 - mae: 2.7434\n",
            "Epoch 203/500\n",
            "2/2 [==============================] - 0s 7ms/step - loss: 1.2498 - mae: 1.2498\n",
            "Epoch 204/500\n",
            "2/2 [==============================] - 0s 5ms/step - loss: 3.9445 - mae: 3.9445\n",
            "Epoch 205/500\n",
            "2/2 [==============================] - 0s 6ms/step - loss: 1.7914 - mae: 1.7914\n",
            "Epoch 206/500\n",
            "2/2 [==============================] - 0s 7ms/step - loss: 1.5804 - mae: 1.5804\n",
            "Epoch 207/500\n",
            "2/2 [==============================] - 0s 6ms/step - loss: 0.7881 - mae: 0.7881\n",
            "Epoch 208/500\n",
            "2/2 [==============================] - 0s 6ms/step - loss: 0.2708 - mae: 0.2708\n",
            "Epoch 209/500\n",
            "2/2 [==============================] - 0s 6ms/step - loss: 0.5442 - mae: 0.5442\n",
            "Epoch 210/500\n",
            "2/2 [==============================] - 0s 6ms/step - loss: 0.2844 - mae: 0.2844\n",
            "Epoch 211/500\n",
            "2/2 [==============================] - 0s 6ms/step - loss: 0.4622 - mae: 0.4622\n",
            "Epoch 212/500\n",
            "2/2 [==============================] - 0s 6ms/step - loss: 0.9225 - mae: 0.9225\n",
            "Epoch 213/500\n",
            "2/2 [==============================] - 0s 12ms/step - loss: 1.3771 - mae: 1.3771\n",
            "Epoch 214/500\n",
            "2/2 [==============================] - 0s 6ms/step - loss: 2.0896 - mae: 2.0896\n",
            "Epoch 215/500\n",
            "2/2 [==============================] - 0s 6ms/step - loss: 1.3997 - mae: 1.3997\n",
            "Epoch 216/500\n",
            "2/2 [==============================] - 0s 6ms/step - loss: 1.8722 - mae: 1.8722\n",
            "Epoch 217/500\n",
            "2/2 [==============================] - 0s 10ms/step - loss: 0.9211 - mae: 0.9211\n",
            "Epoch 218/500\n",
            "2/2 [==============================] - 0s 5ms/step - loss: 3.3545 - mae: 3.3545\n",
            "Epoch 219/500\n",
            "2/2 [==============================] - 0s 5ms/step - loss: 1.2939 - mae: 1.2939\n",
            "Epoch 220/500\n",
            "2/2 [==============================] - 0s 4ms/step - loss: 1.7777 - mae: 1.7777\n",
            "Epoch 221/500\n",
            "2/2 [==============================] - 0s 5ms/step - loss: 1.0031 - mae: 1.0031\n",
            "Epoch 222/500\n",
            "2/2 [==============================] - 0s 4ms/step - loss: 0.8359 - mae: 0.8359\n",
            "Epoch 223/500\n",
            "2/2 [==============================] - 0s 5ms/step - loss: 0.9467 - mae: 0.9467\n",
            "Epoch 224/500\n",
            "2/2 [==============================] - 0s 5ms/step - loss: 1.8854 - mae: 1.8854\n",
            "Epoch 225/500\n",
            "2/2 [==============================] - 0s 5ms/step - loss: 1.2269 - mae: 1.2269\n",
            "Epoch 226/500\n",
            "2/2 [==============================] - 0s 6ms/step - loss: 2.5600 - mae: 2.5600\n",
            "Epoch 227/500\n",
            "2/2 [==============================] - 0s 6ms/step - loss: 1.1566 - mae: 1.1566\n",
            "Epoch 228/500\n",
            "2/2 [==============================] - 0s 6ms/step - loss: 4.1239 - mae: 4.1239\n",
            "Epoch 229/500\n",
            "2/2 [==============================] - 0s 7ms/step - loss: 2.1535 - mae: 2.1535\n",
            "Epoch 230/500\n",
            "2/2 [==============================] - 0s 5ms/step - loss: 2.9567 - mae: 2.9567\n",
            "Epoch 231/500\n",
            "2/2 [==============================] - 0s 6ms/step - loss: 2.3883 - mae: 2.3883\n",
            "Epoch 232/500\n",
            "2/2 [==============================] - 0s 7ms/step - loss: 2.5736 - mae: 2.5736\n",
            "Epoch 233/500\n",
            "2/2 [==============================] - 0s 6ms/step - loss: 2.9340 - mae: 2.9340\n",
            "Epoch 234/500\n",
            "2/2 [==============================] - 0s 9ms/step - loss: 1.1803 - mae: 1.1803\n",
            "Epoch 235/500\n",
            "2/2 [==============================] - 0s 9ms/step - loss: 1.0463 - mae: 1.0463\n",
            "Epoch 236/500\n",
            "2/2 [==============================] - 0s 7ms/step - loss: 0.9051 - mae: 0.9051\n",
            "Epoch 237/500\n",
            "2/2 [==============================] - 0s 6ms/step - loss: 2.5163 - mae: 2.5163\n",
            "Epoch 238/500\n",
            "2/2 [==============================] - 0s 6ms/step - loss: 1.3724 - mae: 1.3724\n",
            "Epoch 239/500\n",
            "2/2 [==============================] - 0s 6ms/step - loss: 1.0531 - mae: 1.0531\n",
            "Epoch 240/500\n",
            "2/2 [==============================] - 0s 6ms/step - loss: 1.5151 - mae: 1.5151\n",
            "Epoch 241/500\n",
            "2/2 [==============================] - 0s 6ms/step - loss: 1.0191 - mae: 1.0191\n",
            "Epoch 242/500\n",
            "2/2 [==============================] - 0s 6ms/step - loss: 2.7033 - mae: 2.7033\n",
            "Epoch 243/500\n",
            "2/2 [==============================] - 0s 5ms/step - loss: 1.1827 - mae: 1.1827\n",
            "Epoch 244/500\n",
            "2/2 [==============================] - 0s 6ms/step - loss: 3.8979 - mae: 3.8979\n",
            "Epoch 245/500\n",
            "2/2 [==============================] - 0s 7ms/step - loss: 1.7253 - mae: 1.7253\n",
            "Epoch 246/500\n",
            "2/2 [==============================] - 0s 7ms/step - loss: 2.2702 - mae: 2.2702\n",
            "Epoch 247/500\n",
            "2/2 [==============================] - 0s 6ms/step - loss: 1.1389 - mae: 1.1389\n",
            "Epoch 248/500\n",
            "2/2 [==============================] - 0s 6ms/step - loss: 3.8107 - mae: 3.8107\n",
            "Epoch 249/500\n",
            "2/2 [==============================] - 0s 6ms/step - loss: 1.6640 - mae: 1.6640\n",
            "Epoch 250/500\n",
            "2/2 [==============================] - 0s 7ms/step - loss: 1.7744 - mae: 1.7744\n",
            "Epoch 251/500\n",
            "2/2 [==============================] - 0s 6ms/step - loss: 0.1944 - mae: 0.1944\n",
            "Epoch 252/500\n",
            "2/2 [==============================] - 0s 6ms/step - loss: 0.7479 - mae: 0.7479\n",
            "Epoch 253/500\n",
            "2/2 [==============================] - 0s 7ms/step - loss: 1.2237 - mae: 1.2237\n",
            "Epoch 254/500\n",
            "2/2 [==============================] - 0s 6ms/step - loss: 0.1777 - mae: 0.1777\n",
            "Epoch 255/500\n",
            "2/2 [==============================] - 0s 6ms/step - loss: 0.8569 - mae: 0.8569\n",
            "Epoch 256/500\n",
            "2/2 [==============================] - 0s 6ms/step - loss: 1.2674 - mae: 1.2674\n",
            "Epoch 257/500\n",
            "2/2 [==============================] - 0s 13ms/step - loss: 0.6883 - mae: 0.6883\n",
            "Epoch 258/500\n",
            "2/2 [==============================] - 0s 6ms/step - loss: 1.9175 - mae: 1.9175\n",
            "Epoch 259/500\n",
            "2/2 [==============================] - 0s 7ms/step - loss: 1.1958 - mae: 1.1958\n",
            "Epoch 260/500\n",
            "2/2 [==============================] - 0s 14ms/step - loss: 0.9805 - mae: 0.9805\n",
            "Epoch 261/500\n",
            "2/2 [==============================] - 0s 6ms/step - loss: 2.3028 - mae: 2.3028\n",
            "Epoch 262/500\n",
            "2/2 [==============================] - 0s 6ms/step - loss: 0.9481 - mae: 0.9481\n",
            "Epoch 263/500\n",
            "2/2 [==============================] - 0s 9ms/step - loss: 2.9060 - mae: 2.9060\n",
            "Epoch 264/500\n",
            "2/2 [==============================] - 0s 6ms/step - loss: 1.3040 - mae: 1.3040\n",
            "Epoch 265/500\n",
            "2/2 [==============================] - 0s 7ms/step - loss: 2.8942 - mae: 2.8942\n",
            "Epoch 266/500\n",
            "2/2 [==============================] - 0s 6ms/step - loss: 1.2683 - mae: 1.2683\n",
            "Epoch 267/500\n",
            "2/2 [==============================] - 0s 6ms/step - loss: 4.0208 - mae: 4.0208\n",
            "Epoch 268/500\n",
            "2/2 [==============================] - 0s 7ms/step - loss: 2.1606 - mae: 2.1606\n",
            "Epoch 269/500\n",
            "2/2 [==============================] - 0s 6ms/step - loss: 3.6629 - mae: 3.6629\n",
            "Epoch 270/500\n",
            "2/2 [==============================] - 0s 14ms/step - loss: 3.9391 - mae: 3.9391\n",
            "Epoch 271/500\n",
            "2/2 [==============================] - 0s 6ms/step - loss: 0.7255 - mae: 0.7255\n",
            "Epoch 272/500\n",
            "2/2 [==============================] - 0s 7ms/step - loss: 1.0151 - mae: 1.0151\n",
            "Epoch 273/500\n",
            "2/2 [==============================] - 0s 12ms/step - loss: 1.4723 - mae: 1.4723\n",
            "Epoch 274/500\n",
            "2/2 [==============================] - 0s 6ms/step - loss: 1.9667 - mae: 1.9667\n",
            "Epoch 275/500\n",
            "2/2 [==============================] - 0s 7ms/step - loss: 1.1025 - mae: 1.1025\n",
            "Epoch 276/500\n",
            "2/2 [==============================] - 0s 7ms/step - loss: 0.5562 - mae: 0.5562\n",
            "Epoch 277/500\n",
            "2/2 [==============================] - 0s 6ms/step - loss: 0.7589 - mae: 0.7589\n",
            "Epoch 278/500\n",
            "2/2 [==============================] - 0s 8ms/step - loss: 0.9535 - mae: 0.9535\n",
            "Epoch 279/500\n",
            "2/2 [==============================] - 0s 6ms/step - loss: 0.6397 - mae: 0.6397\n",
            "Epoch 280/500\n",
            "2/2 [==============================] - 0s 13ms/step - loss: 0.6554 - mae: 0.6554\n",
            "Epoch 281/500\n",
            "2/2 [==============================] - 0s 6ms/step - loss: 0.7149 - mae: 0.7149\n",
            "Epoch 282/500\n",
            "2/2 [==============================] - 0s 6ms/step - loss: 0.6983 - mae: 0.6983\n",
            "Epoch 283/500\n",
            "2/2 [==============================] - 0s 7ms/step - loss: 0.7154 - mae: 0.7154\n",
            "Epoch 284/500\n",
            "2/2 [==============================] - 0s 6ms/step - loss: 0.4367 - mae: 0.4367\n",
            "Epoch 285/500\n",
            "2/2 [==============================] - 0s 7ms/step - loss: 0.7454 - mae: 0.7454\n",
            "Epoch 286/500\n",
            "2/2 [==============================] - 0s 7ms/step - loss: 0.7338 - mae: 0.7338\n",
            "Epoch 287/500\n",
            "2/2 [==============================] - 0s 6ms/step - loss: 0.6685 - mae: 0.6685\n",
            "Epoch 288/500\n",
            "2/2 [==============================] - 0s 7ms/step - loss: 0.6592 - mae: 0.6592\n",
            "Epoch 289/500\n",
            "2/2 [==============================] - 0s 14ms/step - loss: 0.8098 - mae: 0.8098\n",
            "Epoch 290/500\n",
            "2/2 [==============================] - 0s 8ms/step - loss: 2.4432 - mae: 2.4432\n",
            "Epoch 291/500\n",
            "2/2 [==============================] - 0s 6ms/step - loss: 1.8339 - mae: 1.8339\n",
            "Epoch 292/500\n",
            "2/2 [==============================] - 0s 6ms/step - loss: 2.6690 - mae: 2.6690\n",
            "Epoch 293/500\n",
            "2/2 [==============================] - 0s 8ms/step - loss: 2.5439 - mae: 2.5439\n",
            "Epoch 294/500\n",
            "2/2 [==============================] - 0s 6ms/step - loss: 1.8365 - mae: 1.8365\n",
            "Epoch 295/500\n",
            "2/2 [==============================] - 0s 7ms/step - loss: 1.9428 - mae: 1.9428\n",
            "Epoch 296/500\n",
            "2/2 [==============================] - 0s 6ms/step - loss: 1.9063 - mae: 1.9063\n",
            "Epoch 297/500\n",
            "2/2 [==============================] - 0s 6ms/step - loss: 1.3213 - mae: 1.3213\n",
            "Epoch 298/500\n",
            "2/2 [==============================] - 0s 6ms/step - loss: 1.7740 - mae: 1.7740\n",
            "Epoch 299/500\n",
            "2/2 [==============================] - 0s 6ms/step - loss: 1.0556 - mae: 1.0556\n",
            "Epoch 300/500\n",
            "2/2 [==============================] - 0s 6ms/step - loss: 1.4240 - mae: 1.4240\n",
            "Epoch 301/500\n",
            "2/2 [==============================] - 0s 6ms/step - loss: 1.2396 - mae: 1.2396\n",
            "Epoch 302/500\n",
            "2/2 [==============================] - 0s 11ms/step - loss: 0.9568 - mae: 0.9568\n",
            "Epoch 303/500\n",
            "2/2 [==============================] - 0s 6ms/step - loss: 1.5057 - mae: 1.5057\n",
            "Epoch 304/500\n",
            "2/2 [==============================] - 0s 14ms/step - loss: 1.6242 - mae: 1.6242\n",
            "Epoch 305/500\n",
            "2/2 [==============================] - 0s 6ms/step - loss: 1.4067 - mae: 1.4067\n",
            "Epoch 306/500\n",
            "2/2 [==============================] - 0s 6ms/step - loss: 1.1638 - mae: 1.1638\n",
            "Epoch 307/500\n",
            "2/2 [==============================] - 0s 6ms/step - loss: 0.5195 - mae: 0.5195\n",
            "Epoch 308/500\n",
            "2/2 [==============================] - 0s 6ms/step - loss: 0.7811 - mae: 0.7811\n",
            "Epoch 309/500\n",
            "2/2 [==============================] - 0s 6ms/step - loss: 1.3982 - mae: 1.3982\n",
            "Epoch 310/500\n",
            "2/2 [==============================] - 0s 7ms/step - loss: 1.1283 - mae: 1.1283\n",
            "Epoch 311/500\n",
            "2/2 [==============================] - 0s 6ms/step - loss: 0.8096 - mae: 0.8096\n",
            "Epoch 312/500\n",
            "2/2 [==============================] - 0s 9ms/step - loss: 0.7509 - mae: 0.7509\n",
            "Epoch 313/500\n",
            "2/2 [==============================] - 0s 7ms/step - loss: 0.6738 - mae: 0.6738\n",
            "Epoch 314/500\n",
            "2/2 [==============================] - 0s 6ms/step - loss: 1.1683 - mae: 1.1683\n",
            "Epoch 315/500\n",
            "2/2 [==============================] - 0s 6ms/step - loss: 0.6969 - mae: 0.6969\n",
            "Epoch 316/500\n",
            "2/2 [==============================] - 0s 6ms/step - loss: 0.4792 - mae: 0.4792\n",
            "Epoch 317/500\n",
            "2/2 [==============================] - 0s 14ms/step - loss: 0.6671 - mae: 0.6671\n",
            "Epoch 318/500\n",
            "2/2 [==============================] - 0s 6ms/step - loss: 1.2733 - mae: 1.2733\n",
            "Epoch 319/500\n",
            "2/2 [==============================] - 0s 6ms/step - loss: 1.7130 - mae: 1.7130\n",
            "Epoch 320/500\n",
            "2/2 [==============================] - 0s 6ms/step - loss: 1.1408 - mae: 1.1408\n",
            "Epoch 321/500\n",
            "2/2 [==============================] - 0s 6ms/step - loss: 1.6770 - mae: 1.6770\n",
            "Epoch 322/500\n",
            "2/2 [==============================] - 0s 5ms/step - loss: 0.3904 - mae: 0.3904\n",
            "Epoch 323/500\n",
            "2/2 [==============================] - 0s 6ms/step - loss: 0.3656 - mae: 0.3656\n",
            "Epoch 324/500\n",
            "2/2 [==============================] - 0s 6ms/step - loss: 0.4096 - mae: 0.4096\n",
            "Epoch 325/500\n",
            "2/2 [==============================] - 0s 6ms/step - loss: 0.3235 - mae: 0.3235\n",
            "Epoch 326/500\n",
            "2/2 [==============================] - 0s 7ms/step - loss: 0.2975 - mae: 0.2975\n",
            "Epoch 327/500\n",
            "2/2 [==============================] - 0s 11ms/step - loss: 0.3794 - mae: 0.3794\n",
            "Epoch 328/500\n",
            "2/2 [==============================] - 0s 6ms/step - loss: 0.4824 - mae: 0.4824\n",
            "Epoch 329/500\n",
            "2/2 [==============================] - 0s 7ms/step - loss: 0.6756 - mae: 0.6756\n",
            "Epoch 330/500\n",
            "2/2 [==============================] - 0s 10ms/step - loss: 0.7557 - mae: 0.7557\n",
            "Epoch 331/500\n",
            "2/2 [==============================] - 0s 6ms/step - loss: 0.6591 - mae: 0.6591\n",
            "Epoch 332/500\n",
            "2/2 [==============================] - 0s 6ms/step - loss: 0.5905 - mae: 0.5905\n",
            "Epoch 333/500\n",
            "2/2 [==============================] - 0s 7ms/step - loss: 0.9702 - mae: 0.9702\n",
            "Epoch 334/500\n",
            "2/2 [==============================] - 0s 6ms/step - loss: 1.1260 - mae: 1.1260\n",
            "Epoch 335/500\n",
            "2/2 [==============================] - 0s 6ms/step - loss: 0.6416 - mae: 0.6416\n",
            "Epoch 336/500\n",
            "2/2 [==============================] - 0s 6ms/step - loss: 0.4198 - mae: 0.4198\n",
            "Epoch 337/500\n",
            "2/2 [==============================] - 0s 7ms/step - loss: 1.0832 - mae: 1.0832\n",
            "Epoch 338/500\n",
            "2/2 [==============================] - 0s 13ms/step - loss: 0.5059 - mae: 0.5059\n",
            "Epoch 339/500\n",
            "2/2 [==============================] - 0s 8ms/step - loss: 0.4935 - mae: 0.4935\n",
            "Epoch 340/500\n",
            "2/2 [==============================] - 0s 6ms/step - loss: 1.1581 - mae: 1.1581\n",
            "Epoch 341/500\n",
            "2/2 [==============================] - 0s 7ms/step - loss: 0.6947 - mae: 0.6947\n",
            "Epoch 342/500\n",
            "2/2 [==============================] - 0s 6ms/step - loss: 2.8383 - mae: 2.8383\n",
            "Epoch 343/500\n",
            "2/2 [==============================] - 0s 6ms/step - loss: 1.2384 - mae: 1.2384\n",
            "Epoch 344/500\n",
            "2/2 [==============================] - 0s 7ms/step - loss: 2.3429 - mae: 2.3429\n",
            "Epoch 345/500\n",
            "2/2 [==============================] - 0s 5ms/step - loss: 1.0881 - mae: 1.0881\n",
            "Epoch 346/500\n",
            "2/2 [==============================] - 0s 6ms/step - loss: 3.5008 - mae: 3.5008\n",
            "Epoch 347/500\n",
            "2/2 [==============================] - 0s 7ms/step - loss: 1.3388 - mae: 1.3388\n",
            "Epoch 348/500\n",
            "2/2 [==============================] - 0s 5ms/step - loss: 2.0205 - mae: 2.0205\n",
            "Epoch 349/500\n",
            "2/2 [==============================] - 0s 8ms/step - loss: 1.0099 - mae: 1.0099\n",
            "Epoch 350/500\n",
            "2/2 [==============================] - 0s 6ms/step - loss: 2.8069 - mae: 2.8069\n",
            "Epoch 351/500\n",
            "2/2 [==============================] - 0s 6ms/step - loss: 1.1604 - mae: 1.1604\n",
            "Epoch 352/500\n",
            "2/2 [==============================] - 0s 6ms/step - loss: 3.8692 - mae: 3.8692\n",
            "Epoch 353/500\n",
            "2/2 [==============================] - 0s 12ms/step - loss: 2.2740 - mae: 2.2740\n",
            "Epoch 354/500\n",
            "2/2 [==============================] - 0s 7ms/step - loss: 2.7673 - mae: 2.7673\n",
            "Epoch 355/500\n",
            "2/2 [==============================] - 0s 8ms/step - loss: 3.2985 - mae: 3.2985\n",
            "Epoch 356/500\n",
            "2/2 [==============================] - 0s 8ms/step - loss: 1.0376 - mae: 1.0376\n",
            "Epoch 357/500\n",
            "2/2 [==============================] - 0s 8ms/step - loss: 1.3496 - mae: 1.3496\n",
            "Epoch 358/500\n",
            "2/2 [==============================] - 0s 6ms/step - loss: 2.5218 - mae: 2.5218\n",
            "Epoch 359/500\n",
            "2/2 [==============================] - 0s 7ms/step - loss: 1.6352 - mae: 1.6352\n",
            "Epoch 360/500\n",
            "2/2 [==============================] - 0s 6ms/step - loss: 3.2562 - mae: 3.2562\n",
            "Epoch 361/500\n",
            "2/2 [==============================] - 0s 6ms/step - loss: 3.1850 - mae: 3.1850\n",
            "Epoch 362/500\n",
            "2/2 [==============================] - 0s 7ms/step - loss: 0.8630 - mae: 0.8630\n",
            "Epoch 363/500\n",
            "2/2 [==============================] - 0s 6ms/step - loss: 0.9590 - mae: 0.9590\n",
            "Epoch 364/500\n",
            "2/2 [==============================] - 0s 6ms/step - loss: 0.8370 - mae: 0.8370\n",
            "Epoch 365/500\n",
            "2/2 [==============================] - 0s 6ms/step - loss: 0.7699 - mae: 0.7699\n",
            "Epoch 366/500\n",
            "2/2 [==============================] - 0s 6ms/step - loss: 1.6911 - mae: 1.6911\n",
            "Epoch 367/500\n",
            "2/2 [==============================] - 0s 11ms/step - loss: 1.0725 - mae: 1.0725\n",
            "Epoch 368/500\n",
            "2/2 [==============================] - 0s 7ms/step - loss: 1.8220 - mae: 1.8220\n",
            "Epoch 369/500\n",
            "2/2 [==============================] - 0s 5ms/step - loss: 1.3681 - mae: 1.3681\n",
            "Epoch 370/500\n",
            "2/2 [==============================] - 0s 7ms/step - loss: 0.9939 - mae: 0.9939\n",
            "Epoch 371/500\n",
            "2/2 [==============================] - 0s 6ms/step - loss: 0.6405 - mae: 0.6405\n",
            "Epoch 372/500\n",
            "2/2 [==============================] - 0s 7ms/step - loss: 0.5036 - mae: 0.5036\n",
            "Epoch 373/500\n",
            "2/2 [==============================] - 0s 5ms/step - loss: 0.7064 - mae: 0.7064\n",
            "Epoch 374/500\n",
            "2/2 [==============================] - 0s 6ms/step - loss: 0.3667 - mae: 0.3667\n",
            "Epoch 375/500\n",
            "2/2 [==============================] - 0s 13ms/step - loss: 0.7092 - mae: 0.7092\n",
            "Epoch 376/500\n",
            "2/2 [==============================] - 0s 6ms/step - loss: 0.6782 - mae: 0.6782\n",
            "Epoch 377/500\n",
            "2/2 [==============================] - 0s 6ms/step - loss: 0.5864 - mae: 0.5864\n",
            "Epoch 378/500\n",
            "2/2 [==============================] - 0s 9ms/step - loss: 0.7362 - mae: 0.7362\n",
            "Epoch 379/500\n",
            "2/2 [==============================] - 0s 6ms/step - loss: 0.4496 - mae: 0.4496\n",
            "Epoch 380/500\n",
            "2/2 [==============================] - 0s 5ms/step - loss: 0.8623 - mae: 0.8623\n",
            "Epoch 381/500\n",
            "2/2 [==============================] - 0s 6ms/step - loss: 1.0263 - mae: 1.0263\n",
            "Epoch 382/500\n",
            "2/2 [==============================] - 0s 7ms/step - loss: 0.5484 - mae: 0.5484\n",
            "Epoch 383/500\n",
            "2/2 [==============================] - 0s 6ms/step - loss: 0.6156 - mae: 0.6156\n",
            "Epoch 384/500\n",
            "2/2 [==============================] - 0s 6ms/step - loss: 0.8554 - mae: 0.8554\n",
            "Epoch 385/500\n",
            "2/2 [==============================] - 0s 6ms/step - loss: 0.5549 - mae: 0.5549\n",
            "Epoch 386/500\n",
            "2/2 [==============================] - 0s 6ms/step - loss: 0.4385 - mae: 0.4385\n",
            "Epoch 387/500\n",
            "2/2 [==============================] - 0s 6ms/step - loss: 1.1323 - mae: 1.1323\n",
            "Epoch 388/500\n",
            "2/2 [==============================] - 0s 7ms/step - loss: 0.6638 - mae: 0.6638\n",
            "Epoch 389/500\n",
            "2/2 [==============================] - 0s 6ms/step - loss: 1.2944 - mae: 1.2944\n",
            "Epoch 390/500\n",
            "2/2 [==============================] - 0s 6ms/step - loss: 2.1967 - mae: 2.1967\n",
            "Epoch 391/500\n",
            "2/2 [==============================] - 0s 6ms/step - loss: 1.8046 - mae: 1.8046\n",
            "Epoch 392/500\n",
            "2/2 [==============================] - 0s 6ms/step - loss: 2.4593 - mae: 2.4593\n",
            "Epoch 393/500\n",
            "2/2 [==============================] - 0s 11ms/step - loss: 2.0644 - mae: 2.0644\n",
            "Epoch 394/500\n",
            "2/2 [==============================] - 0s 7ms/step - loss: 2.1391 - mae: 2.1391\n",
            "Epoch 395/500\n",
            "2/2 [==============================] - 0s 7ms/step - loss: 2.5339 - mae: 2.5339\n",
            "Epoch 396/500\n",
            "2/2 [==============================] - 0s 6ms/step - loss: 0.5268 - mae: 0.5268\n",
            "Epoch 397/500\n",
            "2/2 [==============================] - 0s 7ms/step - loss: 0.7706 - mae: 0.7706\n",
            "Epoch 398/500\n",
            "2/2 [==============================] - 0s 6ms/step - loss: 1.1413 - mae: 1.1413\n",
            "Epoch 399/500\n",
            "2/2 [==============================] - 0s 7ms/step - loss: 1.4620 - mae: 1.4620\n",
            "Epoch 400/500\n",
            "2/2 [==============================] - 0s 14ms/step - loss: 0.9733 - mae: 0.9733\n",
            "Epoch 401/500\n",
            "2/2 [==============================] - 0s 6ms/step - loss: 1.0478 - mae: 1.0478\n",
            "Epoch 402/500\n",
            "2/2 [==============================] - 0s 10ms/step - loss: 1.3717 - mae: 1.3717\n",
            "Epoch 403/500\n",
            "2/2 [==============================] - 0s 7ms/step - loss: 0.9491 - mae: 0.9491\n",
            "Epoch 404/500\n",
            "2/2 [==============================] - 0s 11ms/step - loss: 1.8786 - mae: 1.8786\n",
            "Epoch 405/500\n",
            "2/2 [==============================] - 0s 6ms/step - loss: 0.6093 - mae: 0.6093\n",
            "Epoch 406/500\n",
            "2/2 [==============================] - 0s 6ms/step - loss: 1.5208 - mae: 1.5208\n",
            "Epoch 407/500\n",
            "2/2 [==============================] - 0s 6ms/step - loss: 1.4473 - mae: 1.4473\n",
            "Epoch 408/500\n",
            "2/2 [==============================] - 0s 6ms/step - loss: 0.9609 - mae: 0.9609\n",
            "Epoch 409/500\n",
            "2/2 [==============================] - 0s 5ms/step - loss: 0.4692 - mae: 0.4692\n",
            "Epoch 410/500\n",
            "2/2 [==============================] - 0s 10ms/step - loss: 0.2585 - mae: 0.2585\n",
            "Epoch 411/500\n",
            "2/2 [==============================] - 0s 6ms/step - loss: 0.2009 - mae: 0.2009\n",
            "Epoch 412/500\n",
            "2/2 [==============================] - 0s 5ms/step - loss: 0.3054 - mae: 0.3054\n",
            "Epoch 413/500\n",
            "2/2 [==============================] - 0s 6ms/step - loss: 0.2960 - mae: 0.2960\n",
            "Epoch 414/500\n",
            "2/2 [==============================] - 0s 6ms/step - loss: 0.5958 - mae: 0.5958\n",
            "Epoch 415/500\n",
            "2/2 [==============================] - 0s 6ms/step - loss: 0.6687 - mae: 0.6687\n",
            "Epoch 416/500\n",
            "2/2 [==============================] - 0s 5ms/step - loss: 0.5930 - mae: 0.5930\n",
            "Epoch 417/500\n",
            "2/2 [==============================] - 0s 6ms/step - loss: 0.7080 - mae: 0.7080\n",
            "Epoch 418/500\n",
            "2/2 [==============================] - 0s 6ms/step - loss: 0.6399 - mae: 0.6399\n",
            "Epoch 419/500\n",
            "2/2 [==============================] - 0s 117ms/step - loss: 0.5851 - mae: 0.5851\n",
            "Epoch 420/500\n",
            "2/2 [==============================] - 0s 10ms/step - loss: 1.6490 - mae: 1.6490\n",
            "Epoch 421/500\n",
            "2/2 [==============================] - 0s 13ms/step - loss: 0.9905 - mae: 0.9905\n",
            "Epoch 422/500\n",
            "2/2 [==============================] - 0s 13ms/step - loss: 1.1288 - mae: 1.1288\n",
            "Epoch 423/500\n",
            "2/2 [==============================] - 0s 16ms/step - loss: 1.4789 - mae: 1.4789\n",
            "Epoch 424/500\n",
            "2/2 [==============================] - 0s 15ms/step - loss: 0.9736 - mae: 0.9736\n",
            "Epoch 425/500\n",
            "2/2 [==============================] - 0s 14ms/step - loss: 0.9490 - mae: 0.9490\n",
            "Epoch 426/500\n",
            "2/2 [==============================] - 0s 7ms/step - loss: 1.5846 - mae: 1.5846\n",
            "Epoch 427/500\n",
            "2/2 [==============================] - 0s 10ms/step - loss: 1.0670 - mae: 1.0670\n",
            "Epoch 428/500\n",
            "2/2 [==============================] - 0s 14ms/step - loss: 0.9070 - mae: 0.9070\n",
            "Epoch 429/500\n",
            "2/2 [==============================] - 0s 14ms/step - loss: 1.3913 - mae: 1.3913\n",
            "Epoch 430/500\n",
            "2/2 [==============================] - 0s 12ms/step - loss: 0.8430 - mae: 0.8430\n",
            "Epoch 431/500\n",
            "2/2 [==============================] - 0s 9ms/step - loss: 0.5975 - mae: 0.5975\n",
            "Epoch 432/500\n",
            "2/2 [==============================] - 0s 11ms/step - loss: 0.5722 - mae: 0.5722\n",
            "Epoch 433/500\n",
            "2/2 [==============================] - 0s 12ms/step - loss: 0.6504 - mae: 0.6504\n",
            "Epoch 434/500\n",
            "2/2 [==============================] - 0s 11ms/step - loss: 0.5981 - mae: 0.5981\n",
            "Epoch 435/500\n",
            "2/2 [==============================] - 0s 6ms/step - loss: 0.6889 - mae: 0.6889\n",
            "Epoch 436/500\n",
            "2/2 [==============================] - 0s 18ms/step - loss: 0.6641 - mae: 0.6641\n",
            "Epoch 437/500\n",
            "2/2 [==============================] - 0s 12ms/step - loss: 0.6368 - mae: 0.6368\n",
            "Epoch 438/500\n",
            "2/2 [==============================] - 0s 8ms/step - loss: 0.5114 - mae: 0.5114\n",
            "Epoch 439/500\n",
            "2/2 [==============================] - 0s 11ms/step - loss: 0.3562 - mae: 0.3562\n",
            "Epoch 440/500\n",
            "2/2 [==============================] - 0s 10ms/step - loss: 0.3333 - mae: 0.3333\n",
            "Epoch 441/500\n",
            "2/2 [==============================] - 0s 10ms/step - loss: 0.6540 - mae: 0.6540\n",
            "Epoch 442/500\n",
            "2/2 [==============================] - 0s 10ms/step - loss: 0.8046 - mae: 0.8046\n",
            "Epoch 443/500\n",
            "2/2 [==============================] - 0s 10ms/step - loss: 0.4756 - mae: 0.4756\n",
            "Epoch 444/500\n",
            "2/2 [==============================] - 0s 11ms/step - loss: 0.5989 - mae: 0.5989\n",
            "Epoch 445/500\n",
            "2/2 [==============================] - 0s 12ms/step - loss: 0.8291 - mae: 0.8291\n",
            "Epoch 446/500\n",
            "2/2 [==============================] - 0s 8ms/step - loss: 1.9925 - mae: 1.9925\n",
            "Epoch 447/500\n",
            "2/2 [==============================] - 0s 7ms/step - loss: 1.2156 - mae: 1.2156\n",
            "Epoch 448/500\n",
            "2/2 [==============================] - 0s 9ms/step - loss: 2.9244 - mae: 2.9244\n",
            "Epoch 449/500\n",
            "2/2 [==============================] - 0s 9ms/step - loss: 3.3059 - mae: 3.3059\n",
            "Epoch 450/500\n",
            "2/2 [==============================] - 0s 7ms/step - loss: 1.3870 - mae: 1.3870\n",
            "Epoch 451/500\n",
            "2/2 [==============================] - 0s 8ms/step - loss: 3.6404 - mae: 3.6404\n",
            "Epoch 452/500\n",
            "2/2 [==============================] - 0s 10ms/step - loss: 1.5689 - mae: 1.5689\n",
            "Epoch 453/500\n",
            "2/2 [==============================] - 0s 11ms/step - loss: 1.6714 - mae: 1.6714\n",
            "Epoch 454/500\n",
            "2/2 [==============================] - 0s 7ms/step - loss: 0.8990 - mae: 0.8990\n",
            "Epoch 455/500\n",
            "2/2 [==============================] - 0s 13ms/step - loss: 2.2195 - mae: 2.2195\n",
            "Epoch 456/500\n",
            "2/2 [==============================] - 0s 6ms/step - loss: 0.7226 - mae: 0.7226\n",
            "Epoch 457/500\n",
            "2/2 [==============================] - 0s 7ms/step - loss: 0.9529 - mae: 0.9529\n",
            "Epoch 458/500\n",
            "2/2 [==============================] - 0s 7ms/step - loss: 2.2002 - mae: 2.2002\n",
            "Epoch 459/500\n",
            "2/2 [==============================] - 0s 8ms/step - loss: 1.2041 - mae: 1.2041\n",
            "Epoch 460/500\n",
            "2/2 [==============================] - 0s 6ms/step - loss: 1.8565 - mae: 1.8565\n",
            "Epoch 461/500\n",
            "2/2 [==============================] - 0s 8ms/step - loss: 1.0679 - mae: 1.0679\n",
            "Epoch 462/500\n",
            "2/2 [==============================] - 0s 7ms/step - loss: 0.9308 - mae: 0.9308\n",
            "Epoch 463/500\n",
            "2/2 [==============================] - 0s 6ms/step - loss: 1.6183 - mae: 1.6183\n",
            "Epoch 464/500\n",
            "2/2 [==============================] - 0s 6ms/step - loss: 0.9739 - mae: 0.9739\n",
            "Epoch 465/500\n",
            "2/2 [==============================] - 0s 8ms/step - loss: 0.5632 - mae: 0.5632\n",
            "Epoch 466/500\n",
            "2/2 [==============================] - 0s 11ms/step - loss: 1.2707 - mae: 1.2707\n",
            "Epoch 467/500\n",
            "2/2 [==============================] - 0s 6ms/step - loss: 0.8617 - mae: 0.8617\n",
            "Epoch 468/500\n",
            "2/2 [==============================] - 0s 8ms/step - loss: 2.5359 - mae: 2.5359\n",
            "Epoch 469/500\n",
            "2/2 [==============================] - 0s 7ms/step - loss: 1.0840 - mae: 1.0840\n",
            "Epoch 470/500\n",
            "2/2 [==============================] - 0s 9ms/step - loss: 3.3052 - mae: 3.3052\n",
            "Epoch 471/500\n",
            "2/2 [==============================] - 0s 7ms/step - loss: 1.5385 - mae: 1.5385\n",
            "Epoch 472/500\n",
            "2/2 [==============================] - 0s 6ms/step - loss: 2.1237 - mae: 2.1237\n",
            "Epoch 473/500\n",
            "2/2 [==============================] - 0s 9ms/step - loss: 1.1455 - mae: 1.1455\n",
            "Epoch 474/500\n",
            "2/2 [==============================] - 0s 11ms/step - loss: 1.4347 - mae: 1.4347\n",
            "Epoch 475/500\n",
            "2/2 [==============================] - 0s 7ms/step - loss: 0.8982 - mae: 0.8982\n",
            "Epoch 476/500\n",
            "2/2 [==============================] - 0s 6ms/step - loss: 0.6917 - mae: 0.6917\n",
            "Epoch 477/500\n",
            "2/2 [==============================] - 0s 9ms/step - loss: 0.9135 - mae: 0.9135\n",
            "Epoch 478/500\n",
            "2/2 [==============================] - 0s 6ms/step - loss: 1.8858 - mae: 1.8858\n",
            "Epoch 479/500\n",
            "2/2 [==============================] - 0s 9ms/step - loss: 1.0358 - mae: 1.0358\n",
            "Epoch 480/500\n",
            "2/2 [==============================] - 0s 6ms/step - loss: 2.2012 - mae: 2.2012\n",
            "Epoch 481/500\n",
            "2/2 [==============================] - 0s 6ms/step - loss: 0.9692 - mae: 0.9692\n",
            "Epoch 482/500\n",
            "2/2 [==============================] - 0s 5ms/step - loss: 3.0373 - mae: 3.0373\n",
            "Epoch 483/500\n",
            "2/2 [==============================] - 0s 6ms/step - loss: 1.2663 - mae: 1.2663\n",
            "Epoch 484/500\n",
            "2/2 [==============================] - 0s 6ms/step - loss: 2.0730 - mae: 2.0730\n",
            "Epoch 485/500\n",
            "2/2 [==============================] - 0s 6ms/step - loss: 0.6245 - mae: 0.6245\n",
            "Epoch 486/500\n",
            "2/2 [==============================] - 0s 6ms/step - loss: 1.0460 - mae: 1.0460\n",
            "Epoch 487/500\n",
            "2/2 [==============================] - 0s 6ms/step - loss: 2.3939 - mae: 2.3939\n",
            "Epoch 488/500\n",
            "2/2 [==============================] - 0s 10ms/step - loss: 2.0425 - mae: 2.0425\n",
            "Epoch 489/500\n",
            "2/2 [==============================] - 0s 6ms/step - loss: 2.1370 - mae: 2.1370\n",
            "Epoch 490/500\n",
            "2/2 [==============================] - 0s 6ms/step - loss: 1.5535 - mae: 1.5535\n",
            "Epoch 491/500\n",
            "2/2 [==============================] - 0s 6ms/step - loss: 2.2159 - mae: 2.2159\n",
            "Epoch 492/500\n",
            "2/2 [==============================] - 0s 8ms/step - loss: 1.3363 - mae: 1.3363\n",
            "Epoch 493/500\n",
            "2/2 [==============================] - 0s 6ms/step - loss: 0.7998 - mae: 0.7998\n",
            "Epoch 494/500\n",
            "2/2 [==============================] - 0s 7ms/step - loss: 2.2392 - mae: 2.2392\n",
            "Epoch 495/500\n",
            "2/2 [==============================] - 0s 6ms/step - loss: 1.8462 - mae: 1.8462\n",
            "Epoch 496/500\n",
            "2/2 [==============================] - 0s 7ms/step - loss: 2.2182 - mae: 2.2182\n",
            "Epoch 497/500\n",
            "2/2 [==============================] - 0s 10ms/step - loss: 1.4673 - mae: 1.4673\n",
            "Epoch 498/500\n",
            "2/2 [==============================] - 0s 6ms/step - loss: 2.9675 - mae: 2.9675\n",
            "Epoch 499/500\n",
            "2/2 [==============================] - 0s 11ms/step - loss: 2.8422 - mae: 2.8422\n",
            "Epoch 500/500\n",
            "2/2 [==============================] - 0s 6ms/step - loss: 1.5680 - mae: 1.5680\n"
          ]
        },
        {
          "output_type": "execute_result",
          "data": {
            "text/plain": [
              "<keras.callbacks.History at 0x7f7eb77620d0>"
            ]
          },
          "metadata": {},
          "execution_count": 47
        }
      ]
    },
    {
      "cell_type": "code",
      "source": [
        "y_preds_3 = model_3.predict(X_test)\n",
        "plot_results(predictions=y_preds_3)"
      ],
      "metadata": {
        "colab": {
          "base_uri": "https://localhost:8080/",
          "height": 445
        },
        "id": "OZb6cMSaLVLH",
        "outputId": "280525f9-52d0-4d77-f56f-ed63bc2a7e73"
      },
      "execution_count": 48,
      "outputs": [
        {
          "output_type": "stream",
          "name": "stdout",
          "text": [
            "1/1 [==============================] - 0s 200ms/step\n"
          ]
        },
        {
          "output_type": "display_data",
          "data": {
            "text/plain": [
              "<Figure size 720x504 with 1 Axes>"
            ],
            "image/png": "[encoded data removed]"
          },
          "metadata": {
            "needs_background": "light"
          }
        }
      ]
    },
    {
      "cell_type": "code",
      "source": [
        "mae_3 = mae(y_test, y_preds_3)\n",
        "mse_3 = mse(y_test, y_preds_3)\n",
        "\n",
        "mae_3, mse_3"
      ],
      "metadata": {
        "colab": {
          "base_uri": "https://localhost:8080/"
        },
        "id": "S4L8piMTLXTU",
        "outputId": "42c7e3aa-a310-44eb-a4c6-33456d3ec4ff"
      },
      "execution_count": 49,
      "outputs": [
        {
          "output_type": "execute_result",
          "data": {
            "text/plain": [
              "(<tf.Tensor: shape=(), dtype=float32, numpy=2.23619>,\n",
              " <tf.Tensor: shape=(), dtype=float32, numpy=5.089348>)"
            ]
          },
          "metadata": {},
          "execution_count": 49
        }
      ]
    },
    {
      "cell_type": "markdown",
      "source": [
        "## Comparing Experiments"
      ],
      "metadata": {
        "id": "AlLUiFLfMnsg"
      }
    },
    {
      "cell_type": "code",
      "source": [
        "# create a data frame of results\n",
        "\n",
        "import pandas as pd\n",
        "\n",
        "model_results  = [[\"model_1\", mae_1.numpy(), mse_1.numpy()], \n",
        "                  [\"model_2\", mae_2.numpy(), mse_2.numpy()], \n",
        "                  [\"model_3\", mae_3.numpy(), mse_3.numpy()]]\n",
        "\n",
        "all_results = pd.DataFrame(model_results, columns=[\"model\", \"mae\", \"mse\"])\n",
        "all_results"
      ],
      "metadata": {
        "colab": {
          "base_uri": "https://localhost:8080/",
          "height": 143
        },
        "id": "4wzW7MgILkrK",
        "outputId": "5cf2c906-8cae-4af1-c3e1-cfa9d6624531"
      },
      "execution_count": 50,
      "outputs": [
        {
          "output_type": "execute_result",
          "data": {
            "text/plain": [
              "     model        mae          mse\n",
              "0  model_1  17.272381   300.037109\n",
              "1  model_2  33.190910  1114.847656\n",
              "2  model_3   2.236190     5.089348"
            ],
            "text/html": [
              "\n",
              "  <div id=\"df-a7d4f0bf-2ff4-4c2b-82dc-04f23336525f\">\n",
              "    <div class=\"colab-df-container\">\n",
              "      <div>\n",
              "<style scoped>\n",
              "    .dataframe tbody tr th:only-of-type {\n",
              "        vertical-align: middle;\n",
              "    }\n",
              "\n",
              "    .dataframe tbody tr th {\n",
              "        vertical-align: top;\n",
              "    }\n",
              "\n",
              "    .dataframe thead th {\n",
              "        text-align: right;\n",
              "    }\n",
              "</style>\n",
              "<table border=\"1\" class=\"dataframe\">\n",
              "  <thead>\n",
              "    <tr style=\"text-align: right;\">\n",
              "      <th></th>\n",
              "      <th>model</th>\n",
              "      <th>mae</th>\n",
              "      <th>mse</th>\n",
              "    </tr>\n",
              "  </thead>\n",
              "  <tbody>\n",
              "    <tr>\n",
              "      <th>0</th>\n",
              "      <td>model_1</td>\n",
              "      <td>17.272381</td>\n",
              "      <td>300.037109</td>\n",
              "    </tr>\n",
              "    <tr>\n",
              "      <th>1</th>\n",
              "      <td>model_2</td>\n",
              "      <td>33.190910</td>\n",
              "      <td>1114.847656</td>\n",
              "    </tr>\n",
              "    <tr>\n",
              "      <th>2</th>\n",
              "      <td>model_3</td>\n",
              "      <td>2.236190</td>\n",
              "      <td>5.089348</td>\n",
              "    </tr>\n",
              "  </tbody>\n",
              "</table>\n",
              "</div>\n",
              "      <button class=\"colab-df-convert\" onclick=\"convertToInteractive('df-a7d4f0bf-2ff4-4c2b-82dc-04f23336525f')\"\n",
              "              title=\"Convert this dataframe to an interactive table.\"\n",
              "              style=\"display:none;\">\n",
              "        \n",
              "  <svg xmlns=\"http://www.w3.org/2000/svg\" height=\"24px\"viewBox=\"0 0 24 24\"\n",
              "       width=\"24px\">\n",
              "    <path d=\"M0 0h24v24H0V0z\" fill=\"none\"/>\n",
              "    <path d=\"M18.56 5.44l.94 2.06.94-2.06 2.06-.94-2.06-.94-.94-2.06-.94 2.06-2.06.94zm-11 1L8.5 8.5l.94-2.06 2.06-.94-2.06-.94L8.5 2.5l-.94 2.06-2.06.94zm10 10l.94 2.06.94-2.06 2.06-.94-2.06-.94-.94-2.06-.94 2.06-2.06.94z\"/><path d=\"M17.41 7.96l-1.37-1.37c-.4-.4-.92-.59-1.43-.59-.52 0-1.04.2-1.43.59L10.3 9.45l-7.72 7.72c-.78.78-.78 2.05 0 2.83L4 21.41c.39.39.9.59 1.41.59.51 0 1.02-.2 1.41-.59l7.78-7.78 2.81-2.81c.8-.78.8-2.07 0-2.86zM5.41 20L4 18.59l7.72-7.72 1.47 1.35L5.41 20z\"/>\n",
              "  </svg>\n",
              "      </button>\n",
              "      \n",
              "  <style>\n",
              "    .colab-df-container {\n",
              "      display:flex;\n",
              "      flex-wrap:wrap;\n",
              "      gap: 12px;\n",
              "    }\n",
              "\n",
              "    .colab-df-convert {\n",
              "      background-color: #E8F0FE;\n",
              "      border: none;\n",
              "      border-radius: 50%;\n",
              "      cursor: pointer;\n",
              "      display: none;\n",
              "      fill: #1967D2;\n",
              "      height: 32px;\n",
              "      padding: 0 0 0 0;\n",
              "      width: 32px;\n",
              "    }\n",
              "\n",
              "    .colab-df-convert:hover {\n",
              "      background-color: #E2EBFA;\n",
              "      box-shadow: 0px 1px 2px rgba(60, 64, 67, 0.3), 0px 1px 3px 1px rgba(60, 64, 67, 0.15);\n",
              "      fill: #174EA6;\n",
              "    }\n",
              "\n",
              "    [theme=dark] .colab-df-convert {\n",
              "      background-color: #3B4455;\n",
              "      fill: #D2E3FC;\n",
              "    }\n",
              "\n",
              "    [theme=dark] .colab-df-convert:hover {\n",
              "      background-color: #434B5C;\n",
              "      box-shadow: 0px 1px 3px 1px rgba(0, 0, 0, 0.15);\n",
              "      filter: drop-shadow(0px 1px 2px rgba(0, 0, 0, 0.3));\n",
              "      fill: #FFFFFF;\n",
              "    }\n",
              "  </style>\n",
              "\n",
              "      <script>\n",
              "        const buttonEl =\n",
              "          document.querySelector('#df-a7d4f0bf-2ff4-4c2b-82dc-04f23336525f button.colab-df-convert');\n",
              "        buttonEl.style.display =\n",
              "          google.colab.kernel.accessAllowed ? 'block' : 'none';\n",
              "\n",
              "        async function convertToInteractive(key) {\n",
              "          const element = document.querySelector('#df-a7d4f0bf-2ff4-4c2b-82dc-04f23336525f');\n",
              "          const dataTable =\n",
              "            await google.colab.kernel.invokeFunction('convertToInteractive',\n",
              "                                                     [key], {});\n",
              "          if (!dataTable) return;\n",
              "\n",
              "          const docLinkHtml = 'Like what you see? Visit the ' +\n",
              "            '<a target=\"_blank\" href=https://colab.research.google.com/notebooks/data_table.ipynb>data table notebook</a>'\n",
              "            + ' to learn more about interactive tables.';\n",
              "          element.innerHTML = '';\n",
              "          dataTable['output_type'] = 'display_data';\n",
              "          await google.colab.output.renderOutput(dataTable, element);\n",
              "          const docLink = document.createElement('div');\n",
              "          docLink.innerHTML = docLinkHtml;\n",
              "          element.appendChild(docLink);\n",
              "        }\n",
              "      </script>\n",
              "    </div>\n",
              "  </div>\n",
              "  "
            ]
          },
          "metadata": {},
          "execution_count": 50
        }
      ]
    },
    {
      "cell_type": "code",
      "source": [
        "model_3.summary()"
      ],
      "metadata": {
        "colab": {
          "base_uri": "https://localhost:8080/"
        },
        "id": "s5KxcNHyOlFc",
        "outputId": "ff5d66c2-7645-4c3f-cd06-38c22a70dc2f"
      },
      "execution_count": 51,
      "outputs": [
        {
          "output_type": "stream",
          "name": "stdout",
          "text": [
            "Model: \"sequential_6\"\n",
            "_________________________________________________________________\n",
            " Layer (type)                Output Shape              Param #   \n",
            "=================================================================\n",
            " dense_9 (Dense)             (None, 100)               200       \n",
            "                                                                 \n",
            " dense_10 (Dense)            (None, 100)               10100     \n",
            "                                                                 \n",
            " dense_11 (Dense)            (None, 1)                 101       \n",
            "                                                                 \n",
            "=================================================================\n",
            "Total params: 10,401\n",
            "Trainable params: 10,401\n",
            "Non-trainable params: 0\n",
            "_________________________________________________________________\n"
          ]
        }
      ]
    },
    {
      "cell_type": "markdown",
      "source": [
        "One of the main goals is to minimise the time between experiments, the more you experiment the more you realise what doesn't work thus getting you closer to what does work. "
      ],
      "metadata": {
        "id": "D3XCHaE1OvKE"
      }
    },
    {
      "cell_type": "markdown",
      "source": [
        "## Tracking your experiments\n",
        "\n",
        "One really good habit in mavhine learning modelling is to track the results of your experiments. \n",
        "\n",
        "There are tools to help us: \n",
        "- TensorBoard:   a component of the TF library to help track modelling experiments (we'll see this one later)\n",
        "- Weights & Biases - a tool for tracking all sorts of machine learning experiments (plugs in to TensorBoard)\n"
      ],
      "metadata": {
        "id": "tTuW6sFhPL1E"
      }
    },
    {
      "cell_type": "markdown",
      "source": [
        "## Saving our Models\n",
        "\n",
        "Saving our models allows us to use them outside wherever they were trained.  We can use them in a webapp or mobile app for example. \n",
        "\n",
        "- We can save as SavedModel\n",
        "- We can save in the HDF5 format"
      ],
      "metadata": {
        "id": "4tTkHa0oP6Jt"
      }
    },
    {
      "cell_type": "code",
      "source": [
        "model_3.save(\"model_3_savemodel_format\")"
      ],
      "metadata": {
        "id": "MgJ_mJe0PXqE"
      },
      "execution_count": 52,
      "outputs": []
    },
    {
      "cell_type": "code",
      "source": [
        "model_3.save(\"model_3_format.hdf5\")"
      ],
      "metadata": {
        "id": "eudxIblQR4Nh"
      },
      "execution_count": 53,
      "outputs": []
    },
    {
      "cell_type": "markdown",
      "source": [
        "## Load model"
      ],
      "metadata": {
        "id": "9pB6uT3WS8gT"
      }
    },
    {
      "cell_type": "code",
      "source": [
        "model_load = tf.keras.models.load_model(\"/content/model_3_savemodel_format\")"
      ],
      "metadata": {
        "id": "zKUpy8WHS-ub"
      },
      "execution_count": 54,
      "outputs": []
    },
    {
      "cell_type": "code",
      "source": [
        "model_load.summary()"
      ],
      "metadata": {
        "colab": {
          "base_uri": "https://localhost:8080/"
        },
        "id": "XsopuKvpTP6L",
        "outputId": "5bc2af57-0dbf-4602-fba3-9407c8168eb2"
      },
      "execution_count": 55,
      "outputs": [
        {
          "output_type": "stream",
          "name": "stdout",
          "text": [
            "Model: \"sequential_6\"\n",
            "_________________________________________________________________\n",
            " Layer (type)                Output Shape              Param #   \n",
            "=================================================================\n",
            " dense_9 (Dense)             (None, 100)               200       \n",
            "                                                                 \n",
            " dense_10 (Dense)            (None, 100)               10100     \n",
            "                                                                 \n",
            " dense_11 (Dense)            (None, 1)                 101       \n",
            "                                                                 \n",
            "=================================================================\n",
            "Total params: 10,401\n",
            "Trainable params: 10,401\n",
            "Non-trainable params: 0\n",
            "_________________________________________________________________\n"
          ]
        }
      ]
    },
    {
      "cell_type": "code",
      "source": [
        "model_load_2 = tf.keras.models.load_model(\"model_3_format.hdf5\")"
      ],
      "metadata": {
        "id": "-sZPzPvYTJ6T"
      },
      "execution_count": 56,
      "outputs": []
    },
    {
      "cell_type": "code",
      "source": [
        "model_load_2.summary()"
      ],
      "metadata": {
        "colab": {
          "base_uri": "https://localhost:8080/"
        },
        "id": "3qFemL21TSnM",
        "outputId": "4102b5b0-317c-4a0a-8fb2-ae7e3e883fb7"
      },
      "execution_count": 57,
      "outputs": [
        {
          "output_type": "stream",
          "name": "stdout",
          "text": [
            "Model: \"sequential_6\"\n",
            "_________________________________________________________________\n",
            " Layer (type)                Output Shape              Param #   \n",
            "=================================================================\n",
            " dense_9 (Dense)             (None, 100)               200       \n",
            "                                                                 \n",
            " dense_10 (Dense)            (None, 100)               10100     \n",
            "                                                                 \n",
            " dense_11 (Dense)            (None, 1)                 101       \n",
            "                                                                 \n",
            "=================================================================\n",
            "Total params: 10,401\n",
            "Trainable params: 10,401\n",
            "Non-trainable params: 0\n",
            "_________________________________________________________________\n"
          ]
        }
      ]
    },
    {
      "cell_type": "markdown",
      "source": [
        "# A model with a more rich data\n",
        "\n"
      ],
      "metadata": {
        "id": "BtU_DSApqQp7"
      }
    },
    {
      "cell_type": "code",
      "source": [
        "data = pd.read_csv(\"insurance.csv\")\n",
        "data"
      ],
      "metadata": {
        "colab": {
          "base_uri": "https://localhost:8080/",
          "height": 424
        },
        "id": "x_9bLRgwq3WO",
        "outputId": "7193bbf0-718a-42db-9175-a8628859da78"
      },
      "execution_count": 58,
      "outputs": [
        {
          "output_type": "execute_result",
          "data": {
            "text/plain": [
              "      age     sex     bmi  children smoker     region      charges\n",
              "0      19  female  27.900         0    yes  southwest  16884.92400\n",
              "1      18    male  33.770         1     no  southeast   1725.55230\n",
              "2      28    male  33.000         3     no  southeast   4449.46200\n",
              "3      33    male  22.705         0     no  northwest  21984.47061\n",
              "4      32    male  28.880         0     no  northwest   3866.85520\n",
              "...   ...     ...     ...       ...    ...        ...          ...\n",
              "1333   50    male  30.970         3     no  northwest  10600.54830\n",
              "1334   18  female  31.920         0     no  northeast   2205.98080\n",
              "1335   18  female  36.850         0     no  southeast   1629.83350\n",
              "1336   21  female  25.800         0     no  southwest   2007.94500\n",
              "1337   61  female  29.070         0    yes  northwest  29141.36030\n",
              "\n",
              "[1338 rows x 7 columns]"
            ],
            "text/html": [
              "\n",
              "  <div id=\"df-5ccb308a-3449-4912-882e-3524fe366d4a\">\n",
              "    <div class=\"colab-df-container\">\n",
              "      <div>\n",
              "<style scoped>\n",
              "    .dataframe tbody tr th:only-of-type {\n",
              "        vertical-align: middle;\n",
              "    }\n",
              "\n",
              "    .dataframe tbody tr th {\n",
              "        vertical-align: top;\n",
              "    }\n",
              "\n",
              "    .dataframe thead th {\n",
              "        text-align: right;\n",
              "    }\n",
              "</style>\n",
              "<table border=\"1\" class=\"dataframe\">\n",
              "  <thead>\n",
              "    <tr style=\"text-align: right;\">\n",
              "      <th></th>\n",
              "      <th>age</th>\n",
              "      <th>sex</th>\n",
              "      <th>bmi</th>\n",
              "      <th>children</th>\n",
              "      <th>smoker</th>\n",
              "      <th>region</th>\n",
              "      <th>charges</th>\n",
              "    </tr>\n",
              "  </thead>\n",
              "  <tbody>\n",
              "    <tr>\n",
              "      <th>0</th>\n",
              "      <td>19</td>\n",
              "      <td>female</td>\n",
              "      <td>27.900</td>\n",
              "      <td>0</td>\n",
              "      <td>yes</td>\n",
              "      <td>southwest</td>\n",
              "      <td>16884.92400</td>\n",
              "    </tr>\n",
              "    <tr>\n",
              "      <th>1</th>\n",
              "      <td>18</td>\n",
              "      <td>male</td>\n",
              "      <td>33.770</td>\n",
              "      <td>1</td>\n",
              "      <td>no</td>\n",
              "      <td>southeast</td>\n",
              "      <td>1725.55230</td>\n",
              "    </tr>\n",
              "    <tr>\n",
              "      <th>2</th>\n",
              "      <td>28</td>\n",
              "      <td>male</td>\n",
              "      <td>33.000</td>\n",
              "      <td>3</td>\n",
              "      <td>no</td>\n",
              "      <td>southeast</td>\n",
              "      <td>4449.46200</td>\n",
              "    </tr>\n",
              "    <tr>\n",
              "      <th>3</th>\n",
              "      <td>33</td>\n",
              "      <td>male</td>\n",
              "      <td>22.705</td>\n",
              "      <td>0</td>\n",
              "      <td>no</td>\n",
              "      <td>northwest</td>\n",
              "      <td>21984.47061</td>\n",
              "    </tr>\n",
              "    <tr>\n",
              "      <th>4</th>\n",
              "      <td>32</td>\n",
              "      <td>male</td>\n",
              "      <td>28.880</td>\n",
              "      <td>0</td>\n",
              "      <td>no</td>\n",
              "      <td>northwest</td>\n",
              "      <td>3866.85520</td>\n",
              "    </tr>\n",
              "    <tr>\n",
              "      <th>...</th>\n",
              "      <td>...</td>\n",
              "      <td>...</td>\n",
              "      <td>...</td>\n",
              "      <td>...</td>\n",
              "      <td>...</td>\n",
              "      <td>...</td>\n",
              "      <td>...</td>\n",
              "    </tr>\n",
              "    <tr>\n",
              "      <th>1333</th>\n",
              "      <td>50</td>\n",
              "      <td>male</td>\n",
              "      <td>30.970</td>\n",
              "      <td>3</td>\n",
              "      <td>no</td>\n",
              "      <td>northwest</td>\n",
              "      <td>10600.54830</td>\n",
              "    </tr>\n",
              "    <tr>\n",
              "      <th>1334</th>\n",
              "      <td>18</td>\n",
              "      <td>female</td>\n",
              "      <td>31.920</td>\n",
              "      <td>0</td>\n",
              "      <td>no</td>\n",
              "      <td>northeast</td>\n",
              "      <td>2205.98080</td>\n",
              "    </tr>\n",
              "    <tr>\n",
              "      <th>1335</th>\n",
              "      <td>18</td>\n",
              "      <td>female</td>\n",
              "      <td>36.850</td>\n",
              "      <td>0</td>\n",
              "      <td>no</td>\n",
              "      <td>southeast</td>\n",
              "      <td>1629.83350</td>\n",
              "    </tr>\n",
              "    <tr>\n",
              "      <th>1336</th>\n",
              "      <td>21</td>\n",
              "      <td>female</td>\n",
              "      <td>25.800</td>\n",
              "      <td>0</td>\n",
              "      <td>no</td>\n",
              "      <td>southwest</td>\n",
              "      <td>2007.94500</td>\n",
              "    </tr>\n",
              "    <tr>\n",
              "      <th>1337</th>\n",
              "      <td>61</td>\n",
              "      <td>female</td>\n",
              "      <td>29.070</td>\n",
              "      <td>0</td>\n",
              "      <td>yes</td>\n",
              "      <td>northwest</td>\n",
              "      <td>29141.36030</td>\n",
              "    </tr>\n",
              "  </tbody>\n",
              "</table>\n",
              "<p>1338 rows × 7 columns</p>\n",
              "</div>\n",
              "      <button class=\"colab-df-convert\" onclick=\"convertToInteractive('df-5ccb308a-3449-4912-882e-3524fe366d4a')\"\n",
              "              title=\"Convert this dataframe to an interactive table.\"\n",
              "              style=\"display:none;\">\n",
              "        \n",
              "  <svg xmlns=\"http://www.w3.org/2000/svg\" height=\"24px\"viewBox=\"0 0 24 24\"\n",
              "       width=\"24px\">\n",
              "    <path d=\"M0 0h24v24H0V0z\" fill=\"none\"/>\n",
              "    <path d=\"M18.56 5.44l.94 2.06.94-2.06 2.06-.94-2.06-.94-.94-2.06-.94 2.06-2.06.94zm-11 1L8.5 8.5l.94-2.06 2.06-.94-2.06-.94L8.5 2.5l-.94 2.06-2.06.94zm10 10l.94 2.06.94-2.06 2.06-.94-2.06-.94-.94-2.06-.94 2.06-2.06.94z\"/><path d=\"M17.41 7.96l-1.37-1.37c-.4-.4-.92-.59-1.43-.59-.52 0-1.04.2-1.43.59L10.3 9.45l-7.72 7.72c-.78.78-.78 2.05 0 2.83L4 21.41c.39.39.9.59 1.41.59.51 0 1.02-.2 1.41-.59l7.78-7.78 2.81-2.81c.8-.78.8-2.07 0-2.86zM5.41 20L4 18.59l7.72-7.72 1.47 1.35L5.41 20z\"/>\n",
              "  </svg>\n",
              "      </button>\n",
              "      \n",
              "  <style>\n",
              "    .colab-df-container {\n",
              "      display:flex;\n",
              "      flex-wrap:wrap;\n",
              "      gap: 12px;\n",
              "    }\n",
              "\n",
              "    .colab-df-convert {\n",
              "      background-color: #E8F0FE;\n",
              "      border: none;\n",
              "      border-radius: 50%;\n",
              "      cursor: pointer;\n",
              "      display: none;\n",
              "      fill: #1967D2;\n",
              "      height: 32px;\n",
              "      padding: 0 0 0 0;\n",
              "      width: 32px;\n",
              "    }\n",
              "\n",
              "    .colab-df-convert:hover {\n",
              "      background-color: #E2EBFA;\n",
              "      box-shadow: 0px 1px 2px rgba(60, 64, 67, 0.3), 0px 1px 3px 1px rgba(60, 64, 67, 0.15);\n",
              "      fill: #174EA6;\n",
              "    }\n",
              "\n",
              "    [theme=dark] .colab-df-convert {\n",
              "      background-color: #3B4455;\n",
              "      fill: #D2E3FC;\n",
              "    }\n",
              "\n",
              "    [theme=dark] .colab-df-convert:hover {\n",
              "      background-color: #434B5C;\n",
              "      box-shadow: 0px 1px 3px 1px rgba(0, 0, 0, 0.15);\n",
              "      filter: drop-shadow(0px 1px 2px rgba(0, 0, 0, 0.3));\n",
              "      fill: #FFFFFF;\n",
              "    }\n",
              "  </style>\n",
              "\n",
              "      <script>\n",
              "        const buttonEl =\n",
              "          document.querySelector('#df-5ccb308a-3449-4912-882e-3524fe366d4a button.colab-df-convert');\n",
              "        buttonEl.style.display =\n",
              "          google.colab.kernel.accessAllowed ? 'block' : 'none';\n",
              "\n",
              "        async function convertToInteractive(key) {\n",
              "          const element = document.querySelector('#df-5ccb308a-3449-4912-882e-3524fe366d4a');\n",
              "          const dataTable =\n",
              "            await google.colab.kernel.invokeFunction('convertToInteractive',\n",
              "                                                     [key], {});\n",
              "          if (!dataTable) return;\n",
              "\n",
              "          const docLinkHtml = 'Like what you see? Visit the ' +\n",
              "            '<a target=\"_blank\" href=https://colab.research.google.com/notebooks/data_table.ipynb>data table notebook</a>'\n",
              "            + ' to learn more about interactive tables.';\n",
              "          element.innerHTML = '';\n",
              "          dataTable['output_type'] = 'display_data';\n",
              "          await google.colab.output.renderOutput(dataTable, element);\n",
              "          const docLink = document.createElement('div');\n",
              "          docLink.innerHTML = docLinkHtml;\n",
              "          element.appendChild(docLink);\n",
              "        }\n",
              "      </script>\n",
              "    </div>\n",
              "  </div>\n",
              "  "
            ]
          },
          "metadata": {},
          "execution_count": 58
        }
      ]
    },
    {
      "cell_type": "code",
      "source": [
        "data_encoded = pd.get_dummies(data)\n",
        "data_encoded"
      ],
      "metadata": {
        "colab": {
          "base_uri": "https://localhost:8080/",
          "height": 488
        },
        "id": "lHCEW614s9qB",
        "outputId": "f7f0889a-8fe7-426b-de5d-6a5a1f01b5f0"
      },
      "execution_count": 59,
      "outputs": [
        {
          "output_type": "execute_result",
          "data": {
            "text/plain": [
              "      age     bmi  children      charges  sex_female  sex_male  smoker_no  \\\n",
              "0      19  27.900         0  16884.92400           1         0          0   \n",
              "1      18  33.770         1   1725.55230           0         1          1   \n",
              "2      28  33.000         3   4449.46200           0         1          1   \n",
              "3      33  22.705         0  21984.47061           0         1          1   \n",
              "4      32  28.880         0   3866.85520           0         1          1   \n",
              "...   ...     ...       ...          ...         ...       ...        ...   \n",
              "1333   50  30.970         3  10600.54830           0         1          1   \n",
              "1334   18  31.920         0   2205.98080           1         0          1   \n",
              "1335   18  36.850         0   1629.83350           1         0          1   \n",
              "1336   21  25.800         0   2007.94500           1         0          1   \n",
              "1337   61  29.070         0  29141.36030           1         0          0   \n",
              "\n",
              "      smoker_yes  region_northeast  region_northwest  region_southeast  \\\n",
              "0              1                 0                 0                 0   \n",
              "1              0                 0                 0                 1   \n",
              "2              0                 0                 0                 1   \n",
              "3              0                 0                 1                 0   \n",
              "4              0                 0                 1                 0   \n",
              "...          ...               ...               ...               ...   \n",
              "1333           0                 0                 1                 0   \n",
              "1334           0                 1                 0                 0   \n",
              "1335           0                 0                 0                 1   \n",
              "1336           0                 0                 0                 0   \n",
              "1337           1                 0                 1                 0   \n",
              "\n",
              "      region_southwest  \n",
              "0                    1  \n",
              "1                    0  \n",
              "2                    0  \n",
              "3                    0  \n",
              "4                    0  \n",
              "...                ...  \n",
              "1333                 0  \n",
              "1334                 0  \n",
              "1335                 0  \n",
              "1336                 1  \n",
              "1337                 0  \n",
              "\n",
              "[1338 rows x 12 columns]"
            ],
            "text/html": [
              "\n",
              "  <div id=\"df-65453a8b-b479-49cf-b10d-e9a004bd626e\">\n",
              "    <div class=\"colab-df-container\">\n",
              "      <div>\n",
              "<style scoped>\n",
              "    .dataframe tbody tr th:only-of-type {\n",
              "        vertical-align: middle;\n",
              "    }\n",
              "\n",
              "    .dataframe tbody tr th {\n",
              "        vertical-align: top;\n",
              "    }\n",
              "\n",
              "    .dataframe thead th {\n",
              "        text-align: right;\n",
              "    }\n",
              "</style>\n",
              "<table border=\"1\" class=\"dataframe\">\n",
              "  <thead>\n",
              "    <tr style=\"text-align: right;\">\n",
              "      <th></th>\n",
              "      <th>age</th>\n",
              "      <th>bmi</th>\n",
              "      <th>children</th>\n",
              "      <th>charges</th>\n",
              "      <th>sex_female</th>\n",
              "      <th>sex_male</th>\n",
              "      <th>smoker_no</th>\n",
              "      <th>smoker_yes</th>\n",
              "      <th>region_northeast</th>\n",
              "      <th>region_northwest</th>\n",
              "      <th>region_southeast</th>\n",
              "      <th>region_southwest</th>\n",
              "    </tr>\n",
              "  </thead>\n",
              "  <tbody>\n",
              "    <tr>\n",
              "      <th>0</th>\n",
              "      <td>19</td>\n",
              "      <td>27.900</td>\n",
              "      <td>0</td>\n",
              "      <td>16884.92400</td>\n",
              "      <td>1</td>\n",
              "      <td>0</td>\n",
              "      <td>0</td>\n",
              "      <td>1</td>\n",
              "      <td>0</td>\n",
              "      <td>0</td>\n",
              "      <td>0</td>\n",
              "      <td>1</td>\n",
              "    </tr>\n",
              "    <tr>\n",
              "      <th>1</th>\n",
              "      <td>18</td>\n",
              "      <td>33.770</td>\n",
              "      <td>1</td>\n",
              "      <td>1725.55230</td>\n",
              "      <td>0</td>\n",
              "      <td>1</td>\n",
              "      <td>1</td>\n",
              "      <td>0</td>\n",
              "      <td>0</td>\n",
              "      <td>0</td>\n",
              "      <td>1</td>\n",
              "      <td>0</td>\n",
              "    </tr>\n",
              "    <tr>\n",
              "      <th>2</th>\n",
              "      <td>28</td>\n",
              "      <td>33.000</td>\n",
              "      <td>3</td>\n",
              "      <td>4449.46200</td>\n",
              "      <td>0</td>\n",
              "      <td>1</td>\n",
              "      <td>1</td>\n",
              "      <td>0</td>\n",
              "      <td>0</td>\n",
              "      <td>0</td>\n",
              "      <td>1</td>\n",
              "      <td>0</td>\n",
              "    </tr>\n",
              "    <tr>\n",
              "      <th>3</th>\n",
              "      <td>33</td>\n",
              "      <td>22.705</td>\n",
              "      <td>0</td>\n",
              "      <td>21984.47061</td>\n",
              "      <td>0</td>\n",
              "      <td>1</td>\n",
              "      <td>1</td>\n",
              "      <td>0</td>\n",
              "      <td>0</td>\n",
              "      <td>1</td>\n",
              "      <td>0</td>\n",
              "      <td>0</td>\n",
              "    </tr>\n",
              "    <tr>\n",
              "      <th>4</th>\n",
              "      <td>32</td>\n",
              "      <td>28.880</td>\n",
              "      <td>0</td>\n",
              "      <td>3866.85520</td>\n",
              "      <td>0</td>\n",
              "      <td>1</td>\n",
              "      <td>1</td>\n",
              "      <td>0</td>\n",
              "      <td>0</td>\n",
              "      <td>1</td>\n",
              "      <td>0</td>\n",
              "      <td>0</td>\n",
              "    </tr>\n",
              "    <tr>\n",
              "      <th>...</th>\n",
              "      <td>...</td>\n",
              "      <td>...</td>\n",
              "      <td>...</td>\n",
              "      <td>...</td>\n",
              "      <td>...</td>\n",
              "      <td>...</td>\n",
              "      <td>...</td>\n",
              "      <td>...</td>\n",
              "      <td>...</td>\n",
              "      <td>...</td>\n",
              "      <td>...</td>\n",
              "      <td>...</td>\n",
              "    </tr>\n",
              "    <tr>\n",
              "      <th>1333</th>\n",
              "      <td>50</td>\n",
              "      <td>30.970</td>\n",
              "      <td>3</td>\n",
              "      <td>10600.54830</td>\n",
              "      <td>0</td>\n",
              "      <td>1</td>\n",
              "      <td>1</td>\n",
              "      <td>0</td>\n",
              "      <td>0</td>\n",
              "      <td>1</td>\n",
              "      <td>0</td>\n",
              "      <td>0</td>\n",
              "    </tr>\n",
              "    <tr>\n",
              "      <th>1334</th>\n",
              "      <td>18</td>\n",
              "      <td>31.920</td>\n",
              "      <td>0</td>\n",
              "      <td>2205.98080</td>\n",
              "      <td>1</td>\n",
              "      <td>0</td>\n",
              "      <td>1</td>\n",
              "      <td>0</td>\n",
              "      <td>1</td>\n",
              "      <td>0</td>\n",
              "      <td>0</td>\n",
              "      <td>0</td>\n",
              "    </tr>\n",
              "    <tr>\n",
              "      <th>1335</th>\n",
              "      <td>18</td>\n",
              "      <td>36.850</td>\n",
              "      <td>0</td>\n",
              "      <td>1629.83350</td>\n",
              "      <td>1</td>\n",
              "      <td>0</td>\n",
              "      <td>1</td>\n",
              "      <td>0</td>\n",
              "      <td>0</td>\n",
              "      <td>0</td>\n",
              "      <td>1</td>\n",
              "      <td>0</td>\n",
              "    </tr>\n",
              "    <tr>\n",
              "      <th>1336</th>\n",
              "      <td>21</td>\n",
              "      <td>25.800</td>\n",
              "      <td>0</td>\n",
              "      <td>2007.94500</td>\n",
              "      <td>1</td>\n",
              "      <td>0</td>\n",
              "      <td>1</td>\n",
              "      <td>0</td>\n",
              "      <td>0</td>\n",
              "      <td>0</td>\n",
              "      <td>0</td>\n",
              "      <td>1</td>\n",
              "    </tr>\n",
              "    <tr>\n",
              "      <th>1337</th>\n",
              "      <td>61</td>\n",
              "      <td>29.070</td>\n",
              "      <td>0</td>\n",
              "      <td>29141.36030</td>\n",
              "      <td>1</td>\n",
              "      <td>0</td>\n",
              "      <td>0</td>\n",
              "      <td>1</td>\n",
              "      <td>0</td>\n",
              "      <td>1</td>\n",
              "      <td>0</td>\n",
              "      <td>0</td>\n",
              "    </tr>\n",
              "  </tbody>\n",
              "</table>\n",
              "<p>1338 rows × 12 columns</p>\n",
              "</div>\n",
              "      <button class=\"colab-df-convert\" onclick=\"convertToInteractive('df-65453a8b-b479-49cf-b10d-e9a004bd626e')\"\n",
              "              title=\"Convert this dataframe to an interactive table.\"\n",
              "              style=\"display:none;\">\n",
              "        \n",
              "  <svg xmlns=\"http://www.w3.org/2000/svg\" height=\"24px\"viewBox=\"0 0 24 24\"\n",
              "       width=\"24px\">\n",
              "    <path d=\"M0 0h24v24H0V0z\" fill=\"none\"/>\n",
              "    <path d=\"M18.56 5.44l.94 2.06.94-2.06 2.06-.94-2.06-.94-.94-2.06-.94 2.06-2.06.94zm-11 1L8.5 8.5l.94-2.06 2.06-.94-2.06-.94L8.5 2.5l-.94 2.06-2.06.94zm10 10l.94 2.06.94-2.06 2.06-.94-2.06-.94-.94-2.06-.94 2.06-2.06.94z\"/><path d=\"M17.41 7.96l-1.37-1.37c-.4-.4-.92-.59-1.43-.59-.52 0-1.04.2-1.43.59L10.3 9.45l-7.72 7.72c-.78.78-.78 2.05 0 2.83L4 21.41c.39.39.9.59 1.41.59.51 0 1.02-.2 1.41-.59l7.78-7.78 2.81-2.81c.8-.78.8-2.07 0-2.86zM5.41 20L4 18.59l7.72-7.72 1.47 1.35L5.41 20z\"/>\n",
              "  </svg>\n",
              "      </button>\n",
              "      \n",
              "  <style>\n",
              "    .colab-df-container {\n",
              "      display:flex;\n",
              "      flex-wrap:wrap;\n",
              "      gap: 12px;\n",
              "    }\n",
              "\n",
              "    .colab-df-convert {\n",
              "      background-color: #E8F0FE;\n",
              "      border: none;\n",
              "      border-radius: 50%;\n",
              "      cursor: pointer;\n",
              "      display: none;\n",
              "      fill: #1967D2;\n",
              "      height: 32px;\n",
              "      padding: 0 0 0 0;\n",
              "      width: 32px;\n",
              "    }\n",
              "\n",
              "    .colab-df-convert:hover {\n",
              "      background-color: #E2EBFA;\n",
              "      box-shadow: 0px 1px 2px rgba(60, 64, 67, 0.3), 0px 1px 3px 1px rgba(60, 64, 67, 0.15);\n",
              "      fill: #174EA6;\n",
              "    }\n",
              "\n",
              "    [theme=dark] .colab-df-convert {\n",
              "      background-color: #3B4455;\n",
              "      fill: #D2E3FC;\n",
              "    }\n",
              "\n",
              "    [theme=dark] .colab-df-convert:hover {\n",
              "      background-color: #434B5C;\n",
              "      box-shadow: 0px 1px 3px 1px rgba(0, 0, 0, 0.15);\n",
              "      filter: drop-shadow(0px 1px 2px rgba(0, 0, 0, 0.3));\n",
              "      fill: #FFFFFF;\n",
              "    }\n",
              "  </style>\n",
              "\n",
              "      <script>\n",
              "        const buttonEl =\n",
              "          document.querySelector('#df-65453a8b-b479-49cf-b10d-e9a004bd626e button.colab-df-convert');\n",
              "        buttonEl.style.display =\n",
              "          google.colab.kernel.accessAllowed ? 'block' : 'none';\n",
              "\n",
              "        async function convertToInteractive(key) {\n",
              "          const element = document.querySelector('#df-65453a8b-b479-49cf-b10d-e9a004bd626e');\n",
              "          const dataTable =\n",
              "            await google.colab.kernel.invokeFunction('convertToInteractive',\n",
              "                                                     [key], {});\n",
              "          if (!dataTable) return;\n",
              "\n",
              "          const docLinkHtml = 'Like what you see? Visit the ' +\n",
              "            '<a target=\"_blank\" href=https://colab.research.google.com/notebooks/data_table.ipynb>data table notebook</a>'\n",
              "            + ' to learn more about interactive tables.';\n",
              "          element.innerHTML = '';\n",
              "          dataTable['output_type'] = 'display_data';\n",
              "          await google.colab.output.renderOutput(dataTable, element);\n",
              "          const docLink = document.createElement('div');\n",
              "          docLink.innerHTML = docLinkHtml;\n",
              "          element.appendChild(docLink);\n",
              "        }\n",
              "      </script>\n",
              "    </div>\n",
              "  </div>\n",
              "  "
            ]
          },
          "metadata": {},
          "execution_count": 59
        }
      ]
    },
    {
      "cell_type": "code",
      "source": [
        "X = data_encoded.drop(\"charges\", axis=1)\n",
        "y = data_encoded[\"charges\"]"
      ],
      "metadata": {
        "id": "Nyq4mHn6vApO"
      },
      "execution_count": 60,
      "outputs": []
    },
    {
      "cell_type": "code",
      "source": [
        "X.head()"
      ],
      "metadata": {
        "colab": {
          "base_uri": "https://localhost:8080/",
          "height": 270
        },
        "id": "pszVeX1iv1ll",
        "outputId": "bd480c3f-a173-4e73-8ef1-b4038a66b8f0"
      },
      "execution_count": 61,
      "outputs": [
        {
          "output_type": "execute_result",
          "data": {
            "text/plain": [
              "   age     bmi  children  sex_female  sex_male  smoker_no  smoker_yes  \\\n",
              "0   19  27.900         0           1         0          0           1   \n",
              "1   18  33.770         1           0         1          1           0   \n",
              "2   28  33.000         3           0         1          1           0   \n",
              "3   33  22.705         0           0         1          1           0   \n",
              "4   32  28.880         0           0         1          1           0   \n",
              "\n",
              "   region_northeast  region_northwest  region_southeast  region_southwest  \n",
              "0                 0                 0                 0                 1  \n",
              "1                 0                 0                 1                 0  \n",
              "2                 0                 0                 1                 0  \n",
              "3                 0                 1                 0                 0  \n",
              "4                 0                 1                 0                 0  "
            ],
            "text/html": [
              "\n",
              "  <div id=\"df-c98140c1-d100-42b6-ac82-28ad36d1cff6\">\n",
              "    <div class=\"colab-df-container\">\n",
              "      <div>\n",
              "<style scoped>\n",
              "    .dataframe tbody tr th:only-of-type {\n",
              "        vertical-align: middle;\n",
              "    }\n",
              "\n",
              "    .dataframe tbody tr th {\n",
              "        vertical-align: top;\n",
              "    }\n",
              "\n",
              "    .dataframe thead th {\n",
              "        text-align: right;\n",
              "    }\n",
              "</style>\n",
              "<table border=\"1\" class=\"dataframe\">\n",
              "  <thead>\n",
              "    <tr style=\"text-align: right;\">\n",
              "      <th></th>\n",
              "      <th>age</th>\n",
              "      <th>bmi</th>\n",
              "      <th>children</th>\n",
              "      <th>sex_female</th>\n",
              "      <th>sex_male</th>\n",
              "      <th>smoker_no</th>\n",
              "      <th>smoker_yes</th>\n",
              "      <th>region_northeast</th>\n",
              "      <th>region_northwest</th>\n",
              "      <th>region_southeast</th>\n",
              "      <th>region_southwest</th>\n",
              "    </tr>\n",
              "  </thead>\n",
              "  <tbody>\n",
              "    <tr>\n",
              "      <th>0</th>\n",
              "      <td>19</td>\n",
              "      <td>27.900</td>\n",
              "      <td>0</td>\n",
              "      <td>1</td>\n",
              "      <td>0</td>\n",
              "      <td>0</td>\n",
              "      <td>1</td>\n",
              "      <td>0</td>\n",
              "      <td>0</td>\n",
              "      <td>0</td>\n",
              "      <td>1</td>\n",
              "    </tr>\n",
              "    <tr>\n",
              "      <th>1</th>\n",
              "      <td>18</td>\n",
              "      <td>33.770</td>\n",
              "      <td>1</td>\n",
              "      <td>0</td>\n",
              "      <td>1</td>\n",
              "      <td>1</td>\n",
              "      <td>0</td>\n",
              "      <td>0</td>\n",
              "      <td>0</td>\n",
              "      <td>1</td>\n",
              "      <td>0</td>\n",
              "    </tr>\n",
              "    <tr>\n",
              "      <th>2</th>\n",
              "      <td>28</td>\n",
              "      <td>33.000</td>\n",
              "      <td>3</td>\n",
              "      <td>0</td>\n",
              "      <td>1</td>\n",
              "      <td>1</td>\n",
              "      <td>0</td>\n",
              "      <td>0</td>\n",
              "      <td>0</td>\n",
              "      <td>1</td>\n",
              "      <td>0</td>\n",
              "    </tr>\n",
              "    <tr>\n",
              "      <th>3</th>\n",
              "      <td>33</td>\n",
              "      <td>22.705</td>\n",
              "      <td>0</td>\n",
              "      <td>0</td>\n",
              "      <td>1</td>\n",
              "      <td>1</td>\n",
              "      <td>0</td>\n",
              "      <td>0</td>\n",
              "      <td>1</td>\n",
              "      <td>0</td>\n",
              "      <td>0</td>\n",
              "    </tr>\n",
              "    <tr>\n",
              "      <th>4</th>\n",
              "      <td>32</td>\n",
              "      <td>28.880</td>\n",
              "      <td>0</td>\n",
              "      <td>0</td>\n",
              "      <td>1</td>\n",
              "      <td>1</td>\n",
              "      <td>0</td>\n",
              "      <td>0</td>\n",
              "      <td>1</td>\n",
              "      <td>0</td>\n",
              "      <td>0</td>\n",
              "    </tr>\n",
              "  </tbody>\n",
              "</table>\n",
              "</div>\n",
              "      <button class=\"colab-df-convert\" onclick=\"convertToInteractive('df-c98140c1-d100-42b6-ac82-28ad36d1cff6')\"\n",
              "              title=\"Convert this dataframe to an interactive table.\"\n",
              "              style=\"display:none;\">\n",
              "        \n",
              "  <svg xmlns=\"http://www.w3.org/2000/svg\" height=\"24px\"viewBox=\"0 0 24 24\"\n",
              "       width=\"24px\">\n",
              "    <path d=\"M0 0h24v24H0V0z\" fill=\"none\"/>\n",
              "    <path d=\"M18.56 5.44l.94 2.06.94-2.06 2.06-.94-2.06-.94-.94-2.06-.94 2.06-2.06.94zm-11 1L8.5 8.5l.94-2.06 2.06-.94-2.06-.94L8.5 2.5l-.94 2.06-2.06.94zm10 10l.94 2.06.94-2.06 2.06-.94-2.06-.94-.94-2.06-.94 2.06-2.06.94z\"/><path d=\"M17.41 7.96l-1.37-1.37c-.4-.4-.92-.59-1.43-.59-.52 0-1.04.2-1.43.59L10.3 9.45l-7.72 7.72c-.78.78-.78 2.05 0 2.83L4 21.41c.39.39.9.59 1.41.59.51 0 1.02-.2 1.41-.59l7.78-7.78 2.81-2.81c.8-.78.8-2.07 0-2.86zM5.41 20L4 18.59l7.72-7.72 1.47 1.35L5.41 20z\"/>\n",
              "  </svg>\n",
              "      </button>\n",
              "      \n",
              "  <style>\n",
              "    .colab-df-container {\n",
              "      display:flex;\n",
              "      flex-wrap:wrap;\n",
              "      gap: 12px;\n",
              "    }\n",
              "\n",
              "    .colab-df-convert {\n",
              "      background-color: #E8F0FE;\n",
              "      border: none;\n",
              "      border-radius: 50%;\n",
              "      cursor: pointer;\n",
              "      display: none;\n",
              "      fill: #1967D2;\n",
              "      height: 32px;\n",
              "      padding: 0 0 0 0;\n",
              "      width: 32px;\n",
              "    }\n",
              "\n",
              "    .colab-df-convert:hover {\n",
              "      background-color: #E2EBFA;\n",
              "      box-shadow: 0px 1px 2px rgba(60, 64, 67, 0.3), 0px 1px 3px 1px rgba(60, 64, 67, 0.15);\n",
              "      fill: #174EA6;\n",
              "    }\n",
              "\n",
              "    [theme=dark] .colab-df-convert {\n",
              "      background-color: #3B4455;\n",
              "      fill: #D2E3FC;\n",
              "    }\n",
              "\n",
              "    [theme=dark] .colab-df-convert:hover {\n",
              "      background-color: #434B5C;\n",
              "      box-shadow: 0px 1px 3px 1px rgba(0, 0, 0, 0.15);\n",
              "      filter: drop-shadow(0px 1px 2px rgba(0, 0, 0, 0.3));\n",
              "      fill: #FFFFFF;\n",
              "    }\n",
              "  </style>\n",
              "\n",
              "      <script>\n",
              "        const buttonEl =\n",
              "          document.querySelector('#df-c98140c1-d100-42b6-ac82-28ad36d1cff6 button.colab-df-convert');\n",
              "        buttonEl.style.display =\n",
              "          google.colab.kernel.accessAllowed ? 'block' : 'none';\n",
              "\n",
              "        async function convertToInteractive(key) {\n",
              "          const element = document.querySelector('#df-c98140c1-d100-42b6-ac82-28ad36d1cff6');\n",
              "          const dataTable =\n",
              "            await google.colab.kernel.invokeFunction('convertToInteractive',\n",
              "                                                     [key], {});\n",
              "          if (!dataTable) return;\n",
              "\n",
              "          const docLinkHtml = 'Like what you see? Visit the ' +\n",
              "            '<a target=\"_blank\" href=https://colab.research.google.com/notebooks/data_table.ipynb>data table notebook</a>'\n",
              "            + ' to learn more about interactive tables.';\n",
              "          element.innerHTML = '';\n",
              "          dataTable['output_type'] = 'display_data';\n",
              "          await google.colab.output.renderOutput(dataTable, element);\n",
              "          const docLink = document.createElement('div');\n",
              "          docLink.innerHTML = docLinkHtml;\n",
              "          element.appendChild(docLink);\n",
              "        }\n",
              "      </script>\n",
              "    </div>\n",
              "  </div>\n",
              "  "
            ]
          },
          "metadata": {},
          "execution_count": 61
        }
      ]
    },
    {
      "cell_type": "code",
      "source": [
        "y.head()"
      ],
      "metadata": {
        "colab": {
          "base_uri": "https://localhost:8080/"
        },
        "id": "LZRly_Ypv22s",
        "outputId": "caa3a85a-3234-4736-a7b2-451d109b79ac"
      },
      "execution_count": 62,
      "outputs": [
        {
          "output_type": "execute_result",
          "data": {
            "text/plain": [
              "0    16884.92400\n",
              "1     1725.55230\n",
              "2     4449.46200\n",
              "3    21984.47061\n",
              "4     3866.85520\n",
              "Name: charges, dtype: float64"
            ]
          },
          "metadata": {},
          "execution_count": 62
        }
      ]
    },
    {
      "cell_type": "code",
      "source": [
        "from sklearn.model_selection import train_test_split\n",
        "\n",
        "X_train, X_test, y_train, y_test = train_test_split(X, y, test_size=0.15,\n",
        "                                                    random_state=42)"
      ],
      "metadata": {
        "id": "0_x_hhY5v4fe"
      },
      "execution_count": 63,
      "outputs": []
    },
    {
      "cell_type": "code",
      "source": [
        "# build the model\n",
        "\n",
        "tf.random.set_seed(42)\n",
        "\n",
        "#1. Create model\n",
        "\n",
        "insurance_model = tf.keras.Sequential()\n",
        "insurance_model.add(tf.keras.layers.Dense(10))\n",
        "insurance_model.add(tf.keras.layers.Dense(1))\n",
        "\n",
        "# 2. compile the model\n",
        "insurance_model.compile(loss=tf.keras.losses.mae,\n",
        "                        optimizer=tf.keras.optimizers.SGD(),\n",
        "                        metrics=[\"mae\"])\n",
        "\n",
        "# 3. Fit the model\n",
        "insurance_model.fit(X_train, y_train, epochs=100)"
      ],
      "metadata": {
        "colab": {
          "base_uri": "https://localhost:8080/"
        },
        "id": "LJ8QBM-CxE5r",
        "outputId": "97bfd373-9e4e-4eb0-b0f1-517b1a3b146a"
      },
      "execution_count": 64,
      "outputs": [
        {
          "output_type": "stream",
          "name": "stdout",
          "text": [
            "Epoch 1/100\n",
            "36/36 [==============================] - 1s 4ms/step - loss: 8615.8477 - mae: 8615.8477\n",
            "Epoch 2/100\n",
            "36/36 [==============================] - 0s 3ms/step - loss: 7424.6216 - mae: 7424.6216\n",
            "Epoch 3/100\n",
            "36/36 [==============================] - 0s 3ms/step - loss: 7409.3569 - mae: 7409.3569\n",
            "Epoch 4/100\n",
            "36/36 [==============================] - 0s 3ms/step - loss: 7796.7231 - mae: 7796.7231\n",
            "Epoch 5/100\n",
            "36/36 [==============================] - 0s 3ms/step - loss: 7631.7573 - mae: 7631.7573\n",
            "Epoch 6/100\n",
            "36/36 [==============================] - 0s 3ms/step - loss: 7724.1274 - mae: 7724.1274\n",
            "Epoch 7/100\n",
            "36/36 [==============================] - 0s 3ms/step - loss: 7702.0142 - mae: 7702.0142\n",
            "Epoch 8/100\n",
            "36/36 [==============================] - 0s 3ms/step - loss: 7795.1406 - mae: 7795.1406\n",
            "Epoch 9/100\n",
            "36/36 [==============================] - 0s 3ms/step - loss: 7661.1538 - mae: 7661.1538\n",
            "Epoch 10/100\n",
            "36/36 [==============================] - 0s 3ms/step - loss: 7557.9092 - mae: 7557.9092\n",
            "Epoch 11/100\n",
            "36/36 [==============================] - 0s 2ms/step - loss: 7602.0923 - mae: 7602.0923\n",
            "Epoch 12/100\n",
            "36/36 [==============================] - 0s 2ms/step - loss: 7592.4185 - mae: 7592.4185\n",
            "Epoch 13/100\n",
            "36/36 [==============================] - 0s 2ms/step - loss: 7720.2012 - mae: 7720.2012\n",
            "Epoch 14/100\n",
            "36/36 [==============================] - 0s 2ms/step - loss: 7588.3472 - mae: 7588.3472\n",
            "Epoch 15/100\n",
            "36/36 [==============================] - 0s 3ms/step - loss: 7626.1846 - mae: 7626.1846\n",
            "Epoch 16/100\n",
            "36/36 [==============================] - 0s 3ms/step - loss: 7826.7266 - mae: 7826.7266\n",
            "Epoch 17/100\n",
            "36/36 [==============================] - 0s 2ms/step - loss: 7583.9023 - mae: 7583.9023\n",
            "Epoch 18/100\n",
            "36/36 [==============================] - 0s 2ms/step - loss: 7529.2812 - mae: 7529.2812\n",
            "Epoch 19/100\n",
            "36/36 [==============================] - 0s 2ms/step - loss: 7597.1084 - mae: 7597.1084\n",
            "Epoch 20/100\n",
            "36/36 [==============================] - 0s 2ms/step - loss: 7793.8066 - mae: 7793.8066\n",
            "Epoch 21/100\n",
            "36/36 [==============================] - 0s 2ms/step - loss: 7536.1968 - mae: 7536.1968\n",
            "Epoch 22/100\n",
            "36/36 [==============================] - 0s 2ms/step - loss: 7890.0723 - mae: 7890.0723\n",
            "Epoch 23/100\n",
            "36/36 [==============================] - 0s 2ms/step - loss: 7595.8496 - mae: 7595.8496\n",
            "Epoch 24/100\n",
            "36/36 [==============================] - 0s 2ms/step - loss: 7466.0869 - mae: 7466.0869\n",
            "Epoch 25/100\n",
            "36/36 [==============================] - 0s 2ms/step - loss: 7472.9888 - mae: 7472.9888\n",
            "Epoch 26/100\n",
            "36/36 [==============================] - 0s 2ms/step - loss: 7526.4170 - mae: 7526.4170\n",
            "Epoch 27/100\n",
            "36/36 [==============================] - 0s 2ms/step - loss: 7513.0317 - mae: 7513.0317\n",
            "Epoch 28/100\n",
            "36/36 [==============================] - 0s 2ms/step - loss: 7713.7949 - mae: 7713.7949\n",
            "Epoch 29/100\n",
            "36/36 [==============================] - 0s 2ms/step - loss: 7607.5981 - mae: 7607.5981\n",
            "Epoch 30/100\n",
            "36/36 [==============================] - 0s 2ms/step - loss: 7485.1265 - mae: 7485.1265\n",
            "Epoch 31/100\n",
            "36/36 [==============================] - 0s 2ms/step - loss: 7735.2632 - mae: 7735.2632\n",
            "Epoch 32/100\n",
            "36/36 [==============================] - 0s 2ms/step - loss: 7617.2588 - mae: 7617.2588\n",
            "Epoch 33/100\n",
            "36/36 [==============================] - 0s 2ms/step - loss: 7637.8164 - mae: 7637.8164\n",
            "Epoch 34/100\n",
            "36/36 [==============================] - 0s 2ms/step - loss: 7595.2295 - mae: 7595.2295\n",
            "Epoch 35/100\n",
            "36/36 [==============================] - 0s 2ms/step - loss: 7414.2480 - mae: 7414.2480\n",
            "Epoch 36/100\n",
            "36/36 [==============================] - 0s 2ms/step - loss: 7524.6157 - mae: 7524.6157\n",
            "Epoch 37/100\n",
            "36/36 [==============================] - 0s 2ms/step - loss: 7305.1792 - mae: 7305.1792\n",
            "Epoch 38/100\n",
            "36/36 [==============================] - 0s 2ms/step - loss: 7546.7729 - mae: 7546.7729\n",
            "Epoch 39/100\n",
            "36/36 [==============================] - 0s 2ms/step - loss: 7527.9453 - mae: 7527.9453\n",
            "Epoch 40/100\n",
            "36/36 [==============================] - 0s 2ms/step - loss: 7247.9038 - mae: 7247.9038\n",
            "Epoch 41/100\n",
            "36/36 [==============================] - 0s 2ms/step - loss: 7555.0737 - mae: 7555.0737\n",
            "Epoch 42/100\n",
            "36/36 [==============================] - 0s 2ms/step - loss: 7398.7871 - mae: 7398.7871\n",
            "Epoch 43/100\n",
            "36/36 [==============================] - 0s 2ms/step - loss: 7560.8618 - mae: 7560.8618\n",
            "Epoch 44/100\n",
            "36/36 [==============================] - 0s 2ms/step - loss: 7705.5552 - mae: 7705.5552\n",
            "Epoch 45/100\n",
            "36/36 [==============================] - 0s 2ms/step - loss: 7404.4766 - mae: 7404.4766\n",
            "Epoch 46/100\n",
            "36/36 [==============================] - 0s 2ms/step - loss: 7640.6807 - mae: 7640.6807\n",
            "Epoch 47/100\n",
            "36/36 [==============================] - 0s 2ms/step - loss: 7570.1382 - mae: 7570.1382\n",
            "Epoch 48/100\n",
            "36/36 [==============================] - 0s 2ms/step - loss: 7459.6870 - mae: 7459.6870\n",
            "Epoch 49/100\n",
            "36/36 [==============================] - 0s 2ms/step - loss: 7300.5908 - mae: 7300.5908\n",
            "Epoch 50/100\n",
            "36/36 [==============================] - 0s 2ms/step - loss: 7596.0020 - mae: 7596.0020\n",
            "Epoch 51/100\n",
            "36/36 [==============================] - 0s 2ms/step - loss: 7342.8726 - mae: 7342.8726\n",
            "Epoch 52/100\n",
            "36/36 [==============================] - 0s 2ms/step - loss: 7299.4448 - mae: 7299.4448\n",
            "Epoch 53/100\n",
            "36/36 [==============================] - 0s 2ms/step - loss: 7398.1265 - mae: 7398.1265\n",
            "Epoch 54/100\n",
            "36/36 [==============================] - 0s 2ms/step - loss: 7614.7988 - mae: 7614.7988\n",
            "Epoch 55/100\n",
            "36/36 [==============================] - 0s 2ms/step - loss: 7175.3647 - mae: 7175.3647\n",
            "Epoch 56/100\n",
            "36/36 [==============================] - 0s 2ms/step - loss: 7428.1484 - mae: 7428.1484\n",
            "Epoch 57/100\n",
            "36/36 [==============================] - 0s 2ms/step - loss: 7409.9375 - mae: 7409.9375\n",
            "Epoch 58/100\n",
            "36/36 [==============================] - 0s 2ms/step - loss: 7313.0771 - mae: 7313.0771\n",
            "Epoch 59/100\n",
            "36/36 [==============================] - 0s 2ms/step - loss: 7370.0840 - mae: 7370.0840\n",
            "Epoch 60/100\n",
            "36/36 [==============================] - 0s 2ms/step - loss: 7097.4307 - mae: 7097.4307\n",
            "Epoch 61/100\n",
            "36/36 [==============================] - 0s 2ms/step - loss: 7457.7817 - mae: 7457.7817\n",
            "Epoch 62/100\n",
            "36/36 [==============================] - 0s 2ms/step - loss: 7282.2227 - mae: 7282.2227\n",
            "Epoch 63/100\n",
            "36/36 [==============================] - 0s 2ms/step - loss: 7324.9478 - mae: 7324.9478\n",
            "Epoch 64/100\n",
            "36/36 [==============================] - 0s 2ms/step - loss: 7343.9268 - mae: 7343.9268\n",
            "Epoch 65/100\n",
            "36/36 [==============================] - 0s 2ms/step - loss: 7457.7803 - mae: 7457.7803\n",
            "Epoch 66/100\n",
            "36/36 [==============================] - 0s 2ms/step - loss: 7564.1294 - mae: 7564.1294\n",
            "Epoch 67/100\n",
            "36/36 [==============================] - 0s 2ms/step - loss: 7066.8325 - mae: 7066.8325\n",
            "Epoch 68/100\n",
            "36/36 [==============================] - 0s 2ms/step - loss: 7477.4775 - mae: 7477.4775\n",
            "Epoch 69/100\n",
            "36/36 [==============================] - 0s 2ms/step - loss: 7392.4502 - mae: 7392.4502\n",
            "Epoch 70/100\n",
            "36/36 [==============================] - 0s 2ms/step - loss: 7320.3511 - mae: 7320.3511\n",
            "Epoch 71/100\n",
            "36/36 [==============================] - 0s 2ms/step - loss: 7437.8135 - mae: 7437.8135\n",
            "Epoch 72/100\n",
            "36/36 [==============================] - 0s 2ms/step - loss: 7441.2153 - mae: 7441.2153\n",
            "Epoch 73/100\n",
            "36/36 [==============================] - 0s 2ms/step - loss: 7380.4536 - mae: 7380.4536\n",
            "Epoch 74/100\n",
            "36/36 [==============================] - 0s 2ms/step - loss: 7266.0288 - mae: 7266.0288\n",
            "Epoch 75/100\n",
            "36/36 [==============================] - 0s 2ms/step - loss: 7217.4653 - mae: 7217.4653\n",
            "Epoch 76/100\n",
            "36/36 [==============================] - 0s 2ms/step - loss: 7692.4224 - mae: 7692.4224\n",
            "Epoch 77/100\n",
            "36/36 [==============================] - 0s 2ms/step - loss: 7280.8267 - mae: 7280.8267\n",
            "Epoch 78/100\n",
            "36/36 [==============================] - 0s 2ms/step - loss: 7487.7817 - mae: 7487.7817\n",
            "Epoch 79/100\n",
            "36/36 [==============================] - 0s 2ms/step - loss: 7375.6890 - mae: 7375.6890\n",
            "Epoch 80/100\n",
            "36/36 [==============================] - 0s 2ms/step - loss: 7613.4224 - mae: 7613.4224\n",
            "Epoch 81/100\n",
            "36/36 [==============================] - 0s 2ms/step - loss: 7064.0586 - mae: 7064.0586\n",
            "Epoch 82/100\n",
            "36/36 [==============================] - 0s 2ms/step - loss: 7326.2729 - mae: 7326.2729\n",
            "Epoch 83/100\n",
            "36/36 [==============================] - 0s 2ms/step - loss: 7384.0229 - mae: 7384.0229\n",
            "Epoch 84/100\n",
            "36/36 [==============================] - 0s 2ms/step - loss: 7270.5063 - mae: 7270.5063\n",
            "Epoch 85/100\n",
            "36/36 [==============================] - 0s 2ms/step - loss: 7352.3813 - mae: 7352.3813\n",
            "Epoch 86/100\n",
            "36/36 [==============================] - 0s 2ms/step - loss: 7293.8022 - mae: 7293.8022\n",
            "Epoch 87/100\n",
            "36/36 [==============================] - 0s 2ms/step - loss: 7011.5117 - mae: 7011.5117\n",
            "Epoch 88/100\n",
            "36/36 [==============================] - 0s 2ms/step - loss: 7060.7017 - mae: 7060.7017\n",
            "Epoch 89/100\n",
            "36/36 [==============================] - 0s 2ms/step - loss: 7311.0962 - mae: 7311.0962\n",
            "Epoch 90/100\n",
            "36/36 [==============================] - 0s 2ms/step - loss: 7228.0156 - mae: 7228.0156\n",
            "Epoch 91/100\n",
            "36/36 [==============================] - 0s 2ms/step - loss: 7174.5010 - mae: 7174.5010\n",
            "Epoch 92/100\n",
            "36/36 [==============================] - 0s 2ms/step - loss: 7400.4678 - mae: 7400.4678\n",
            "Epoch 93/100\n",
            "36/36 [==============================] - 0s 2ms/step - loss: 7425.5728 - mae: 7425.5728\n",
            "Epoch 94/100\n",
            "36/36 [==============================] - 0s 2ms/step - loss: 7383.2954 - mae: 7383.2954\n",
            "Epoch 95/100\n",
            "36/36 [==============================] - 0s 2ms/step - loss: 7106.3647 - mae: 7106.3647\n",
            "Epoch 96/100\n",
            "36/36 [==============================] - 0s 2ms/step - loss: 7396.0913 - mae: 7396.0913\n",
            "Epoch 97/100\n",
            "36/36 [==============================] - 0s 2ms/step - loss: 7184.2393 - mae: 7184.2393\n",
            "Epoch 98/100\n",
            "36/36 [==============================] - 0s 2ms/step - loss: 7239.1191 - mae: 7239.1191\n",
            "Epoch 99/100\n",
            "36/36 [==============================] - 0s 2ms/step - loss: 7324.4043 - mae: 7324.4043\n",
            "Epoch 100/100\n",
            "36/36 [==============================] - 0s 2ms/step - loss: 7324.4482 - mae: 7324.4482\n"
          ]
        },
        {
          "output_type": "execute_result",
          "data": {
            "text/plain": [
              "<keras.callbacks.History at 0x7f7eb7435c50>"
            ]
          },
          "metadata": {},
          "execution_count": 64
        }
      ]
    },
    {
      "cell_type": "code",
      "source": [
        "# check the results of the insurance model on the test data\n",
        "\n",
        "insurance_model.evaluate(X_test, y_test)\n"
      ],
      "metadata": {
        "colab": {
          "base_uri": "https://localhost:8080/"
        },
        "id": "InKn8gf6xyiw",
        "outputId": "4959c1fc-e510-4f9a-94c3-f150a8d75ec3"
      },
      "execution_count": 65,
      "outputs": [
        {
          "output_type": "stream",
          "name": "stdout",
          "text": [
            "7/7 [==============================] - 0s 3ms/step - loss: 5897.1733 - mae: 5897.1733\n"
          ]
        },
        {
          "output_type": "execute_result",
          "data": {
            "text/plain": [
              "[5897.17333984375, 5897.17333984375]"
            ]
          },
          "metadata": {},
          "execution_count": 65
        }
      ]
    },
    {
      "cell_type": "code",
      "source": [
        "# lets try and improve the model\n",
        "\n",
        "# build the model\n",
        "\n",
        "tf.random.set_seed(42)\n",
        "\n",
        "#1. Create model\n",
        "\n",
        "insurance_model_2 = tf.keras.Sequential()\n",
        "insurance_model_2.add(tf.keras.layers.Dense(100))\n",
        "insurance_model_2.add(tf.keras.layers.Dropout(0.2))\n",
        "insurance_model_2.add(tf.keras.layers.Dense(50))\n",
        "insurance_model_2.add(tf.keras.layers.Dense(1))\n",
        "\n",
        "# 2. compile the model\n",
        "insurance_model_2.compile(loss=tf.keras.losses.mae,\n",
        "                        optimizer=tf.keras.optimizers.Adam(lr=0.01),\n",
        "                        metrics=[\"mae\"])\n",
        "\n",
        "# 3. Fit the model\n",
        "history = insurance_model_2.fit(X_train, y_train, epochs=200)"
      ],
      "metadata": {
        "colab": {
          "base_uri": "https://localhost:8080/"
        },
        "id": "GIyg1KpZyA9k",
        "outputId": "18b5691c-36a6-4159-8e2a-3d6bd5e17e86"
      },
      "execution_count": 66,
      "outputs": [
        {
          "output_type": "stream",
          "name": "stdout",
          "text": [
            "Epoch 1/200\n"
          ]
        },
        {
          "output_type": "stream",
          "name": "stderr",
          "text": [
            "/usr/local/lib/python3.7/dist-packages/keras/optimizers/optimizer_v2/adam.py:110: UserWarning: The `lr` argument is deprecated, use `learning_rate` instead.\n",
            "  super(Adam, self).__init__(name, **kwargs)\n"
          ]
        },
        {
          "output_type": "stream",
          "name": "stdout",
          "text": [
            "36/36 [==============================] - 1s 3ms/step - loss: 9879.7480 - mae: 9879.7480\n",
            "Epoch 2/200\n",
            "36/36 [==============================] - 0s 3ms/step - loss: 7326.1699 - mae: 7326.1699\n",
            "Epoch 3/200\n",
            "36/36 [==============================] - 0s 3ms/step - loss: 7032.1514 - mae: 7032.1514\n",
            "Epoch 4/200\n",
            "36/36 [==============================] - 0s 3ms/step - loss: 6693.3438 - mae: 6693.3438\n",
            "Epoch 5/200\n",
            "36/36 [==============================] - 0s 3ms/step - loss: 6429.5742 - mae: 6429.5742\n",
            "Epoch 6/200\n",
            "36/36 [==============================] - 0s 2ms/step - loss: 6240.0303 - mae: 6240.0303\n",
            "Epoch 7/200\n",
            "36/36 [==============================] - 0s 3ms/step - loss: 5984.0854 - mae: 5984.0854\n",
            "Epoch 8/200\n",
            "36/36 [==============================] - 0s 2ms/step - loss: 5600.0020 - mae: 5600.0020\n",
            "Epoch 9/200\n",
            "36/36 [==============================] - 0s 2ms/step - loss: 5010.4697 - mae: 5010.4697\n",
            "Epoch 10/200\n",
            "36/36 [==============================] - 0s 2ms/step - loss: 4006.2778 - mae: 4006.2778\n",
            "Epoch 11/200\n",
            "36/36 [==============================] - 0s 2ms/step - loss: 3969.5894 - mae: 3969.5894\n",
            "Epoch 12/200\n",
            "36/36 [==============================] - 0s 3ms/step - loss: 3932.8782 - mae: 3932.8782\n",
            "Epoch 13/200\n",
            "36/36 [==============================] - 0s 3ms/step - loss: 3839.0901 - mae: 3839.0901\n",
            "Epoch 14/200\n",
            "36/36 [==============================] - 0s 3ms/step - loss: 3877.7822 - mae: 3877.7822\n",
            "Epoch 15/200\n",
            "36/36 [==============================] - 0s 3ms/step - loss: 3923.4634 - mae: 3923.4634\n",
            "Epoch 16/200\n",
            "36/36 [==============================] - 0s 2ms/step - loss: 3865.8728 - mae: 3865.8728\n",
            "Epoch 17/200\n",
            "36/36 [==============================] - 0s 3ms/step - loss: 3905.3623 - mae: 3905.3623\n",
            "Epoch 18/200\n",
            "36/36 [==============================] - 0s 3ms/step - loss: 3879.3596 - mae: 3879.3596\n",
            "Epoch 19/200\n",
            "36/36 [==============================] - 0s 3ms/step - loss: 3782.7410 - mae: 3782.7410\n",
            "Epoch 20/200\n",
            "36/36 [==============================] - 0s 3ms/step - loss: 3874.5879 - mae: 3874.5879\n",
            "Epoch 21/200\n",
            "36/36 [==============================] - 0s 2ms/step - loss: 3892.3035 - mae: 3892.3035\n",
            "Epoch 22/200\n",
            "36/36 [==============================] - 0s 3ms/step - loss: 3743.1816 - mae: 3743.1816\n",
            "Epoch 23/200\n",
            "36/36 [==============================] - 0s 2ms/step - loss: 3788.8748 - mae: 3788.8748\n",
            "Epoch 24/200\n",
            "36/36 [==============================] - 0s 3ms/step - loss: 3784.4082 - mae: 3784.4082\n",
            "Epoch 25/200\n",
            "36/36 [==============================] - 0s 3ms/step - loss: 3746.0193 - mae: 3746.0193\n",
            "Epoch 26/200\n",
            "36/36 [==============================] - 0s 2ms/step - loss: 3781.6021 - mae: 3781.6021\n",
            "Epoch 27/200\n",
            "36/36 [==============================] - 0s 2ms/step - loss: 3812.9436 - mae: 3812.9436\n",
            "Epoch 28/200\n",
            "36/36 [==============================] - 0s 2ms/step - loss: 3681.9421 - mae: 3681.9421\n",
            "Epoch 29/200\n",
            "36/36 [==============================] - 0s 2ms/step - loss: 3723.4661 - mae: 3723.4661\n",
            "Epoch 30/200\n",
            "36/36 [==============================] - 0s 3ms/step - loss: 3848.3484 - mae: 3848.3484\n",
            "Epoch 31/200\n",
            "36/36 [==============================] - 0s 3ms/step - loss: 3686.5137 - mae: 3686.5137\n",
            "Epoch 32/200\n",
            "36/36 [==============================] - 0s 3ms/step - loss: 3677.5173 - mae: 3677.5173\n",
            "Epoch 33/200\n",
            "36/36 [==============================] - 0s 2ms/step - loss: 3733.8726 - mae: 3733.8726\n",
            "Epoch 34/200\n",
            "36/36 [==============================] - 0s 2ms/step - loss: 3725.6975 - mae: 3725.6975\n",
            "Epoch 35/200\n",
            "36/36 [==============================] - 0s 3ms/step - loss: 3700.5334 - mae: 3700.5334\n",
            "Epoch 36/200\n",
            "36/36 [==============================] - 0s 3ms/step - loss: 3673.6780 - mae: 3673.6780\n",
            "Epoch 37/200\n",
            "36/36 [==============================] - 0s 2ms/step - loss: 3654.8596 - mae: 3654.8596\n",
            "Epoch 38/200\n",
            "36/36 [==============================] - 0s 2ms/step - loss: 3685.3064 - mae: 3685.3064\n",
            "Epoch 39/200\n",
            "36/36 [==============================] - 0s 2ms/step - loss: 3735.0374 - mae: 3735.0374\n",
            "Epoch 40/200\n",
            "36/36 [==============================] - 0s 2ms/step - loss: 3614.8779 - mae: 3614.8779\n",
            "Epoch 41/200\n",
            "36/36 [==============================] - 0s 2ms/step - loss: 3683.2134 - mae: 3683.2134\n",
            "Epoch 42/200\n",
            "36/36 [==============================] - 0s 3ms/step - loss: 3591.4949 - mae: 3591.4949\n",
            "Epoch 43/200\n",
            "36/36 [==============================] - 0s 3ms/step - loss: 3613.4858 - mae: 3613.4858\n",
            "Epoch 44/200\n",
            "36/36 [==============================] - 0s 3ms/step - loss: 3678.1016 - mae: 3678.1016\n",
            "Epoch 45/200\n",
            "36/36 [==============================] - 0s 3ms/step - loss: 3662.5049 - mae: 3662.5049\n",
            "Epoch 46/200\n",
            "36/36 [==============================] - 0s 3ms/step - loss: 3686.5894 - mae: 3686.5894\n",
            "Epoch 47/200\n",
            "36/36 [==============================] - 0s 2ms/step - loss: 3682.1526 - mae: 3682.1526\n",
            "Epoch 48/200\n",
            "36/36 [==============================] - 0s 2ms/step - loss: 3714.9182 - mae: 3714.9182\n",
            "Epoch 49/200\n",
            "36/36 [==============================] - 0s 2ms/step - loss: 3606.2024 - mae: 3606.2024\n",
            "Epoch 50/200\n",
            "36/36 [==============================] - 0s 2ms/step - loss: 3600.4695 - mae: 3600.4695\n",
            "Epoch 51/200\n",
            "36/36 [==============================] - 0s 3ms/step - loss: 3630.8396 - mae: 3630.8396\n",
            "Epoch 52/200\n",
            "36/36 [==============================] - 0s 2ms/step - loss: 3584.8247 - mae: 3584.8247\n",
            "Epoch 53/200\n",
            "36/36 [==============================] - 0s 3ms/step - loss: 3571.2361 - mae: 3571.2361\n",
            "Epoch 54/200\n",
            "36/36 [==============================] - 0s 3ms/step - loss: 3617.5786 - mae: 3617.5786\n",
            "Epoch 55/200\n",
            "36/36 [==============================] - 0s 2ms/step - loss: 3589.3428 - mae: 3589.3428\n",
            "Epoch 56/200\n",
            "36/36 [==============================] - 0s 2ms/step - loss: 3656.6270 - mae: 3656.6270\n",
            "Epoch 57/200\n",
            "36/36 [==============================] - 0s 2ms/step - loss: 3608.5291 - mae: 3608.5291\n",
            "Epoch 58/200\n",
            "36/36 [==============================] - 0s 2ms/step - loss: 3614.2126 - mae: 3614.2126\n",
            "Epoch 59/200\n",
            "36/36 [==============================] - 0s 3ms/step - loss: 3728.5093 - mae: 3728.5093\n",
            "Epoch 60/200\n",
            "36/36 [==============================] - 0s 2ms/step - loss: 3612.3076 - mae: 3612.3076\n",
            "Epoch 61/200\n",
            "36/36 [==============================] - 0s 3ms/step - loss: 3615.9348 - mae: 3615.9348\n",
            "Epoch 62/200\n",
            "36/36 [==============================] - 0s 3ms/step - loss: 3645.1792 - mae: 3645.1792\n",
            "Epoch 63/200\n",
            "36/36 [==============================] - 0s 2ms/step - loss: 3661.5178 - mae: 3661.5178\n",
            "Epoch 64/200\n",
            "36/36 [==============================] - 0s 2ms/step - loss: 3734.4346 - mae: 3734.4346\n",
            "Epoch 65/200\n",
            "36/36 [==============================] - 0s 2ms/step - loss: 3596.5164 - mae: 3596.5164\n",
            "Epoch 66/200\n",
            "36/36 [==============================] - 0s 2ms/step - loss: 3693.3972 - mae: 3693.3972\n",
            "Epoch 67/200\n",
            "36/36 [==============================] - 0s 2ms/step - loss: 3595.1743 - mae: 3595.1743\n",
            "Epoch 68/200\n",
            "36/36 [==============================] - 0s 2ms/step - loss: 3639.7915 - mae: 3639.7915\n",
            "Epoch 69/200\n",
            "36/36 [==============================] - 0s 2ms/step - loss: 3608.8542 - mae: 3608.8542\n",
            "Epoch 70/200\n",
            "36/36 [==============================] - 0s 3ms/step - loss: 3596.4995 - mae: 3596.4995\n",
            "Epoch 71/200\n",
            "36/36 [==============================] - 0s 3ms/step - loss: 3736.7908 - mae: 3736.7908\n",
            "Epoch 72/200\n",
            "36/36 [==============================] - 0s 3ms/step - loss: 3690.0188 - mae: 3690.0188\n",
            "Epoch 73/200\n",
            "36/36 [==============================] - 0s 4ms/step - loss: 3594.1360 - mae: 3594.1360\n",
            "Epoch 74/200\n",
            "36/36 [==============================] - 0s 3ms/step - loss: 3671.4253 - mae: 3671.4253\n",
            "Epoch 75/200\n",
            "36/36 [==============================] - 0s 3ms/step - loss: 3693.9209 - mae: 3693.9209\n",
            "Epoch 76/200\n",
            "36/36 [==============================] - 0s 3ms/step - loss: 3633.0464 - mae: 3633.0464\n",
            "Epoch 77/200\n",
            "36/36 [==============================] - 0s 3ms/step - loss: 3724.1042 - mae: 3724.1042\n",
            "Epoch 78/200\n",
            "36/36 [==============================] - 0s 3ms/step - loss: 3666.0317 - mae: 3666.0317\n",
            "Epoch 79/200\n",
            "36/36 [==============================] - 0s 3ms/step - loss: 3640.3447 - mae: 3640.3447\n",
            "Epoch 80/200\n",
            "36/36 [==============================] - 0s 3ms/step - loss: 3622.6575 - mae: 3622.6575\n",
            "Epoch 81/200\n",
            "36/36 [==============================] - 0s 3ms/step - loss: 3708.7600 - mae: 3708.7600\n",
            "Epoch 82/200\n",
            "36/36 [==============================] - 0s 3ms/step - loss: 3670.6931 - mae: 3670.6931\n",
            "Epoch 83/200\n",
            "36/36 [==============================] - 0s 2ms/step - loss: 3676.4285 - mae: 3676.4285\n",
            "Epoch 84/200\n",
            "36/36 [==============================] - 0s 2ms/step - loss: 3634.0334 - mae: 3634.0334\n",
            "Epoch 85/200\n",
            "36/36 [==============================] - 0s 2ms/step - loss: 3679.8115 - mae: 3679.8115\n",
            "Epoch 86/200\n",
            "36/36 [==============================] - 0s 2ms/step - loss: 3644.3032 - mae: 3644.3032\n",
            "Epoch 87/200\n",
            "36/36 [==============================] - 0s 3ms/step - loss: 3605.8154 - mae: 3605.8154\n",
            "Epoch 88/200\n",
            "36/36 [==============================] - 0s 2ms/step - loss: 3646.4961 - mae: 3646.4961\n",
            "Epoch 89/200\n",
            "36/36 [==============================] - 0s 3ms/step - loss: 3637.6765 - mae: 3637.6765\n",
            "Epoch 90/200\n",
            "36/36 [==============================] - 0s 3ms/step - loss: 3587.9336 - mae: 3587.9336\n",
            "Epoch 91/200\n",
            "36/36 [==============================] - 0s 2ms/step - loss: 3587.7356 - mae: 3587.7356\n",
            "Epoch 92/200\n",
            "36/36 [==============================] - 0s 2ms/step - loss: 3646.0845 - mae: 3646.0845\n",
            "Epoch 93/200\n",
            "36/36 [==============================] - 0s 2ms/step - loss: 3672.1655 - mae: 3672.1655\n",
            "Epoch 94/200\n",
            "36/36 [==============================] - 0s 2ms/step - loss: 3596.7090 - mae: 3596.7090\n",
            "Epoch 95/200\n",
            "36/36 [==============================] - 0s 2ms/step - loss: 3697.1531 - mae: 3697.1531\n",
            "Epoch 96/200\n",
            "36/36 [==============================] - 0s 2ms/step - loss: 3669.6804 - mae: 3669.6804\n",
            "Epoch 97/200\n",
            "36/36 [==============================] - 0s 3ms/step - loss: 3616.6912 - mae: 3616.6912\n",
            "Epoch 98/200\n",
            "36/36 [==============================] - 0s 2ms/step - loss: 3576.4768 - mae: 3576.4768\n",
            "Epoch 99/200\n",
            "36/36 [==============================] - 0s 2ms/step - loss: 3802.4045 - mae: 3802.4045\n",
            "Epoch 100/200\n",
            "36/36 [==============================] - 0s 3ms/step - loss: 3627.4666 - mae: 3627.4666\n",
            "Epoch 101/200\n",
            "36/36 [==============================] - 0s 2ms/step - loss: 3625.5020 - mae: 3625.5020\n",
            "Epoch 102/200\n",
            "36/36 [==============================] - 0s 2ms/step - loss: 3635.8447 - mae: 3635.8447\n",
            "Epoch 103/200\n",
            "36/36 [==============================] - 0s 3ms/step - loss: 3596.6226 - mae: 3596.6226\n",
            "Epoch 104/200\n",
            "36/36 [==============================] - 0s 3ms/step - loss: 3630.7808 - mae: 3630.7808\n",
            "Epoch 105/200\n",
            "36/36 [==============================] - 0s 2ms/step - loss: 3640.3054 - mae: 3640.3054\n",
            "Epoch 106/200\n",
            "36/36 [==============================] - 0s 2ms/step - loss: 3641.6082 - mae: 3641.6082\n",
            "Epoch 107/200\n",
            "36/36 [==============================] - 0s 2ms/step - loss: 3633.1084 - mae: 3633.1084\n",
            "Epoch 108/200\n",
            "36/36 [==============================] - 0s 2ms/step - loss: 3660.0925 - mae: 3660.0925\n",
            "Epoch 109/200\n",
            "36/36 [==============================] - 0s 4ms/step - loss: 3668.6604 - mae: 3668.6604\n",
            "Epoch 110/200\n",
            "36/36 [==============================] - 0s 3ms/step - loss: 3628.1140 - mae: 3628.1140\n",
            "Epoch 111/200\n",
            "36/36 [==============================] - 0s 2ms/step - loss: 3660.0518 - mae: 3660.0518\n",
            "Epoch 112/200\n",
            "36/36 [==============================] - 0s 2ms/step - loss: 3656.6226 - mae: 3656.6226\n",
            "Epoch 113/200\n",
            "36/36 [==============================] - 0s 3ms/step - loss: 3629.8533 - mae: 3629.8533\n",
            "Epoch 114/200\n",
            "36/36 [==============================] - 0s 3ms/step - loss: 3697.5237 - mae: 3697.5237\n",
            "Epoch 115/200\n",
            "36/36 [==============================] - 0s 2ms/step - loss: 3672.4329 - mae: 3672.4329\n",
            "Epoch 116/200\n",
            "36/36 [==============================] - 0s 3ms/step - loss: 3637.2622 - mae: 3637.2622\n",
            "Epoch 117/200\n",
            "36/36 [==============================] - 0s 3ms/step - loss: 3610.2651 - mae: 3610.2651\n",
            "Epoch 118/200\n",
            "36/36 [==============================] - 0s 3ms/step - loss: 3620.5454 - mae: 3620.5454\n",
            "Epoch 119/200\n",
            "36/36 [==============================] - 0s 3ms/step - loss: 3678.9065 - mae: 3678.9065\n",
            "Epoch 120/200\n",
            "36/36 [==============================] - 0s 3ms/step - loss: 3710.2502 - mae: 3710.2502\n",
            "Epoch 121/200\n",
            "36/36 [==============================] - 0s 3ms/step - loss: 3617.8240 - mae: 3617.8240\n",
            "Epoch 122/200\n",
            "36/36 [==============================] - 0s 3ms/step - loss: 3617.1975 - mae: 3617.1975\n",
            "Epoch 123/200\n",
            "36/36 [==============================] - 0s 2ms/step - loss: 3653.2544 - mae: 3653.2544\n",
            "Epoch 124/200\n",
            "36/36 [==============================] - 0s 2ms/step - loss: 3553.7512 - mae: 3553.7512\n",
            "Epoch 125/200\n",
            "36/36 [==============================] - 0s 3ms/step - loss: 3540.4341 - mae: 3540.4341\n",
            "Epoch 126/200\n",
            "36/36 [==============================] - 0s 3ms/step - loss: 3619.0742 - mae: 3619.0742\n",
            "Epoch 127/200\n",
            "36/36 [==============================] - 0s 3ms/step - loss: 3602.7236 - mae: 3602.7236\n",
            "Epoch 128/200\n",
            "36/36 [==============================] - 0s 3ms/step - loss: 3593.3418 - mae: 3593.3418\n",
            "Epoch 129/200\n",
            "36/36 [==============================] - 0s 3ms/step - loss: 3594.6084 - mae: 3594.6084\n",
            "Epoch 130/200\n",
            "36/36 [==============================] - 0s 3ms/step - loss: 3624.5161 - mae: 3624.5161\n",
            "Epoch 131/200\n",
            "36/36 [==============================] - 0s 3ms/step - loss: 3640.9956 - mae: 3640.9956\n",
            "Epoch 132/200\n",
            "36/36 [==============================] - 0s 3ms/step - loss: 3660.4084 - mae: 3660.4084\n",
            "Epoch 133/200\n",
            "36/36 [==============================] - 0s 2ms/step - loss: 3736.3462 - mae: 3736.3462\n",
            "Epoch 134/200\n",
            "36/36 [==============================] - 0s 2ms/step - loss: 3575.1165 - mae: 3575.1165\n",
            "Epoch 135/200\n",
            "36/36 [==============================] - 0s 3ms/step - loss: 3595.4614 - mae: 3595.4614\n",
            "Epoch 136/200\n",
            "36/36 [==============================] - 0s 3ms/step - loss: 3650.4414 - mae: 3650.4414\n",
            "Epoch 137/200\n",
            "36/36 [==============================] - 0s 2ms/step - loss: 3602.2937 - mae: 3602.2937\n",
            "Epoch 138/200\n",
            "36/36 [==============================] - 0s 3ms/step - loss: 3668.0239 - mae: 3668.0239\n",
            "Epoch 139/200\n",
            "36/36 [==============================] - 0s 3ms/step - loss: 3613.0903 - mae: 3613.0903\n",
            "Epoch 140/200\n",
            "36/36 [==============================] - 0s 3ms/step - loss: 3676.7837 - mae: 3676.7837\n",
            "Epoch 141/200\n",
            "36/36 [==============================] - 0s 3ms/step - loss: 3625.3882 - mae: 3625.3882\n",
            "Epoch 142/200\n",
            "36/36 [==============================] - 0s 2ms/step - loss: 3550.3833 - mae: 3550.3833\n",
            "Epoch 143/200\n",
            "36/36 [==============================] - 0s 3ms/step - loss: 3593.0322 - mae: 3593.0322\n",
            "Epoch 144/200\n",
            "36/36 [==============================] - 0s 3ms/step - loss: 3686.2649 - mae: 3686.2649\n",
            "Epoch 145/200\n",
            "36/36 [==============================] - 0s 3ms/step - loss: 3603.4790 - mae: 3603.4790\n",
            "Epoch 146/200\n",
            "36/36 [==============================] - 0s 3ms/step - loss: 3572.0452 - mae: 3572.0452\n",
            "Epoch 147/200\n",
            "36/36 [==============================] - 0s 3ms/step - loss: 3547.6494 - mae: 3547.6494\n",
            "Epoch 148/200\n",
            "36/36 [==============================] - 0s 2ms/step - loss: 3681.7268 - mae: 3681.7268\n",
            "Epoch 149/200\n",
            "36/36 [==============================] - 0s 2ms/step - loss: 3599.5996 - mae: 3599.5996\n",
            "Epoch 150/200\n",
            "36/36 [==============================] - 0s 3ms/step - loss: 3624.4651 - mae: 3624.4651\n",
            "Epoch 151/200\n",
            "36/36 [==============================] - 0s 3ms/step - loss: 3794.5850 - mae: 3794.5850\n",
            "Epoch 152/200\n",
            "36/36 [==============================] - 0s 2ms/step - loss: 3698.9768 - mae: 3698.9768\n",
            "Epoch 153/200\n",
            "36/36 [==============================] - 0s 2ms/step - loss: 3677.1987 - mae: 3677.1987\n",
            "Epoch 154/200\n",
            "36/36 [==============================] - 0s 3ms/step - loss: 3606.7178 - mae: 3606.7178\n",
            "Epoch 155/200\n",
            "36/36 [==============================] - 0s 3ms/step - loss: 3607.4321 - mae: 3607.4321\n",
            "Epoch 156/200\n",
            "36/36 [==============================] - 0s 3ms/step - loss: 3604.2336 - mae: 3604.2336\n",
            "Epoch 157/200\n",
            "36/36 [==============================] - 0s 3ms/step - loss: 3691.7646 - mae: 3691.7646\n",
            "Epoch 158/200\n",
            "36/36 [==============================] - 0s 3ms/step - loss: 3570.1265 - mae: 3570.1265\n",
            "Epoch 159/200\n",
            "36/36 [==============================] - 0s 3ms/step - loss: 3572.4133 - mae: 3572.4133\n",
            "Epoch 160/200\n",
            "36/36 [==============================] - 0s 2ms/step - loss: 3602.4546 - mae: 3602.4546\n",
            "Epoch 161/200\n",
            "36/36 [==============================] - 0s 3ms/step - loss: 3595.5330 - mae: 3595.5330\n",
            "Epoch 162/200\n",
            "36/36 [==============================] - 0s 3ms/step - loss: 3606.1553 - mae: 3606.1553\n",
            "Epoch 163/200\n",
            "36/36 [==============================] - 0s 3ms/step - loss: 3600.0200 - mae: 3600.0200\n",
            "Epoch 164/200\n",
            "36/36 [==============================] - 0s 3ms/step - loss: 3557.0940 - mae: 3557.0940\n",
            "Epoch 165/200\n",
            "36/36 [==============================] - 0s 3ms/step - loss: 3611.8506 - mae: 3611.8506\n",
            "Epoch 166/200\n",
            "36/36 [==============================] - 0s 3ms/step - loss: 3581.7095 - mae: 3581.7095\n",
            "Epoch 167/200\n",
            "36/36 [==============================] - 0s 3ms/step - loss: 3614.2195 - mae: 3614.2195\n",
            "Epoch 168/200\n",
            "36/36 [==============================] - 0s 2ms/step - loss: 3604.5767 - mae: 3604.5767\n",
            "Epoch 169/200\n",
            "36/36 [==============================] - 0s 3ms/step - loss: 3568.7905 - mae: 3568.7905\n",
            "Epoch 170/200\n",
            "36/36 [==============================] - 0s 2ms/step - loss: 3596.0676 - mae: 3596.0676\n",
            "Epoch 171/200\n",
            "36/36 [==============================] - 0s 2ms/step - loss: 3659.2454 - mae: 3659.2454\n",
            "Epoch 172/200\n",
            "36/36 [==============================] - 0s 3ms/step - loss: 3573.4175 - mae: 3573.4175\n",
            "Epoch 173/200\n",
            "36/36 [==============================] - 0s 3ms/step - loss: 3594.7998 - mae: 3594.7998\n",
            "Epoch 174/200\n",
            "36/36 [==============================] - 0s 3ms/step - loss: 3586.5085 - mae: 3586.5085\n",
            "Epoch 175/200\n",
            "36/36 [==============================] - 0s 3ms/step - loss: 3709.2229 - mae: 3709.2229\n",
            "Epoch 176/200\n",
            "36/36 [==============================] - 0s 3ms/step - loss: 3673.7600 - mae: 3673.7600\n",
            "Epoch 177/200\n",
            "36/36 [==============================] - 0s 3ms/step - loss: 3653.5476 - mae: 3653.5476\n",
            "Epoch 178/200\n",
            "36/36 [==============================] - 0s 2ms/step - loss: 3605.3940 - mae: 3605.3940\n",
            "Epoch 179/200\n",
            "36/36 [==============================] - 0s 2ms/step - loss: 3581.9932 - mae: 3581.9932\n",
            "Epoch 180/200\n",
            "36/36 [==============================] - 0s 3ms/step - loss: 3684.0593 - mae: 3684.0593\n",
            "Epoch 181/200\n",
            "36/36 [==============================] - 0s 3ms/step - loss: 3626.3525 - mae: 3626.3525\n",
            "Epoch 182/200\n",
            "36/36 [==============================] - 0s 3ms/step - loss: 3719.3130 - mae: 3719.3130\n",
            "Epoch 183/200\n",
            "36/36 [==============================] - 0s 4ms/step - loss: 3633.5332 - mae: 3633.5332\n",
            "Epoch 184/200\n",
            "36/36 [==============================] - 0s 3ms/step - loss: 3630.3438 - mae: 3630.3438\n",
            "Epoch 185/200\n",
            "36/36 [==============================] - 0s 3ms/step - loss: 3677.6162 - mae: 3677.6162\n",
            "Epoch 186/200\n",
            "36/36 [==============================] - 0s 3ms/step - loss: 3596.0466 - mae: 3596.0466\n",
            "Epoch 187/200\n",
            "36/36 [==============================] - 0s 3ms/step - loss: 3561.1453 - mae: 3561.1453\n",
            "Epoch 188/200\n",
            "36/36 [==============================] - 0s 3ms/step - loss: 3662.2781 - mae: 3662.2781\n",
            "Epoch 189/200\n",
            "36/36 [==============================] - 0s 2ms/step - loss: 3623.8384 - mae: 3623.8384\n",
            "Epoch 190/200\n",
            "36/36 [==============================] - 0s 2ms/step - loss: 3579.3477 - mae: 3579.3477\n",
            "Epoch 191/200\n",
            "36/36 [==============================] - 0s 3ms/step - loss: 3711.1980 - mae: 3711.1980\n",
            "Epoch 192/200\n",
            "36/36 [==============================] - 0s 2ms/step - loss: 3615.9189 - mae: 3615.9189\n",
            "Epoch 193/200\n",
            "36/36 [==============================] - 0s 3ms/step - loss: 3589.1877 - mae: 3589.1877\n",
            "Epoch 194/200\n",
            "36/36 [==============================] - 0s 3ms/step - loss: 3568.7827 - mae: 3568.7827\n",
            "Epoch 195/200\n",
            "36/36 [==============================] - 0s 3ms/step - loss: 3678.7556 - mae: 3678.7556\n",
            "Epoch 196/200\n",
            "36/36 [==============================] - 0s 3ms/step - loss: 3624.1292 - mae: 3624.1292\n",
            "Epoch 197/200\n",
            "36/36 [==============================] - 0s 3ms/step - loss: 3578.7400 - mae: 3578.7400\n",
            "Epoch 198/200\n",
            "36/36 [==============================] - 0s 3ms/step - loss: 3521.4690 - mae: 3521.4690\n",
            "Epoch 199/200\n",
            "36/36 [==============================] - 0s 2ms/step - loss: 3610.3230 - mae: 3610.3230\n",
            "Epoch 200/200\n",
            "36/36 [==============================] - 0s 3ms/step - loss: 3624.9236 - mae: 3624.9236\n"
          ]
        }
      ]
    },
    {
      "cell_type": "code",
      "source": [
        "insurance_model_2.evaluate(X_test, y_test)"
      ],
      "metadata": {
        "colab": {
          "base_uri": "https://localhost:8080/"
        },
        "id": "KKitCATGyl5V",
        "outputId": "5032b889-b506-4f0d-fa9f-ab3b01bbf6ff"
      },
      "execution_count": 67,
      "outputs": [
        {
          "output_type": "stream",
          "name": "stdout",
          "text": [
            "7/7 [==============================] - 0s 3ms/step - loss: 3189.3367 - mae: 3189.3367\n"
          ]
        },
        {
          "output_type": "execute_result",
          "data": {
            "text/plain": [
              "[3189.336669921875, 3189.336669921875]"
            ]
          },
          "metadata": {},
          "execution_count": 67
        }
      ]
    },
    {
      "cell_type": "code",
      "source": [
        "insurance_model_2.summary()"
      ],
      "metadata": {
        "colab": {
          "base_uri": "https://localhost:8080/"
        },
        "id": "ViWJxs7t0EyY",
        "outputId": "bd1be45b-0a42-4c01-f11c-d1221bad2138"
      },
      "execution_count": 68,
      "outputs": [
        {
          "output_type": "stream",
          "name": "stdout",
          "text": [
            "Model: \"sequential_8\"\n",
            "_________________________________________________________________\n",
            " Layer (type)                Output Shape              Param #   \n",
            "=================================================================\n",
            " dense_14 (Dense)            (None, 100)               1200      \n",
            "                                                                 \n",
            " dropout (Dropout)           (None, 100)               0         \n",
            "                                                                 \n",
            " dense_15 (Dense)            (None, 50)                5050      \n",
            "                                                                 \n",
            " dense_16 (Dense)            (None, 1)                 51        \n",
            "                                                                 \n",
            "=================================================================\n",
            "Total params: 6,301\n",
            "Trainable params: 6,301\n",
            "Non-trainable params: 0\n",
            "_________________________________________________________________\n"
          ]
        }
      ]
    },
    {
      "cell_type": "code",
      "source": [
        "# history plot\n",
        "pd.DataFrame(history.history).plot()\n",
        "plt.ylabel(\"loss\")\n",
        "plt.xlabel(\"epochs\")"
      ],
      "metadata": {
        "colab": {
          "base_uri": "https://localhost:8080/",
          "height": 296
        },
        "id": "zypMvAkk0GRz",
        "outputId": "3f2d6fbb-4938-4d83-e390-016fc0bde017"
      },
      "execution_count": 69,
      "outputs": [
        {
          "output_type": "execute_result",
          "data": {
            "text/plain": [
              "Text(0.5, 0, 'epochs')"
            ]
          },
          "metadata": {},
          "execution_count": 69
        },
        {
          "output_type": "display_data",
          "data": {
            "text/plain": [
              "<Figure size 432x288 with 1 Axes>"
            ],
            "image/png": "[encoded data removed]"
          },
          "metadata": {
            "needs_background": "light"
          }
        }
      ]
    },
    {
      "cell_type": "markdown",
      "source": [
        "## Let's try some preprocessing\n",
        "\n",
        "In terms in scaling values,  nerual networks tend to prefer normalisation. \n",
        "\n"
      ],
      "metadata": {
        "id": "FYv9eDI12qTI"
      }
    },
    {
      "cell_type": "code",
      "source": [
        "insurance_data = pd.read_csv(\"insurance.csv\")"
      ],
      "metadata": {
        "id": "rcERzOqU1Jv1"
      },
      "execution_count": 70,
      "outputs": []
    },
    {
      "cell_type": "code",
      "source": [
        "from sklearn.compose import make_column_transformer\n",
        "from sklearn.preprocessing import MinMaxScaler, OneHotEncoder\n",
        "from sklearn.model_selection import train_test_split\n",
        "\n",
        "# create column transformer\n",
        "\n",
        "col_trans = make_column_transformer((MinMaxScaler(), [\"age\", \"bmi\", \"children\"]),\n",
        "                                    (OneHotEncoder(handle_unknown=\"ignore\"),\n",
        "                                     [\"sex\", \"smoker\", \"region\"]))\n",
        "\n",
        "X = insurance_data.drop(\"charges\", axis=1)\n",
        "y = insurance_data[\"charges\"]\n",
        "\n",
        "X_train, X_test, y_train, y_test = train_test_split(X, y, test_size=0.15,\n",
        "                                                    random_state=42)\n",
        "\n",
        "#fit the column transformer to our training data\n",
        "col_trans.fit(X_train)\n",
        "\n",
        "# transform training data and test data\n",
        "X_train_normal = col_trans.transform(X_train)\n",
        "X_test_normal = col_trans.transform(X_test)\n"
      ],
      "metadata": {
        "id": "mmosVPXJ4rom"
      },
      "execution_count": 71,
      "outputs": []
    },
    {
      "cell_type": "code",
      "source": [
        "X_train.loc[0]"
      ],
      "metadata": {
        "colab": {
          "base_uri": "https://localhost:8080/"
        },
        "id": "0arlEbQG55EV",
        "outputId": "373fce9c-60d3-4a48-8d0e-e616a5e271d2"
      },
      "execution_count": 72,
      "outputs": [
        {
          "output_type": "execute_result",
          "data": {
            "text/plain": [
              "age                19\n",
              "sex            female\n",
              "bmi              27.9\n",
              "children            0\n",
              "smoker            yes\n",
              "region      southwest\n",
              "Name: 0, dtype: object"
            ]
          },
          "metadata": {},
          "execution_count": 72
        }
      ]
    },
    {
      "cell_type": "code",
      "source": [
        "X_train_normal"
      ],
      "metadata": {
        "colab": {
          "base_uri": "https://localhost:8080/"
        },
        "id": "W0QetA0f6mS3",
        "outputId": "3bae5b1e-4783-4dc3-dee7-d6d32dafde9e"
      },
      "execution_count": 73,
      "outputs": [
        {
          "output_type": "execute_result",
          "data": {
            "text/plain": [
              "array([[0.73913043, 0.30669895, 0.        , ..., 1.        , 0.        ,\n",
              "        0.        ],\n",
              "       [0.26086957, 0.76029056, 0.4       , ..., 0.        , 1.        ,\n",
              "        0.        ],\n",
              "       [0.02173913, 0.30414313, 0.4       , ..., 1.        , 0.        ,\n",
              "        0.        ],\n",
              "       ...,\n",
              "       [0.86956522, 0.24791499, 0.        , ..., 0.        , 0.        ,\n",
              "        0.        ],\n",
              "       [0.41304348, 0.85122411, 0.4       , ..., 0.        , 0.        ,\n",
              "        1.        ],\n",
              "       [0.80434783, 0.37503363, 0.        , ..., 0.        , 0.        ,\n",
              "        1.        ]])"
            ]
          },
          "metadata": {},
          "execution_count": 73
        }
      ]
    },
    {
      "cell_type": "code",
      "source": [
        "X_train.shape, X_train_normal.shape"
      ],
      "metadata": {
        "colab": {
          "base_uri": "https://localhost:8080/"
        },
        "id": "L3iGTjrz6onL",
        "outputId": "c6fa035b-67e9-4c73-919e-fd6f1da969d8"
      },
      "execution_count": 74,
      "outputs": [
        {
          "output_type": "execute_result",
          "data": {
            "text/plain": [
              "((1137, 6), (1137, 11))"
            ]
          },
          "metadata": {},
          "execution_count": 74
        }
      ]
    },
    {
      "cell_type": "code",
      "source": [
        "# build a network on our normalised data\n",
        "\n",
        "# set the seed\n",
        "tf.random.set_seed(42)\n",
        "\n",
        "#create model using insurance model 3\n",
        "insurance_model_3 = tf.keras.Sequential()\n",
        "insurance_model_3.add(tf.keras.layers.Dense(100))\n",
        "insurance_model_3.add(tf.keras.layers.Dropout(0.2))\n",
        "insurance_model_3.add(tf.keras.layers.Dense(10))\n",
        "insurance_model_3.add(tf.keras.layers.Dense(1))\n",
        "\n",
        "# compile\n",
        "\n",
        "insurance_model_3.compile(loss=tf.keras.losses.mae,\n",
        "                          optimizer=tf.keras.optimizers.Adam(lr=0.01),\n",
        "                          metrics=[\"mae\"])\n",
        "\n",
        "# fit\n",
        "insurance_model_3.fit(X_train_normal, y_train, epochs=100)\n",
        "\n",
        "\n",
        "\n"
      ],
      "metadata": {
        "id": "LAHClAp_67iw",
        "colab": {
          "base_uri": "https://localhost:8080/"
        },
        "outputId": "404590a2-f2a3-4e83-feb1-795bf8a65cb2"
      },
      "execution_count": 75,
      "outputs": [
        {
          "output_type": "stream",
          "name": "stdout",
          "text": [
            "Epoch 1/100\n"
          ]
        },
        {
          "output_type": "stream",
          "name": "stderr",
          "text": [
            "/usr/local/lib/python3.7/dist-packages/keras/optimizers/optimizer_v2/adam.py:110: UserWarning: The `lr` argument is deprecated, use `learning_rate` instead.\n",
            "  super(Adam, self).__init__(name, **kwargs)\n"
          ]
        },
        {
          "output_type": "stream",
          "name": "stdout",
          "text": [
            "36/36 [==============================] - 1s 2ms/step - loss: 13135.8369 - mae: 13135.8369\n",
            "Epoch 2/100\n",
            "36/36 [==============================] - 0s 3ms/step - loss: 10995.0928 - mae: 10995.0928\n",
            "Epoch 3/100\n",
            "36/36 [==============================] - 0s 2ms/step - loss: 7966.0210 - mae: 7966.0210\n",
            "Epoch 4/100\n",
            "36/36 [==============================] - 0s 2ms/step - loss: 7512.0308 - mae: 7512.0308\n",
            "Epoch 5/100\n",
            "36/36 [==============================] - 0s 2ms/step - loss: 7008.6255 - mae: 7008.6255\n",
            "Epoch 6/100\n",
            "36/36 [==============================] - 0s 2ms/step - loss: 6333.8027 - mae: 6333.8027\n",
            "Epoch 7/100\n",
            "36/36 [==============================] - 0s 2ms/step - loss: 5252.7705 - mae: 5252.7705\n",
            "Epoch 8/100\n",
            "36/36 [==============================] - 0s 2ms/step - loss: 4194.5254 - mae: 4194.5254\n",
            "Epoch 9/100\n",
            "36/36 [==============================] - 0s 2ms/step - loss: 3760.3325 - mae: 3760.3325\n",
            "Epoch 10/100\n",
            "36/36 [==============================] - 0s 2ms/step - loss: 3656.3025 - mae: 3656.3025\n",
            "Epoch 11/100\n",
            "36/36 [==============================] - 0s 3ms/step - loss: 3647.6438 - mae: 3647.6438\n",
            "Epoch 12/100\n",
            "36/36 [==============================] - 0s 3ms/step - loss: 3687.0986 - mae: 3687.0986\n",
            "Epoch 13/100\n",
            "36/36 [==============================] - 0s 2ms/step - loss: 3641.8286 - mae: 3641.8286\n",
            "Epoch 14/100\n",
            "36/36 [==============================] - 0s 3ms/step - loss: 3635.6846 - mae: 3635.6846\n",
            "Epoch 15/100\n",
            "36/36 [==============================] - 0s 2ms/step - loss: 3614.4443 - mae: 3614.4443\n",
            "Epoch 16/100\n",
            "36/36 [==============================] - 0s 2ms/step - loss: 3614.4675 - mae: 3614.4675\n",
            "Epoch 17/100\n",
            "36/36 [==============================] - 0s 2ms/step - loss: 3640.1108 - mae: 3640.1108\n",
            "Epoch 18/100\n",
            "36/36 [==============================] - 0s 3ms/step - loss: 3583.3857 - mae: 3583.3857\n",
            "Epoch 19/100\n",
            "36/36 [==============================] - 0s 2ms/step - loss: 3566.3826 - mae: 3566.3826\n",
            "Epoch 20/100\n",
            "36/36 [==============================] - 0s 2ms/step - loss: 3599.9387 - mae: 3599.9387\n",
            "Epoch 21/100\n",
            "36/36 [==============================] - 0s 2ms/step - loss: 3592.0920 - mae: 3592.0920\n",
            "Epoch 22/100\n",
            "36/36 [==============================] - 0s 2ms/step - loss: 3541.6660 - mae: 3541.6660\n",
            "Epoch 23/100\n",
            "36/36 [==============================] - 0s 3ms/step - loss: 3595.0786 - mae: 3595.0786\n",
            "Epoch 24/100\n",
            "36/36 [==============================] - 0s 2ms/step - loss: 3552.6997 - mae: 3552.6997\n",
            "Epoch 25/100\n",
            "36/36 [==============================] - 0s 3ms/step - loss: 3557.2788 - mae: 3557.2788\n",
            "Epoch 26/100\n",
            "36/36 [==============================] - 0s 2ms/step - loss: 3603.8438 - mae: 3603.8438\n",
            "Epoch 27/100\n",
            "36/36 [==============================] - 0s 2ms/step - loss: 3554.2544 - mae: 3554.2544\n",
            "Epoch 28/100\n",
            "36/36 [==============================] - 0s 2ms/step - loss: 3547.4182 - mae: 3547.4182\n",
            "Epoch 29/100\n",
            "36/36 [==============================] - 0s 3ms/step - loss: 3565.0918 - mae: 3565.0918\n",
            "Epoch 30/100\n",
            "36/36 [==============================] - 0s 2ms/step - loss: 3574.8350 - mae: 3574.8350\n",
            "Epoch 31/100\n",
            "36/36 [==============================] - 0s 3ms/step - loss: 3548.4343 - mae: 3548.4343\n",
            "Epoch 32/100\n",
            "36/36 [==============================] - 0s 3ms/step - loss: 3556.4900 - mae: 3556.4900\n",
            "Epoch 33/100\n",
            "36/36 [==============================] - 0s 2ms/step - loss: 3567.3330 - mae: 3567.3330\n",
            "Epoch 34/100\n",
            "36/36 [==============================] - 0s 2ms/step - loss: 3598.3752 - mae: 3598.3752\n",
            "Epoch 35/100\n",
            "36/36 [==============================] - 0s 2ms/step - loss: 3589.7852 - mae: 3589.7852\n",
            "Epoch 36/100\n",
            "36/36 [==============================] - 0s 2ms/step - loss: 3590.8115 - mae: 3590.8115\n",
            "Epoch 37/100\n",
            "36/36 [==============================] - 0s 2ms/step - loss: 3537.0215 - mae: 3537.0215\n",
            "Epoch 38/100\n",
            "36/36 [==============================] - 0s 2ms/step - loss: 3573.1584 - mae: 3573.1584\n",
            "Epoch 39/100\n",
            "36/36 [==============================] - 0s 2ms/step - loss: 3574.5623 - mae: 3574.5623\n",
            "Epoch 40/100\n",
            "36/36 [==============================] - 0s 3ms/step - loss: 3580.5591 - mae: 3580.5591\n",
            "Epoch 41/100\n",
            "36/36 [==============================] - 0s 3ms/step - loss: 3547.9858 - mae: 3547.9858\n",
            "Epoch 42/100\n",
            "36/36 [==============================] - 0s 3ms/step - loss: 3551.8330 - mae: 3551.8330\n",
            "Epoch 43/100\n",
            "36/36 [==============================] - 0s 2ms/step - loss: 3580.3745 - mae: 3580.3745\n",
            "Epoch 44/100\n",
            "36/36 [==============================] - 0s 2ms/step - loss: 3582.4746 - mae: 3582.4746\n",
            "Epoch 45/100\n",
            "36/36 [==============================] - 0s 2ms/step - loss: 3600.4792 - mae: 3600.4792\n",
            "Epoch 46/100\n",
            "36/36 [==============================] - 0s 2ms/step - loss: 3602.4634 - mae: 3602.4634\n",
            "Epoch 47/100\n",
            "36/36 [==============================] - 0s 2ms/step - loss: 3549.7327 - mae: 3549.7327\n",
            "Epoch 48/100\n",
            "36/36 [==============================] - 0s 3ms/step - loss: 3624.3245 - mae: 3624.3245\n",
            "Epoch 49/100\n",
            "36/36 [==============================] - 0s 4ms/step - loss: 3579.7302 - mae: 3579.7302\n",
            "Epoch 50/100\n",
            "36/36 [==============================] - 0s 4ms/step - loss: 3557.6060 - mae: 3557.6060\n",
            "Epoch 51/100\n",
            "36/36 [==============================] - 0s 5ms/step - loss: 3588.0576 - mae: 3588.0576\n",
            "Epoch 52/100\n",
            "36/36 [==============================] - 0s 5ms/step - loss: 3550.2864 - mae: 3550.2864\n",
            "Epoch 53/100\n",
            "36/36 [==============================] - 0s 4ms/step - loss: 3560.6560 - mae: 3560.6560\n",
            "Epoch 54/100\n",
            "36/36 [==============================] - 0s 6ms/step - loss: 3575.5498 - mae: 3575.5498\n",
            "Epoch 55/100\n",
            "36/36 [==============================] - 0s 5ms/step - loss: 3544.5410 - mae: 3544.5410\n",
            "Epoch 56/100\n",
            "36/36 [==============================] - 0s 5ms/step - loss: 3558.4731 - mae: 3558.4731\n",
            "Epoch 57/100\n",
            "36/36 [==============================] - 0s 5ms/step - loss: 3574.5811 - mae: 3574.5811\n",
            "Epoch 58/100\n",
            "36/36 [==============================] - 0s 4ms/step - loss: 3601.2961 - mae: 3601.2961\n",
            "Epoch 59/100\n",
            "36/36 [==============================] - 0s 2ms/step - loss: 3637.7463 - mae: 3637.7463\n",
            "Epoch 60/100\n",
            "36/36 [==============================] - 0s 2ms/step - loss: 3557.5168 - mae: 3557.5168\n",
            "Epoch 61/100\n",
            "36/36 [==============================] - 0s 2ms/step - loss: 3569.6099 - mae: 3569.6099\n",
            "Epoch 62/100\n",
            "36/36 [==============================] - 0s 2ms/step - loss: 3570.9336 - mae: 3570.9336\n",
            "Epoch 63/100\n",
            "36/36 [==============================] - 0s 2ms/step - loss: 3576.5701 - mae: 3576.5701\n",
            "Epoch 64/100\n",
            "36/36 [==============================] - 0s 3ms/step - loss: 3548.4189 - mae: 3548.4189\n",
            "Epoch 65/100\n",
            "36/36 [==============================] - 0s 2ms/step - loss: 3515.0046 - mae: 3515.0046\n",
            "Epoch 66/100\n",
            "36/36 [==============================] - 0s 2ms/step - loss: 3596.5552 - mae: 3596.5552\n",
            "Epoch 67/100\n",
            "36/36 [==============================] - 0s 2ms/step - loss: 3559.1338 - mae: 3559.1338\n",
            "Epoch 68/100\n",
            "36/36 [==============================] - 0s 2ms/step - loss: 3552.4417 - mae: 3552.4417\n",
            "Epoch 69/100\n",
            "36/36 [==============================] - 0s 2ms/step - loss: 3546.3809 - mae: 3546.3809\n",
            "Epoch 70/100\n",
            "36/36 [==============================] - 0s 3ms/step - loss: 3556.5930 - mae: 3556.5930\n",
            "Epoch 71/100\n",
            "36/36 [==============================] - 0s 3ms/step - loss: 3597.8958 - mae: 3597.8958\n",
            "Epoch 72/100\n",
            "36/36 [==============================] - 0s 3ms/step - loss: 3616.9192 - mae: 3616.9192\n",
            "Epoch 73/100\n",
            "36/36 [==============================] - 0s 2ms/step - loss: 3544.5544 - mae: 3544.5544\n",
            "Epoch 74/100\n",
            "36/36 [==============================] - 0s 2ms/step - loss: 3589.8728 - mae: 3589.8728\n",
            "Epoch 75/100\n",
            "36/36 [==============================] - 0s 3ms/step - loss: 3582.4907 - mae: 3582.4907\n",
            "Epoch 76/100\n",
            "36/36 [==============================] - 0s 2ms/step - loss: 3576.5854 - mae: 3576.5854\n",
            "Epoch 77/100\n",
            "36/36 [==============================] - 0s 2ms/step - loss: 3533.8972 - mae: 3533.8972\n",
            "Epoch 78/100\n",
            "36/36 [==============================] - 0s 3ms/step - loss: 3555.3198 - mae: 3555.3198\n",
            "Epoch 79/100\n",
            "36/36 [==============================] - 0s 4ms/step - loss: 3574.4697 - mae: 3574.4697\n",
            "Epoch 80/100\n",
            "36/36 [==============================] - 0s 4ms/step - loss: 3552.7981 - mae: 3552.7981\n",
            "Epoch 81/100\n",
            "36/36 [==============================] - 0s 2ms/step - loss: 3581.1917 - mae: 3581.1917\n",
            "Epoch 82/100\n",
            "36/36 [==============================] - 0s 2ms/step - loss: 3601.4902 - mae: 3601.4902\n",
            "Epoch 83/100\n",
            "36/36 [==============================] - 0s 3ms/step - loss: 3544.2454 - mae: 3544.2454\n",
            "Epoch 84/100\n",
            "36/36 [==============================] - 0s 3ms/step - loss: 3561.0696 - mae: 3561.0696\n",
            "Epoch 85/100\n",
            "36/36 [==============================] - 0s 2ms/step - loss: 3576.6702 - mae: 3576.6702\n",
            "Epoch 86/100\n",
            "36/36 [==============================] - 0s 2ms/step - loss: 3578.9060 - mae: 3578.9060\n",
            "Epoch 87/100\n",
            "36/36 [==============================] - 0s 3ms/step - loss: 3520.3425 - mae: 3520.3425\n",
            "Epoch 88/100\n",
            "36/36 [==============================] - 0s 3ms/step - loss: 3562.8816 - mae: 3562.8816\n",
            "Epoch 89/100\n",
            "36/36 [==============================] - 0s 2ms/step - loss: 3529.8911 - mae: 3529.8911\n",
            "Epoch 90/100\n",
            "36/36 [==============================] - 0s 2ms/step - loss: 3557.0918 - mae: 3557.0918\n",
            "Epoch 91/100\n",
            "36/36 [==============================] - 0s 4ms/step - loss: 3513.5730 - mae: 3513.5730\n",
            "Epoch 92/100\n",
            "36/36 [==============================] - 0s 5ms/step - loss: 3591.1960 - mae: 3591.1960\n",
            "Epoch 93/100\n",
            "36/36 [==============================] - 0s 5ms/step - loss: 3558.4585 - mae: 3558.4585\n",
            "Epoch 94/100\n",
            "36/36 [==============================] - 0s 4ms/step - loss: 3551.4778 - mae: 3551.4778\n",
            "Epoch 95/100\n",
            "36/36 [==============================] - 0s 4ms/step - loss: 3589.6853 - mae: 3589.6853\n",
            "Epoch 96/100\n",
            "36/36 [==============================] - 0s 5ms/step - loss: 3576.9753 - mae: 3576.9753\n",
            "Epoch 97/100\n",
            "36/36 [==============================] - 0s 4ms/step - loss: 3557.2310 - mae: 3557.2310\n",
            "Epoch 98/100\n",
            "36/36 [==============================] - 0s 4ms/step - loss: 3563.0840 - mae: 3563.0840\n",
            "Epoch 99/100\n",
            "36/36 [==============================] - 0s 3ms/step - loss: 3578.0454 - mae: 3578.0454\n",
            "Epoch 100/100\n",
            "36/36 [==============================] - 0s 2ms/step - loss: 3511.1294 - mae: 3511.1294\n"
          ]
        },
        {
          "output_type": "execute_result",
          "data": {
            "text/plain": [
              "<keras.callbacks.History at 0x7f7eb197c490>"
            ]
          },
          "metadata": {},
          "execution_count": 75
        }
      ]
    },
    {
      "cell_type": "code",
      "source": [
        "# evaluate insurance model 3 on normalised data\n",
        "\n",
        "insurance_model_3.evaluate(X_test_normal, y_test)"
      ],
      "metadata": {
        "colab": {
          "base_uri": "https://localhost:8080/"
        },
        "id": "OmZttY8niia2",
        "outputId": "730eec47-6da9-4a9e-c091-3a782474276d"
      },
      "execution_count": 76,
      "outputs": [
        {
          "output_type": "stream",
          "name": "stdout",
          "text": [
            "7/7 [==============================] - 0s 4ms/step - loss: 3179.0581 - mae: 3179.0581\n"
          ]
        },
        {
          "output_type": "execute_result",
          "data": {
            "text/plain": [
              "[3179.05810546875, 3179.05810546875]"
            ]
          },
          "metadata": {},
          "execution_count": 76
        }
      ]
    },
    {
      "cell_type": "code",
      "source": [],
      "metadata": {
        "id": "xlTGsvp9ipNP"
      },
      "execution_count": null,
      "outputs": []
    }
  ]
}